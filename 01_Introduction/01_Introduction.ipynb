{
 "cells": [
  {
   "cell_type": "markdown",
   "metadata": {
    "slideshow": {
     "slide_type": "slide"
    }
   },
   "source": [
    "<img src=\"img/bigsem.png\" width=\"40%\" align=\"right\">\n",
    "<img src=\"img/logo_wiwi.png\" width=\"20%\" align=\"left\">\n",
    "\n",
    "\n",
    "\n",
    "\n",
    "\n",
    "<br><br><br><br>\n",
    "\n",
    "## Decision-Focused Analytics\n",
    "**Winter Term 2021/22**\n",
    "\n",
    "\n",
    "# 1. Introduction\n",
    "\n",
    "<img src=\"img/decision_analytics_logo.png\" width=\"17%\" align=\"right\">\n",
    "\n",
    "\n",
    "<br>\n",
    "\n",
    "<br>\n",
    "<br>\n",
    "\n",
    "**J-Prof. Dr. Michael Römer |  Decision Analytics Group**\n",
    "                                                    \n"
   ]
  },
  {
   "cell_type": "code",
   "execution_count": null,
   "metadata": {
    "slideshow": {
     "slide_type": "skip"
    }
   },
   "outputs": [],
   "source": [
    "import matplotlib.pyplot as plt\n",
    "import numpy as np"
   ]
  },
  {
   "cell_type": "markdown",
   "metadata": {
    "cell_style": "center",
    "slideshow": {
     "slide_type": "slide"
    }
   },
   "source": [
    "## Overview\n",
    "\n",
    "- Getting to know each other\n",
    "- Motivating topics of the course\n",
    "- Course Organisation\n"
   ]
  },
  {
   "cell_type": "markdown",
   "metadata": {
    "slideshow": {
     "slide_type": "slide"
    }
   },
   "source": [
    "## Getting to Know Me"
   ]
  },
  {
   "cell_type": "markdown",
   "metadata": {
    "cell_style": "center",
    "hide_input": true,
    "slideshow": {
     "slide_type": "-"
    }
   },
   "source": [
    "### Short Bio\n",
    "- Studied \"Wirtschaftsinformatik\" (Information Systems) at Paderborn University\n",
    "- PhD from Martin Luther University Halle-Wittenberg \\\\ Topic: Airline Crew Planning and Scheduling \n",
    "- 2017-2019 Postdoctoral research stay in Toronto / Montréal\n",
    "- since December 2019: Junior Professor at Bielefeld University leading the research group Decision Analytics funded by the \"NRW Rückkehrprogramm\""
   ]
  },
  {
   "cell_type": "markdown",
   "metadata": {
    "cell_style": "split",
    "hide_input": true,
    "slideshow": {
     "slide_type": "fragment"
    }
   },
   "source": [
    "## Research: Methods\n",
    "- Mathematical Programming / Combinatorial Optimization\n",
    "- Graph/Network-based Modeling of Optimization Problems\n",
    "- Decision Diagrams\n",
    "- Simulation\n",
    "- Machine Learning (for Optimization)"
   ]
  },
  {
   "cell_type": "markdown",
   "metadata": {
    "cell_style": "split",
    "hide_input": true,
    "slideshow": {
     "slide_type": "fragment"
    }
   },
   "source": [
    "## Research: Appliciation Fields\n",
    "- **Logistics** Airlines, Bike Sharing, Production Logistics\n",
    "- **Personnel Scheduling** Crew Scheduling, Employee Shift Scheduling\n",
    "- **Health Care** Clinical Pathway Planning, Nurse Scheduling,ICU capacity planning"
   ]
  },
  {
   "cell_type": "markdown",
   "metadata": {
    "slideshow": {
     "slide_type": "slide"
    }
   },
   "source": [
    "## Getting to Know You\n",
    "\n",
    "**Please introduce yourself:**\n",
    "- What is your background / institution / working group?\n",
    "- Are you a BiGSEM student? In which track?\n",
    "- What is your PhD topic?\n",
    "- Do you use Analytics / Data Science / OR in your research?\n",
    "- Shortly sketch a recent article or your Master thesis!\n"
   ]
  },
  {
   "cell_type": "markdown",
   "metadata": {
    "slideshow": {
     "slide_type": "slide"
    }
   },
   "source": [
    "\n",
    "\n",
    "\n",
    "## Analytics and Decisions\n",
    "\n",
    "<img src=\"img/Wikipedia.png\" width=\"10%\" align=\"right\">\n",
    "\n",
    "\n",
    "\n",
    "**Analytics** is the systematic computational analysis of data or\n",
    "statistics. It is used for the discovery, interpretation, and\n",
    "communication of meaningful patterns in data. \n",
    "\n",
    "\n",
    "It also entails applying\n",
    "data patterns towards effective **decision making**. It can be valuable in\n",
    "areas rich with recorded information; analytics relies on the\n",
    "simultaneous application of statistics, computer programming and\n",
    "operations research to quantify performance.\n",
    "\n",
    "**Source:** Wikipedia"
   ]
  },
  {
   "cell_type": "markdown",
   "metadata": {
    "slideshow": {
     "slide_type": "slide"
    }
   },
   "source": [
    "## A Simplified Motivation for the Course\n",
    "\n",
    "\n",
    "#### Data Sciene and Machine Learning Courses\n",
    "- focus on descriptive and predicive analytics\n",
    "- tend to neglect decision making (prescriptive analytics)"
   ]
  },
  {
   "cell_type": "markdown",
   "metadata": {
    "slideshow": {
     "slide_type": "fragment"
    }
   },
   "source": [
    "#### Operations Research and Optimization Courses\n",
    "- focus on hard (deterministic) optimization problems\n",
    "- tend to neglect uncertainty"
   ]
  },
  {
   "cell_type": "markdown",
   "metadata": {
    "slideshow": {
     "slide_type": "fragment"
    }
   },
   "source": [
    "#### This course\n",
    "- combines techniques both fields for learning about\n",
    " decision making and optimization under uncertainty."
   ]
  },
  {
   "cell_type": "markdown",
   "metadata": {
    "slideshow": {
     "slide_type": "slide"
    }
   },
   "source": [
    "## A Simplific Motivation for the Course for PhD students\n",
    "\n",
    "- you may get an idea / learn a new set of approaches for one of your next papers\n",
    "  - extend your deterministic OR paper by accounting for uncertainty\n",
    "  - extend your simulation paper by incorporating / emphasizing decisions / optimization\n",
    "  \n",
    "\n",
    "\n"
   ]
  },
  {
   "cell_type": "markdown",
   "metadata": {
    "slideshow": {
     "slide_type": "slide"
    }
   },
   "source": [
    "## Course Goal\n",
    "\n",
    "#### In this course, you learn\n",
    "- how to combine techniques from Data Science and Operations Research\n",
    "  for decision-making and optimization under uncertainty\n",
    "- how to implement these techniques in Python\n",
    "\n",
    "#### Ideally, after the course\n",
    "- you are able to employ these techniques in your own research"
   ]
  },
  {
   "cell_type": "markdown",
   "metadata": {
    "slideshow": {
     "slide_type": "slide"
    }
   },
   "source": [
    "## General Course Outline\n",
    "\n",
    "\n",
    "#### Part 1 (starting now): Integrated Lecture / Exercise\n",
    "- lecture-style content presentation from Jupyter-based slides\n",
    "- Python implementation and hands-on exercises\n",
    "\n",
    "\n",
    "#### Part 2: Paper Presentations\n",
    "- each participant is assigned a paper (of choice)\n",
    "- presentation of the paper contents to the group **(Dec / Jan)** \n",
    "\n",
    "\n",
    "#### Part 3: Course Projects\n",
    "- a small group project related to the course topics\n",
    "- ideally related to your PhD \n",
    "- presentation of the project **(Feb / Mar)**\n",
    "- great opportunity for starting collaboration: last year, two projects initiated joint paper projects\n",
    "\n",
    "**Probably:** A guest talk"
   ]
  },
  {
   "cell_type": "markdown",
   "metadata": {
    "slideshow": {
     "slide_type": "slide"
    }
   },
   "source": [
    "## Grading / Coursework \n",
    "\n",
    "#### If you do not need a grade / proof of participation, feel free to\n",
    "- participate in the parts of the course that seem helpful to you\n",
    "- participate in the paper and project presentations without given one\n",
    "\n",
    "\n",
    "**BiGSEM-students** course can use this course either as **elective** or as **field course**:\n",
    "\n",
    "**Elective**\n",
    "- paper and project presentations as \"ungraded academic achievement\"\n",
    "\n",
    "**Field Course** \n",
    "- paper and project presentations as \"required achievements\"\n",
    "- project paper as \"graded achievement\"\n"
   ]
  },
  {
   "cell_type": "markdown",
   "metadata": {
    "slideshow": {
     "slide_type": "slide"
    }
   },
   "source": [
    "##  Planned Schedule and Contents\n",
    "\n",
    "We will have **four blocks** of **2:30 h**, **Thursdays at 16:00 h** (Bielefeld) / **10:00 am** (Montréal)\n",
    "\n",
    "\n",
    "#### Block 1 (today) Introduction    \n",
    "- introduction and organization\n",
    "- introduction to decision-making under uncertainty\n",
    "\n",
    "\n",
    "#### Block 2 (Oct 28): Decision-Making and Optimization under Uncertainty, Value of Information\n",
    "\n",
    "- decision trees \n",
    "- stochastic linear programming\n",
    "- value of information and value of accounting for uncertainty\n",
    "\n",
    "\n",
    "#### Block 3  (Nov 4): Joint Distributions and Probabilistic ML for Decision-Making and Optimization under Uncertainty         \n",
    "- dealing with multiple uncertain parameters\n",
    "- probabilistic machine learning and how to use in optimization under uncertainty\n",
    "\n",
    "#### Block 4 (Nov 18): Risk Aversion and Chance Constraint                \n",
    "- modelling risk aversion\n",
    "- chance-constrained programming"
   ]
  },
  {
   "cell_type": "markdown",
   "metadata": {
    "slideshow": {
     "slide_type": "slide"
    }
   },
   "source": [
    "## Adapting the Course to Your Needs and Interests\n",
    "\n",
    "#### Part 1\n",
    "\n",
    "What is your prior knowlege / skills with respect to:\n",
    "- the contents of the course\n",
    "- programming skills in general and Python in particular\n",
    "\n",
    "Is there any particular content you would like to be covered?\n",
    "\n",
    "\n",
    "#### Part 2\n",
    "- we will agree on a paper that fits both the course and your interests\n",
    "\n",
    "#### Part 3\n",
    "- we will try finding a project that is related to your PhD research and/or forms an interesting collaboration"
   ]
  }
 ],
 "metadata": {
  "celltoolbar": "Slideshow",
  "kernelspec": {
   "display_name": "Python 3",
   "language": "python",
   "name": "python3"
  },
  "language_info": {
   "codemirror_mode": {
    "name": "ipython",
    "version": 3
   },
   "file_extension": ".py",
   "mimetype": "text/x-python",
   "name": "python",
   "nbconvert_exporter": "python",
   "pygments_lexer": "ipython3",
   "version": "3.7.10"
  },
  "toc": {
   "base_numbering": 1,
   "nav_menu": {},
   "number_sections": false,
   "sideBar": true,
   "skip_h1_title": false,
   "title_cell": "Table of Contents",
   "title_sidebar": "Contents",
   "toc_cell": false,
   "toc_position": {},
   "toc_section_display": true,
   "toc_window_display": false
  },
  "varInspector": {
   "cols": {
    "lenName": 16,
    "lenType": 16,
    "lenVar": 40
   },
   "kernels_config": {
    "python": {
     "delete_cmd_postfix": "",
     "delete_cmd_prefix": "del ",
     "library": "var_list.py",
     "varRefreshCmd": "print(var_dic_list())"
    },
    "r": {
     "delete_cmd_postfix": ") ",
     "delete_cmd_prefix": "rm(",
     "library": "var_list.r",
     "varRefreshCmd": "cat(var_dic_list()) "
    }
   },
   "types_to_exclude": [
    "module",
    "function",
    "builtin_function_or_method",
    "instance",
    "_Feature"
   ],
   "window_display": false
  }
 },
 "nbformat": 4,
 "nbformat_minor": 2
}
