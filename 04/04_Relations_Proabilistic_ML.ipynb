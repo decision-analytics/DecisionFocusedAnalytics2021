{
 "cells": [
  {
   "cell_type": "markdown",
   "metadata": {
    "slideshow": {
     "slide_type": "slide"
    }
   },
   "source": [
    "<img src=\"img/bigsem.png\" width=\"40%\" align=\"right\">\n",
    "<img src=\"img/logo_wiwi.png\" width=\"20%\" align=\"left\">\n",
    "\n",
    "\n",
    "\n",
    "\n",
    "\n",
    "<br><br><br><br>\n",
    "\n",
    "## Decision-Focused Analytics\n",
    "**Winter Term 2021/22**\n",
    "\n",
    "\n",
    "# 4. Joint Distributions and Probabilistic ML Models for Decision-Making under Uncertainty\n",
    "\n",
    "<img src=\"img/decision_analytics_logo.png\" width=\"17%\" align=\"right\">\n",
    "\n",
    "\n",
    "<br>\n",
    "\n",
    "<br>\n",
    "<br>\n",
    "\n",
    "**J-Prof. Dr. Michael Römer |  Decision Analytics Group**\n",
    "                                                    \n"
   ]
  },
  {
   "cell_type": "code",
   "execution_count": 1,
   "metadata": {
    "slideshow": {
     "slide_type": "skip"
    }
   },
   "outputs": [],
   "source": [
    "import numpy as np\n",
    "from scipy import stats\n",
    "import matplotlib.pyplot as plt\n",
    "from numba import vectorize\n",
    "import pandas as pd\n",
    "import mip\n",
    "from mip import maximize\n"
   ]
  },
  {
   "cell_type": "markdown",
   "metadata": {
    "slideshow": {
     "slide_type": "slide"
    }
   },
   "source": [
    "## Overview: This Meeting\n",
    "\n",
    "Today, we consider the following topics:\n",
    "- relations / dependencies between uncertain quantities and their impact in \n",
    "  - decision making under uncertainty\n",
    "  - optimization under uncertainty\n",
    "- simple-to-use tools for probabilistic prediction / machine learning\n",
    "- a case study in which a probabilistic predicition model is embedded in an optimization model"
   ]
  },
  {
   "cell_type": "markdown",
   "metadata": {
    "slideshow": {
     "slide_type": "skip"
    }
   },
   "source": [
    "## In Case you are in Colab\n",
    "\n",
    "Please run\n",
    "\n",
    "%pip install ngboost\n",
    "\n",
    "%pip install gurobi\n",
    "\n",
    "%pip install janos"
   ]
  },
  {
   "cell_type": "markdown",
   "metadata": {
    "slideshow": {
     "slide_type": "slide"
    }
   },
   "source": [
    "# Interrelated Uncertain Quantities\n",
    "\n",
    "**We will consider:**\n",
    "- Case study emphasizing the importance of modelling relations in data\n",
    "- modelling relations with a multivariate normal distribution"
   ]
  },
  {
   "cell_type": "markdown",
   "metadata": {
    "slideshow": {
     "slide_type": "slide"
    }
   },
   "source": [
    "## Case Study: Machine Shutdowns\n",
    "\n",
    "\n",
    "Let us assume that your company is willing to buy a new processing machine for your main production line. The machine is highly efficient, but somewhat sensitive to the room climate: Whenever a certain temperature and humidity threshold is exceeded, it automatically turns itself down for one hour.\n",
    "\n",
    "To be more concrete, the machine turns itself off if:\n",
    "- the temperature is $\\geq$ 30 degrees Celsius\n",
    "\n",
    "**and at the same time**\n",
    "- the humidity is $\\geq$ 50 \\%\n",
    "\n",
    "You now ask yourself what is the expected shutdown rate (the fraction of hours the machine would shut down) in your factory.\n",
    "\n"
   ]
  },
  {
   "cell_type": "markdown",
   "metadata": {
    "slideshow": {
     "slide_type": "slide"
    }
   },
   "source": [
    "## Case Study: Historical Data\n",
    "\n",
    "Fortunately, you have collected 1000 hourly data points from your factory with temperature and humidity data:\n",
    "\n",
    "- temperatures\n",
    "- humidities"
   ]
  },
  {
   "cell_type": "code",
   "execution_count": 88,
   "metadata": {
    "slideshow": {
     "slide_type": "-"
    }
   },
   "outputs": [],
   "source": [
    "temperatures = np.loadtxt('data/temperatures.txt')\n",
    "humidities = np.loadtxt('data/humidities.txt')\n"
   ]
  },
  {
   "cell_type": "markdown",
   "metadata": {
    "slideshow": {
     "slide_type": "fragment"
    }
   },
   "source": [
    "**Task:**\n",
    "- Create a Histogram of both data sets\n",
    "- Fit a Distribution for each data set (assuming that both data sets are i.i.d.)\n",
    "- Use Monte-Carlo Simulation to estimate the shutdown rate of the machine\n",
    "\n"
   ]
  },
  {
   "cell_type": "code",
   "execution_count": 58,
   "metadata": {
    "scrolled": true,
    "slideshow": {
     "slide_type": "slide"
    }
   },
   "outputs": [
    {
     "data": {
      "image/png": "[encoded data removed]",
      "text/plain": [
       "<Figure size 432x288 with 1 Axes>"
      ]
     },
     "metadata": {
      "needs_background": "light"
     },
     "output_type": "display_data"
    }
   ],
   "source": [
    "data = humidities\n",
    "\n",
    "count, bins, ignored = plt.hist(data, bins=30, density=True, color='#EEEEEE', edgecolor=\"#AAAAAA\")"
   ]
  },
  {
   "cell_type": "code",
   "execution_count": 39,
   "metadata": {
    "slideshow": {
     "slide_type": "slide"
    }
   },
   "outputs": [
    {
     "data": {
      "image/png": "[encoded data removed]",
      "text/plain": [
       "<Figure size 432x288 with 1 Axes>"
      ]
     },
     "metadata": {
      "needs_background": "light"
     },
     "output_type": "display_data"
    }
   ],
   "source": [
    "from scipy.stats import norm\n",
    "params = norm.fit(temperatures) #floc=0 forbids shifting on the x-axis\n",
    "\n",
    "dist_normal_temperature = norm(*params)\n",
    "\n",
    "xx = np.linspace(0,np.max(temperatures)+5, 1000)\n",
    "plt.plot(xx, dist_normal_temperature.pdf(xx), linewidth=2);"
   ]
  },
  {
   "cell_type": "code",
   "execution_count": 40,
   "metadata": {
    "slideshow": {
     "slide_type": "slide"
    }
   },
   "outputs": [
    {
     "data": {
      "image/png": "[encoded data removed]",
      "text/plain": [
       "<Figure size 432x288 with 1 Axes>"
      ]
     },
     "metadata": {
      "needs_background": "light"
     },
     "output_type": "display_data"
    }
   ],
   "source": [
    "from scipy.stats import norm\n",
    "params = norm.fit(humidities) #floc=0 forbids shifting on the x-axis\n",
    "\n",
    "dist_normal_humidity = norm(*params)\n",
    "\n",
    "xx = np.linspace(0,np.max(humidities)+5, 1000)\n",
    "plt.plot(xx, dist_normal_humidity.pdf(xx), linewidth=2);"
   ]
  },
  {
   "cell_type": "code",
   "execution_count": 63,
   "metadata": {
    "slideshow": {
     "slide_type": "slide"
    }
   },
   "outputs": [],
   "source": [
    "samples_temperature = dist_normal_temperature.rvs(10000)\n",
    "samples_humidity = dist_normal_humidity.rvs(10000)"
   ]
  },
  {
   "cell_type": "code",
   "execution_count": 64,
   "metadata": {
    "slideshow": {
     "slide_type": "-"
    }
   },
   "outputs": [
    {
     "data": {
      "text/plain": [
       "0.0087"
      ]
     },
     "execution_count": 64,
     "metadata": {},
     "output_type": "execute_result"
    }
   ],
   "source": [
    "shutdowns = (samples_temperature >= 30) * (samples_humidity >= 50)\n",
    "np.mean(shutdowns)"
   ]
  },
  {
   "cell_type": "code",
   "execution_count": 67,
   "metadata": {
    "slideshow": {
     "slide_type": "slide"
    }
   },
   "outputs": [
    {
     "data": {
      "text/plain": [
       "0.026"
      ]
     },
     "execution_count": 67,
     "metadata": {},
     "output_type": "execute_result"
    }
   ],
   "source": [
    "shutdowns = (temperatures >= 30) * (humidities >= 50)\n",
    "np.mean(shutdowns)"
   ]
  },
  {
   "cell_type": "markdown",
   "metadata": {
    "slideshow": {
     "slide_type": "slide"
    }
   },
   "source": [
    "## But Wait: We Deal with Relations!\n",
    "\n",
    "Let us have a first have a look at the data:\n"
   ]
  },
  {
   "cell_type": "code",
   "execution_count": 15,
   "metadata": {
    "slideshow": {
     "slide_type": "-"
    }
   },
   "outputs": [
    {
     "data": {
      "image/png": "[encoded data removed]",
      "text/plain": [
       "<Figure size 432x288 with 1 Axes>"
      ]
     },
     "metadata": {
      "needs_background": "light"
     },
     "output_type": "display_data"
    }
   ],
   "source": [
    "plt.scatter(temperatures,humidities)\n",
    "plt.xlabel(\"Temperatures\")\n",
    "plt.ylabel(\"Humidity\");"
   ]
  },
  {
   "cell_type": "markdown",
   "metadata": {
    "slideshow": {
     "slide_type": "-"
    }
   },
   "source": [
    "...we see a clear relationship here!"
   ]
  },
  {
   "cell_type": "markdown",
   "metadata": {
    "slideshow": {
     "slide_type": "slide"
    }
   },
   "source": [
    "## Do these Relations Have an Impact?\n",
    "\n",
    "\n",
    "**Task:**\n",
    "- assume that the historical values were collected at the same points in time\n",
    "- use the historical values to compute the shutdown rate if the machine had already been operating!"
   ]
  },
  {
   "cell_type": "code",
   "execution_count": null,
   "metadata": {
    "slideshow": {
     "slide_type": "skip"
    }
   },
   "outputs": [],
   "source": []
  },
  {
   "cell_type": "markdown",
   "metadata": {
    "slideshow": {
     "slide_type": "slide"
    }
   },
   "source": [
    "## Quantifying Relations: Correlation and Covariance\n",
    "\n",
    "\n",
    "We can quantify by computing:\n",
    "- the correlation coefficient (gives us a matrix in which\n",
    "  the coefficient appears in upper right and lower left part of the matrix)\n",
    "\n",
    "\n"
   ]
  },
  {
   "cell_type": "code",
   "execution_count": 16,
   "metadata": {
    "slideshow": {
     "slide_type": "-"
    }
   },
   "outputs": [
    {
     "data": {
      "text/plain": [
       "array([[1.        , 0.45421731],\n",
       "       [0.45421731, 1.        ]])"
      ]
     },
     "execution_count": 16,
     "metadata": {},
     "output_type": "execute_result"
    }
   ],
   "source": [
    "np.corrcoef(temperatures,humidities)"
   ]
  },
  {
   "cell_type": "markdown",
   "metadata": {
    "slideshow": {
     "slide_type": "fragment"
    }
   },
   "source": [
    "\n",
    "- the covariance matrix\n"
   ]
  },
  {
   "cell_type": "code",
   "execution_count": 20,
   "metadata": {
    "slideshow": {
     "slide_type": "-"
    }
   },
   "outputs": [
    {
     "data": {
      "text/plain": [
       "array([[ 8.39845119,  5.10205791],\n",
       "       [ 5.10205791, 15.02326096]])"
      ]
     },
     "execution_count": 20,
     "metadata": {},
     "output_type": "execute_result"
    }
   ],
   "source": [
    "cov_matrix = np.cov(temperatures,humidities)\n",
    "cov_matrix"
   ]
  },
  {
   "cell_type": "markdown",
   "metadata": {
    "slideshow": {
     "slide_type": "-"
    }
   },
   "source": [
    "Here the matrix gives us:\n",
    "- upper left: the variance of the temperatures\n",
    "- lower right: the variance of the humidities\n",
    "- upper right and lower left: the covariance "
   ]
  },
  {
   "cell_type": "markdown",
   "metadata": {
    "slideshow": {
     "slide_type": "slide"
    }
   },
   "source": [
    "## Multivariate Normal Distribution\n",
    "\n",
    "Given \n",
    "- the observation that both temperature and \n",
    "\n",
    "we can use a **multivariate normal distribution** to model the joint distribution of temperature and humidity.\n",
    "\n",
    "The multivariate normal distribution takes two parameters:\n",
    "- the expected values of the normal random variables\n",
    "- the covariance matrix\n"
   ]
  },
  {
   "cell_type": "code",
   "execution_count": 22,
   "metadata": {
    "slideshow": {
     "slide_type": "-"
    }
   },
   "outputs": [],
   "source": [
    "from scipy.stats import multivariate_normal\n",
    "\n",
    "mv_norm = multivariate_normal(mean = [temperatures.mean(), humidities.mean()], cov = cov_matrix)\n",
    "\n"
   ]
  },
  {
   "cell_type": "markdown",
   "metadata": {
    "slideshow": {
     "slide_type": "slide"
    }
   },
   "source": [
    "## Sampling from the Multivariate Normal Distribution\n",
    "\n",
    "Let us sample from the multivariate normal distribution to compare the plot with our historical data:\n",
    "\n",
    "\n"
   ]
  },
  {
   "cell_type": "code",
   "execution_count": 68,
   "metadata": {
    "slideshow": {
     "slide_type": "-"
    }
   },
   "outputs": [
    {
     "name": "stdout",
     "output_type": "stream",
     "text": [
      "[[22.30966049 46.5706744 ]\n",
      " [22.89794553 45.02738235]\n",
      " [24.91137322 46.11066349]]\n"
     ]
    }
   ],
   "source": [
    "multivariate_samples = mv_norm.rvs(100000)\n",
    "print(multivariate_samples[0:3])"
   ]
  },
  {
   "cell_type": "code",
   "execution_count": 28,
   "metadata": {
    "slideshow": {
     "slide_type": "-"
    }
   },
   "outputs": [
    {
     "data": {
      "image/png": "[encoded data removed]",
      "text/plain": [
       "<Figure size 432x288 with 1 Axes>"
      ]
     },
     "metadata": {
      "needs_background": "light"
     },
     "output_type": "display_data"
    }
   ],
   "source": [
    "plt.scatter(multivariate_samples.T[0],multivariate_samples.T[1]);"
   ]
  },
  {
   "cell_type": "code",
   "execution_count": 71,
   "metadata": {
    "slideshow": {
     "slide_type": "slide"
    }
   },
   "outputs": [
    {
     "data": {
      "text/plain": [
       "0.02438"
      ]
     },
     "execution_count": 71,
     "metadata": {},
     "output_type": "execute_result"
    }
   ],
   "source": [
    "shutdowns = (multivariate_samples.T[0] >= 30) * (multivariate_samples.T[1] >= 50)\n",
    "np.mean(shutdowns)"
   ]
  },
  {
   "cell_type": "markdown",
   "metadata": {
    "slideshow": {
     "slide_type": "slide"
    }
   },
   "source": [
    "## Let us Now Simulate with the Multivariate Distribution\n",
    "\n",
    "**Task**\n",
    "- Use the multivariate normal distribution for simulating the rate of machine shutdowns\n",
    "Hint:\n",
    "- You can either do this in a loop, calling `rvs` in each loop or\n",
    "- or draw samples in advance and use those samples"
   ]
  },
  {
   "cell_type": "markdown",
   "metadata": {
    "slideshow": {
     "slide_type": "slide"
    }
   },
   "source": [
    "# Case Study: The Farmer's Problem"
   ]
  },
  {
   "cell_type": "markdown",
   "metadata": {
    "slideshow": {
     "slide_type": "slide"
    }
   },
   "source": [
    "## Case Study: A Farmer's Problem (Deterministic)\n",
    "\n",
    "- a farmer has 450 acres of farmland and now has to decide how many\n",
    "  acres to plant with the three crops wheat, corn and beets\n",
    "- he needs some amount of  each crop for feeding his cattle\n",
    "- if he harvests less than needed, he can buy crops on the market\n",
    "- surplus can be sold on the market\n",
    "\n",
    "\n",
    "| parameter          | unit       | wheat | corn | beets |\n",
    "|:-------------------|:-----------|-------|------|-------|\n",
    "| crop yield         | t per acre |   2.5 |    3 |    12 |\n",
    "| planting costs     | \\$ per acre |   150 |  180 |   210 |\n",
    "| needed for feeding | t          |   200 |  250 |   720 |\n",
    "| buying price       | \\$ per t    |   290 |  260 |    70 |\n",
    "| selling price      | \\$ per t    |   200 |  180 |    45 |\n",
    "\n",
    "**How much area should the farmer devote to each crop to maximize his profit?**\n"
   ]
  },
  {
   "cell_type": "markdown",
   "metadata": {
    "slideshow": {
     "slide_type": "slide"
    }
   },
   "source": [
    "## Farmer's Problem: Deterministic Model, Compact"
   ]
  },
  {
   "cell_type": "markdown",
   "metadata": {
    "cell_style": "split",
    "slideshow": {
     "slide_type": "-"
    }
   },
   "source": [
    "\n",
    "**Sets:**\n",
    "- $I$: the set of crops\n",
    "\n",
    "\n",
    "**Decision Variables:**\n",
    "- $x_i$: acres to plant with crop $i$\n",
    "- $y_i$: tons to buy from crop $i$\n",
    "- $z_i$: tons to sell from crop $i$"
   ]
  },
  {
   "cell_type": "markdown",
   "metadata": {
    "cell_style": "split",
    "slideshow": {
     "slide_type": "-"
    }
   },
   "source": [
    "\n",
    "**Parameters:**\n",
    "- $b$: acres available for planting\n",
    "- $c_i$: planting cost per acre of $i$\n",
    "- $d_i$: price for buying a ton of crop $i$ \n",
    "- $e_i$: price for selling a ton of crop $i$ \n",
    "- $h_i$: yield for crop $i$ in tons per acre\n",
    "- $o_i$: own demand in tons for crop $i$  \n",
    "\n"
   ]
  },
  {
   "cell_type": "markdown",
   "metadata": {
    "slideshow": {
     "slide_type": "-"
    }
   },
   "source": [
    "\\begin{align*}\n",
    "        \\max \\;          \\sum_{i \\in I}  (-c_i x_i &- d_i y_i + e_i z_i)  \\\\\n",
    "\t     \t\t \\sum_{i \\in I} x_i &\\leq b \\\\\n",
    "       \t     \t\t  h_i x_i + y_i  &= o_i + z_i \\qquad \\forall i \\in I \\\\\n",
    "                         x_i \\geq 0, y_i &\\geq 0, z_i \\geq 0  \\qquad \\forall i \\in I\n",
    "\\end{align*}"
   ]
  },
  {
   "cell_type": "markdown",
   "metadata": {
    "slideshow": {
     "slide_type": "slide"
    }
   },
   "source": [
    "## Farmer's Problem: Deterministic Model in Python\n",
    "\n"
   ]
  },
  {
   "cell_type": "code",
   "execution_count": 11,
   "metadata": {
    "slideshow": {
     "slide_type": "-"
    }
   },
   "outputs": [],
   "source": [
    "# Create a new model\n",
    "m = mip.Model(\"Farmers_problem_deterministic\")\n",
    "\n",
    "crop_strings=['Wheat','Corn','Beets']\n",
    "\n",
    "#sets\n",
    "crops =range(3)\n",
    "\n",
    "#parameters\n",
    "area = 450\n",
    "\n",
    "crop_yield = [2.5, 3, 12]\n",
    "plant_cost = [150, 180, 210]\n",
    "needed_for_feeding = [200, 250, 720]\n",
    "buy_price = [290, 260, 70]\n",
    "sell_price = [200, 180, 45]\n",
    "\n",
    "#decision variables\n",
    "plant =  [m.add_var(name=f\"plant{crop}\" , lb= 0) for crop in crops]\n",
    "buy = [m.add_var(name=f\"buy{crop}\", lb= 0) for crop in crops]\n",
    "sell =[m.add_var(name=f\"sell{crop}\", lb= 0) for crop in crops]\n",
    "\n",
    "m.objective = maximize(sum( -plant_cost[crop]*plant[crop] + sell_price[crop]*sell[crop] - buy_price[crop]*buy[crop] for crop in crops) )\n",
    "\n",
    "m += sum( plant[crop] for crop in crops ) <= area \n",
    "\n",
    "for crop in crops:\n",
    "    m += crop_yield[crop] * plant[crop] + buy[crop] == needed_for_feeding[crop] + sell[crop] "
   ]
  },
  {
   "cell_type": "markdown",
   "metadata": {
    "slideshow": {
     "slide_type": "slide"
    }
   },
   "source": [
    "## Farmer's Problem: Deterministic Model in Python\n",
    "\n",
    "Let us solve the model here:"
   ]
  },
  {
   "cell_type": "code",
   "execution_count": 12,
   "metadata": {
    "slideshow": {
     "slide_type": "-"
    }
   },
   "outputs": [
    {
     "name": "stdout",
     "output_type": "stream",
     "text": [
      "Decisions for Wheat\n",
      "Planting decision 80.0\n",
      "Buying decision 0.0\n",
      "Selling decision 0.0\n",
      "\n",
      "Decisions for Corn\n",
      "Planting decision 310.0\n",
      "Buying decision 0.0\n",
      "Selling decision 680.0\n",
      "\n",
      "Decisions for Beets\n",
      "Planting decision 60.0\n",
      "Buying decision 0.0\n",
      "Selling decision 0.0\n",
      "\n",
      "Total Profit: 42000.0\n"
     ]
    }
   ],
   "source": [
    "m.optimize()\n",
    "\n",
    "deterministic_planting_decisions = [plant[crop].x for crop in crops]\n",
    "\n",
    "for crop in crops:\n",
    "    print ('Decisions for ' + crop_strings[crop])\n",
    "    print(f'Planting decision {plant[crop].x}')\n",
    "    print(f'Buying decision {buy[crop].x}')\n",
    "    print(f'Selling decision {sell[crop].x}\\n')\n",
    "    \n",
    "    \n",
    "print(f'Total Profit: {m.objective_value}' )"
   ]
  },
  {
   "cell_type": "markdown",
   "metadata": {
    "slideshow": {
     "slide_type": "slide"
    }
   },
   "source": [
    "# Extension: Uncertain Crop Yields"
   ]
  },
  {
   "cell_type": "markdown",
   "metadata": {
    "slideshow": {
     "slide_type": "slide"
    }
   },
   "source": [
    "## Extension: Uncertain Crop Yields $h_i$\n",
    "\n",
    "\n",
    "**Crop yields are subject to uncertainty**\n",
    "- we now assume that crop yields are uncertain\n",
    "  - we assume that we have a **joint distribution** for yields accounting\n",
    "    for causal structure\n",
    "- planting decisions have to be taken before knowing crop yields\n",
    "- buying and selling can happen after harvesting the crops\n",
    "- we assume that buying and selling prices are **not** affected by uncertainty\n",
    "\n",
    "<img width='90%' src='img/farmer_information_structure.png'>"
   ]
  },
  {
   "cell_type": "markdown",
   "metadata": {
    "slideshow": {
     "slide_type": "slide"
    }
   },
   "source": [
    "## Extension: Uncertain Crop Yields $h_i$\n",
    "\n",
    "\n",
    "\n",
    "**Scenario-based representation of uncertainty:**\n",
    "- we assume that we can represent the joint distribution (a multivariate normal distribution) of the crop\n",
    "  yields $h_i$ using a set of scenarios $S$ \n",
    "- we have then have yield values $h_{is}$ for each scenario $s$\n",
    "- buying and selling decisions also get a scenario index \n",
    "\n",
    "<img width='90%' src='img/farmer_scenarios.png'>\n"
   ]
  },
  {
   "cell_type": "markdown",
   "metadata": {
    "slideshow": {
     "slide_type": "slide"
    }
   },
   "source": [
    "## Extension: Uncertain Crop Yields $h_i$\n",
    "\n",
    "**Creating samples in Python**\n",
    "- we now create the multivariate normal distribution and sample from it"
   ]
  },
  {
   "cell_type": "code",
   "execution_count": 13,
   "metadata": {
    "slideshow": {
     "slide_type": "-"
    }
   },
   "outputs": [
    {
     "data": {
      "text/plain": [
       "array([ 2.97539147,  2.36685394, 13.37949139])"
      ]
     },
     "execution_count": 13,
     "metadata": {},
     "output_type": "execute_result"
    }
   ],
   "source": [
    "from scipy.stats import multivariate_normal\n",
    "from scipy.stats import norm\n",
    "import math\n",
    "\n",
    "# means and covariances are needed for the joint distiribution\n",
    "crop_yield = [2.5, 3, 12]\n",
    "\n",
    "covs = [[0.3, 0.3, -0.2],\n",
    "         [0.3,0.7,-0.2],\n",
    "         [-0.2,-0.2,2]]\n",
    "\n",
    "\n",
    "\n",
    "joint_distribution = multivariate_normal(mean = crop_yield, cov = covs)\n",
    "\n",
    "# Generate some samples from the joint distribution\n",
    "n_samples = 2000\n",
    "crop_yield_samples_consistent = joint_distribution.rvs(n_samples).transpose()\n",
    "\n",
    "joint_distribution.rvs()"
   ]
  },
  {
   "cell_type": "markdown",
   "metadata": {
    "slideshow": {
     "slide_type": "slide"
    }
   },
   "source": [
    "## Structure of the Stochastic Programming Model \n",
    "\n",
    "**Model structure**\n",
    "- the area constraint is a **first-stage constraint**\n",
    "- the balance constraints are scenario-dependent **second-stage constraints**\n",
    "\n",
    "<img width='90%' src='img/farmer_model_structure.png'>\n",
    "\n",
    "- the **objective function** involves the first-stage planting costs and\n",
    "  the expected value of the second-stage profits\n",
    "\n"
   ]
  },
  {
   "cell_type": "markdown",
   "metadata": {
    "slideshow": {
     "slide_type": "slide"
    }
   },
   "source": [
    "## Case Study: Two-stage Stochastic Programming Model\n",
    "\n",
    "\n",
    "- new set $S$: scenarios\n",
    "- the yield parameter gets a scenario index:\n",
    "  - $h_{is}$: yield for crop $i$ in tons per acre in scenario $s$\n",
    "-  buying and selling  are now second-stage decisions with scenario indexes: \n",
    "  - $y_{is}$: tons to buy from crop $i$ in scenario $s$\n",
    "  - $z_{is}$: tons to sell from crop $i$ in scenario $s$\n",
    "\n",
    "\n",
    "\\begin{align*}\n",
    "        \\max \\;          \\sum_{i \\in I}  -c_i x_i  + \\sum_{s \\in S} p_s  &\\sum_{i \\in I}  (- d_i y_{is} + e_i z_{is})  \\\\\n",
    "\t     \t\t \\sum_{i \\in I} x_i &\\leq b \\\\\n",
    "       \t     \t\t  h_{is} x_i + y_{is}  &= o_i + z_{is} \\qquad  \\forall i \\in I, s \\in S \\\\\n",
    "                         x_i &\\geq 0  \\qquad \\qquad \\forall i \\in I \\\\\n",
    "\t\t\t  y_{is} \\geq 0, z_{is} &\\geq 0  \\qquad \\qquad  \\forall i \\in I, s \\in S\n",
    "\\end{align*}\n"
   ]
  },
  {
   "cell_type": "markdown",
   "metadata": {
    "slideshow": {
     "slide_type": "slide"
    }
   },
   "source": [
    "## Case Study: Two-stage Stochastic Programming Model in Python\n",
    "\n"
   ]
  },
  {
   "cell_type": "code",
   "execution_count": 17,
   "metadata": {
    "slideshow": {
     "slide_type": "-"
    }
   },
   "outputs": [],
   "source": [
    "m = mip.Model(\"Farmers_problem_stochastic\")\n",
    "\n",
    "#sets\n",
    "n_scenarios = crop_yield_samples_consistent[0].size\n",
    "scenarios  = np.arange(n_scenarios)\n",
    "crop_yield = crop_yield_samples_consistent\n",
    "\n",
    "prob = [1.0/n_scenarios for scenario in scenarios]\n",
    "\n",
    "#decision variables   \n",
    "plant =  [m.add_var(name=f\"plant{crop}\" , lb= 0) for crop in crops]\n",
    "\n",
    "#second-stage decisions\n",
    "# buy[crop][scenario]: Be careful since the order of the looping expression is non-intuitive\n",
    "buy = [[m.add_var(name=f\"buy{crop}_{s}\", lb= 0) for s in scenarios ]  for crop in crops]\n",
    "\n",
    "sell = [[ m.add_var(name=f\"sell{crop}_{s}\", lb= 0) for s in scenarios ]  for crop in crops]\n",
    "\n",
    "profit = [m.add_var(name=\"profit\", lb= -np.inf) for s in scenarios]\n",
    "\n",
    "m.objective = maximize ( sum (prob[scenario]*profit[scenario] for scenario in scenarios) )\n",
    "\n",
    "# area constraint   \n",
    "m += sum( plant[crop] for crop in crops ) <= area \n",
    "\n",
    "\n",
    "#second-stage constraints \n",
    "for s in scenarios:\n",
    "    #computing profit\n",
    "    m += profit[s] == sum( -plant_cost[crop]*plant[crop] + sell_price[crop]*sell[crop][s] - buy_price[crop]*buy[crop][s] for crop in crops )\n",
    "\n",
    "    # balance constraints\n",
    "    for crop in crops:        \n",
    "        m += crop_yield[crop][s] * plant[crop] + buy[crop][s] == needed_for_feeding[crop] + sell[crop][s]"
   ]
  },
  {
   "cell_type": "markdown",
   "metadata": {
    "slideshow": {
     "slide_type": "slide"
    }
   },
   "source": [
    "## Case Study: Two-stage Stochastic Programming Model in Python\n",
    "\n",
    "Let us solve the model now:"
   ]
  },
  {
   "cell_type": "code",
   "execution_count": 18,
   "metadata": {
    "slideshow": {
     "slide_type": "-"
    }
   },
   "outputs": [
    {
     "name": "stdout",
     "output_type": "stream",
     "text": [
      "Planting decision for Wheat: 113.67\n",
      "Planting decision for Corn: 267.08\n",
      "Planting decision for Beets: 69.25\n",
      "Expected Profit: 41521.39\n"
     ]
    }
   ],
   "source": [
    "m.optimize()\n",
    "\n",
    "\n",
    "for crop in crops:\n",
    "    print(f'Planting decision for {crop_strings[crop]}: {plant[crop].x:0.2f}')\n",
    "\n",
    "print(f'Expected Profit: {m.objective_value:0.2f}' )"
   ]
  },
  {
   "cell_type": "markdown",
   "metadata": {
    "slideshow": {
     "slide_type": "slide"
    }
   },
   "source": [
    "# Exercise: The Importance of Properly Accounting for Dependencies in Uncertain Parameters"
   ]
  },
  {
   "cell_type": "markdown",
   "metadata": {
    "slideshow": {
     "slide_type": "slide"
    }
   },
   "source": [
    "## The Importance of Properly Accounting for Dependencies in Uncertain Parameters\n",
    "\n",
    "- as mentioned above, we assume that the crop yield distributions for the different crops are not independent of each other\n",
    "- as a consequence, we used a multivariate normal distribution to model these dependencies \n",
    "- and drew samples from the joint distributions in order to obtain **consistent scenarios**\n",
    "\n",
    "The following plots should visualize the dependencies between the data sets:\n",
    "\n"
   ]
  },
  {
   "cell_type": "code",
   "execution_count": 22,
   "metadata": {
    "hide_input": false,
    "scrolled": true,
    "slideshow": {
     "slide_type": "-"
    }
   },
   "outputs": [
    {
     "data": {
      "image/png": "[encoded data removed]",
      "text/plain": [
       "<Figure size 1296x288 with 3 Axes>"
      ]
     },
     "metadata": {
      "needs_background": "light"
     },
     "output_type": "display_data"
    }
   ],
   "source": [
    "#only for the plots\n",
    "xx = [0,0,1]\n",
    "yy = [1,2,2]\n",
    "\n",
    "crop_strings=['Wheat','Corn','Beets']\n",
    "\n",
    "fig, axes = plt.subplots(1, len(xx), figsize=(6*len(xx), 4), constrained_layout=True)\n",
    "\n",
    "for ax_index in range(3):\n",
    "    axes[ax_index].scatter(crop_yield_samples_consistent[xx[ax_index]],crop_yield_samples_consistent[yy[ax_index]],s=1)\n",
    "    axes[ax_index].set_xlabel(crop_strings[xx[ax_index]], fontsize=16)\n",
    "    axes[ax_index].set_ylabel(crop_strings[yy[ax_index]], fontsize=16)\n",
    "    \n",
    "#plt.savefig(\"scatter_crop_yields.pdf\",bbox_inches=\"tight\")\n"
   ]
  },
  {
   "cell_type": "markdown",
   "metadata": {
    "slideshow": {
     "slide_type": "slide"
    }
   },
   "source": [
    "## Exercise: What if we Neglect the Dependencies?\n",
    "- create a set of **inconsistent crop yield samples / scenarios** \n",
    "  - hint: you may use the function ``np.random.permutation`` to \"shuffle\" the sample vectors for wheat, crop and corn (shuffle only \"within\" one type of crop, of course)\n",
    "- use the \"inconsistent\" crop yield for optimization \n",
    "- compare those results to the results obtained with the consistent samples. What is the difference?"
   ]
  },
  {
   "cell_type": "markdown",
   "metadata": {
    "slideshow": {
     "slide_type": "slide"
    }
   },
   "source": [
    "# Probabilistic Machine Learning Models\n"
   ]
  },
  {
   "cell_type": "markdown",
   "metadata": {
    "slideshow": {
     "slide_type": "slide"
    }
   },
   "source": [
    "## Motivation\n",
    "\n",
    "In our first week, we \n",
    "- discussed how to obtain probability distributions from data\n",
    "- learned that fitting a single distribution requires the i.i.d. assumption"
   ]
  },
  {
   "cell_type": "markdown",
   "metadata": {
    "slideshow": {
     "slide_type": "fragment"
    }
   },
   "source": [
    "What if this assumption does not hold?\n",
    "- we will consider the first data set (data1) later"
   ]
  },
  {
   "cell_type": "code",
   "execution_count": 87,
   "metadata": {
    "slideshow": {
     "slide_type": "-"
    }
   },
   "outputs": [
    {
     "data": {
      "image/png": "[encoded data removed]",
      "text/plain": [
       "<Figure size 432x288 with 1 Axes>"
      ]
     },
     "metadata": {
      "needs_background": "light"
     },
     "output_type": "display_data"
    }
   ],
   "source": [
    "\n",
    "data1 = np.loadtxt('data/data1.txt')\n",
    "data2 = np.loadtxt('data/data2.txt')\n",
    "data3 = np.loadtxt('data/data3.txt')\n",
    "\n",
    "data = data1\n",
    "\n",
    "xx = range(len(data))\n",
    "\n",
    "plt.scatter(xx, data, s=3);\n",
    "\n",
    "z = np.polyfit(xx, data, deg=1) # deg is the degree of the polynomial (1=linear)\n",
    "p = np.poly1d(z)\n",
    "plt.plot(xx, p(xx), 'm-');\n"
   ]
  },
  {
   "cell_type": "markdown",
   "metadata": {
    "slideshow": {
     "slide_type": "slide"
    }
   },
   "source": [
    "# Probabilistic Machine Learning Models: Overview\n",
    "\n",
    "\n",
    "In remainder of this meeting, we  will see how to use Data Science models to handle (certain) non-i.i.d. cases\n",
    "\n",
    "We will:\n",
    "- shortly review basic of Machine Learning\n",
    "- see how to obtain **probabilisitic** predictions \n",
    "  - from classification and\n",
    "  - regression models\n",
    "  \n",
    "\n",
    "\n"
   ]
  },
  {
   "cell_type": "markdown",
   "metadata": {
    "slideshow": {
     "slide_type": "slide"
    }
   },
   "source": [
    "##  Supervised vs unsupervised learning\n",
    "\n",
    "\n",
    "**Unsupervised Learning**\n",
    "- data points only contain features\n",
    "- the goal is to identify relations / associations between data points\n",
    "- prominent examples: clustering, market basket analyis\n",
    "\n",
    "\n",
    "**Supervised Learning**\n",
    "- \"learning from examples\"\n",
    "- each data point contains\n",
    "  - attributes / features **and**\n",
    "  - quantities / labels to be predicted\n",
    "\n"
   ]
  },
  {
   "cell_type": "markdown",
   "metadata": {
    "slideshow": {
     "slide_type": "slide"
    }
   },
   "source": [
    "## Supervised Learning: Classification vs Regression\n",
    "\n",
    "**Classification:**\n",
    "- categorical labels\n",
    "- predicting which class / which category\n",
    "\n",
    "**Regression:**\n",
    "- (continous) numerical labels\n",
    "- predicting how much / how many"
   ]
  },
  {
   "cell_type": "markdown",
   "metadata": {
    "slideshow": {
     "slide_type": "slide"
    }
   },
   "source": [
    "## Classification: Single Class vs  Probabilities\n",
    "\n",
    "- in classification, we typically predict the best or **most likely** class or category\n",
    "- for decision making, it is often useful to know the **probability of each class**\n",
    "- then, we can consider the outcome of a (probabilistic) classification as a **discrete probability distribution**\n",
    "\n",
    "Most tools for classification can also output these probabilities\n",
    "- e.g. in scikit-learn, there is `predict_proba`\n",
    "\n",
    "\n"
   ]
  },
  {
   "cell_type": "markdown",
   "metadata": {
    "slideshow": {
     "slide_type": "slide"
    }
   },
   "source": [
    "## Example: Classifying Cancer Cells\n",
    "\n",
    "Let us consider a data set with data containing features of breast cancer tumors and their classification as *malignant* or *beningn*. (The data set comes with scikit-learn)\n"
   ]
  },
  {
   "cell_type": "code",
   "execution_count": 24,
   "metadata": {
    "slideshow": {
     "slide_type": "-"
    }
   },
   "outputs": [],
   "source": [
    "import sklearn\n",
    "from sklearn.datasets import load_breast_cancer\n",
    "\n",
    "from sklearn.naive_bayes import GaussianNB\n",
    "  \n",
    "data = load_breast_cancer()\n",
    "label_names = data['target_names']\n",
    "labels = data['target']\n",
    "feature_names = data['feature_names']\n",
    "features = data['data'];"
   ]
  },
  {
   "cell_type": "code",
   "execution_count": 25,
   "metadata": {
    "slideshow": {
     "slide_type": "-"
    }
   },
   "outputs": [
    {
     "name": "stdout",
     "output_type": "stream",
     "text": [
      "The first features:  ['mean radius' 'mean texture' 'mean perimeter' 'mean area']\n",
      "Labels:  ['malignant' 'benign']\n"
     ]
    }
   ],
   "source": [
    "print (\"The first features: \", feature_names[0:4])\n",
    "print (\"Labels: \" , label_names)"
   ]
  },
  {
   "cell_type": "code",
   "execution_count": 5,
   "metadata": {
    "slideshow": {
     "slide_type": "skip"
    }
   },
   "outputs": [],
   "source": [
    "# For learning\n",
    "from sklearn.model_selection import train_test_split\n",
    "from sklearn.metrics import accuracy_score\n"
   ]
  },
  {
   "cell_type": "markdown",
   "metadata": {
    "slideshow": {
     "slide_type": "-"
    }
   },
   "source": [
    " We split the data into a train- and a test set and train a **naïve Bayes** classifier with scikit-learn to predict the nature of the tumor from the features.\n",
    " \n",
    " It seems to work pretty well:"
   ]
  },
  {
   "cell_type": "code",
   "execution_count": 26,
   "metadata": {
    "slideshow": {
     "slide_type": "-"
    }
   },
   "outputs": [
    {
     "name": "stdout",
     "output_type": "stream",
     "text": [
      "The accuray score of our model is: 0.94 \n"
     ]
    }
   ],
   "source": [
    "train, test, train_labels, test_labels = train_test_split(features, labels,\n",
    "                                       test_size = 0.33, random_state = 42)\n",
    "gnb = GaussianNB()\n",
    "model = gnb.fit(train, train_labels)\n",
    "predictions = gnb.predict(test)\n",
    "\n",
    "print(f\"The accuray score of our model is: { accuracy_score(test_labels, predictions):0.2f} \")"
   ]
  },
  {
   "cell_type": "markdown",
   "metadata": {
    "slideshow": {
     "slide_type": "fragment"
    }
   },
   "source": [
    "This looks pretty good. Do we really need probabilistic forecasts?"
   ]
  },
  {
   "cell_type": "markdown",
   "metadata": {
    "slideshow": {
     "slide_type": "slide"
    }
   },
   "source": [
    "## Example: Quantifying Uncertainty\n",
    "\n",
    "**But what does this mean for a given patient?**\n",
    "- some cases are very clear, others not!\n",
    "- it can be very useful if the classifier **quantifies its own uncertainty**\n",
    "- in scikit-learn we can use the method `predict_proba` to obtain "
   ]
  },
  {
   "cell_type": "code",
   "execution_count": 7,
   "metadata": {
    "slideshow": {
     "slide_type": "-"
    }
   },
   "outputs": [],
   "source": [
    "probabilistic_predictions = gnb.predict_proba(test)"
   ]
  },
  {
   "cell_type": "code",
   "execution_count": 8,
   "metadata": {
    "slideshow": {
     "slide_type": "skip"
    }
   },
   "outputs": [
    {
     "data": {
      "text/plain": [
       "array([[2.32433733e-09, 9.99999998e-01],\n",
       "       [1.00000000e+00, 4.28559311e-63],\n",
       "       [1.00000000e+00, 9.27759495e-11]])"
      ]
     },
     "execution_count": 8,
     "metadata": {},
     "output_type": "execute_result"
    }
   ],
   "source": [
    "probabilistic_predictions[0:3]"
   ]
  },
  {
   "cell_type": "markdown",
   "metadata": {
    "slideshow": {
     "slide_type": "-"
    }
   },
   "source": [
    "**Let us consider two patient cases with the same prediction (benign)**\n",
    "\n",
    "Let us consider the first patient:\n"
   ]
  },
  {
   "cell_type": "code",
   "execution_count": 9,
   "metadata": {
    "slideshow": {
     "slide_type": "-"
    }
   },
   "outputs": [
    {
     "name": "stdout",
     "output_type": "stream",
     "text": [
      "The prediction is that the tumor is benign with probability 1.00\n"
     ]
    }
   ],
   "source": [
    "patient = 0\n",
    "prediction = predictions[patient]\n",
    "probability = probabilistic_predictions[patient][prediction]\n",
    "print(f\"The prediction is that the tumor is {label_names[prediction]} with probability {probability:0.2f}\")"
   ]
  },
  {
   "cell_type": "markdown",
   "metadata": {
    "slideshow": {
     "slide_type": "fragment"
    }
   },
   "source": [
    "\n",
    "Now, let us consider the patient with index 8:"
   ]
  },
  {
   "cell_type": "code",
   "execution_count": 27,
   "metadata": {
    "slideshow": {
     "slide_type": "-"
    }
   },
   "outputs": [
    {
     "name": "stdout",
     "output_type": "stream",
     "text": [
      "The prediction is that the tumor is benign with probability 0.55\n"
     ]
    }
   ],
   "source": [
    "patient = 8\n",
    "prediction = predictions[patient]\n",
    "probability = probabilistic_predictions[patient][prediction]\n",
    "print(f\"The prediction is that the tumor is {label_names[prediction]} with probability {probability:0.2f}\")"
   ]
  },
  {
   "cell_type": "markdown",
   "metadata": {
    "slideshow": {
     "slide_type": "-"
    }
   },
   "source": [
    "The latter patient may thus consider a more detailed investigation..."
   ]
  },
  {
   "cell_type": "markdown",
   "metadata": {},
   "source": [
    "## Example: Predicting Length-of-stay in Intensive Care Units (ICUs) \n",
    "\n",
    "In  a recent master thesis in collaboration with EvKB (Bethel), we probabilistic classification to predict the length of stay of patients in ICU:\n",
    "- 1 day, 2 days, 3 days, 4 or more days\n",
    "from patient health metrics\n",
    "- e.g. heart rate, blood pressure, medication, ...\n",
    "\n",
    "Along with distributions for emergency cases, we used these predictions for every ICU in a Monte Carlo Simulation \n",
    "- for predicting the daily distribution of ICU occupancy\n",
    "- for supporting decisions regarding elecitive surgeries that lead to ICU stays\n"
   ]
  },
  {
   "cell_type": "markdown",
   "metadata": {
    "slideshow": {
     "slide_type": "slide"
    }
   },
   "source": [
    "## Regression\n",
    "\n",
    "For regession models, sklearn does not generally provide\n",
    "\n",
    "What do we mean with probabilitstic regression?\n",
    "\n",
    "- if $y$ is the (numeric) label and $\\textbf{x}=x_1,..x_n$ is a given  feature vector, then a probabilistic regression model gives us a distribution $Y$ that is conditioned on the features: $Y | \\textbf{x}$  \n",
    "\n",
    "In a classical linear regression (based on ordinary least squares (OLS)):\n",
    "- $Y$ is a **normal distribution** (in this context often called the residual distribution)\n",
    "- the (point forecast) $y$ is the mean, and the standard deviation $\\sigma$ can be estimated from the data\n",
    "- interestingly, for the case of (simple) linear regression, the OLS estimate is also the so-called maximum likelihood estimator\n",
    "\n"
   ]
  },
  {
   "cell_type": "markdown",
   "metadata": {
    "slideshow": {
     "slide_type": "slide"
    }
   },
   "source": [
    "## Linear Regression: Example Data Set\n",
    "\n",
    "Let us now consider the data set 1.\n",
    "- it has 500 data points\n",
    "- let us assume that they represent weeks\n",
    "\n"
   ]
  },
  {
   "cell_type": "markdown",
   "metadata": {
    "slideshow": {
     "slide_type": "slide"
    }
   },
   "source": [
    "## Linear Regression for the  Example Data Set\n",
    "\n",
    "We can use the linear regression model from scikit-learn:\n"
   ]
  },
  {
   "cell_type": "code",
   "execution_count": 11,
   "metadata": {
    "slideshow": {
     "slide_type": "slide"
    }
   },
   "outputs": [],
   "source": [
    "from sklearn.linear_model import LinearRegression\n",
    "\n",
    "linear_model = LinearRegression()"
   ]
  },
  {
   "cell_type": "markdown",
   "metadata": {
    "slideshow": {
     "slide_type": "-"
    }
   },
   "source": [
    "- then our labels $y$ are the data points and\n",
    "- the (time) indexes of the array are the features $x$\n",
    "  - note that sklearn expects a feature matrix, thus we need to wrap the indexes into a matrix"
   ]
  },
  {
   "cell_type": "code",
   "execution_count": 85,
   "metadata": {
    "slideshow": {
     "slide_type": "fragment"
    }
   },
   "outputs": [
    {
     "ename": "NameError",
     "evalue": "name 'data1' is not defined",
     "output_type": "error",
     "traceback": [
      "\u001b[1;31m---------------------------------------------------------------------------\u001b[0m",
      "\u001b[1;31mNameError\u001b[0m                                 Traceback (most recent call last)",
      "\u001b[1;32m<ipython-input-85-7cf2038cf977>\u001b[0m in \u001b[0;36m<module>\u001b[1;34m\u001b[0m\n\u001b[1;32m----> 1\u001b[1;33m \u001b[0my_data1\u001b[0m \u001b[1;33m=\u001b[0m \u001b[0mdata1\u001b[0m\u001b[1;33m\u001b[0m\u001b[1;33m\u001b[0m\u001b[0m\n\u001b[0m\u001b[0;32m      2\u001b[0m \u001b[1;33m\u001b[0m\u001b[0m\n\u001b[0;32m      3\u001b[0m \u001b[0mtime_indices\u001b[0m \u001b[1;33m=\u001b[0m \u001b[0mnp\u001b[0m\u001b[1;33m.\u001b[0m\u001b[0marange\u001b[0m\u001b[1;33m(\u001b[0m\u001b[1;36m1\u001b[0m\u001b[1;33m,\u001b[0m\u001b[0mlen\u001b[0m\u001b[1;33m(\u001b[0m\u001b[0mdata1\u001b[0m\u001b[1;33m)\u001b[0m\u001b[1;33m+\u001b[0m\u001b[1;36m1\u001b[0m\u001b[1;33m)\u001b[0m\u001b[1;33m\u001b[0m\u001b[1;33m\u001b[0m\u001b[0m\n\u001b[0;32m      4\u001b[0m \u001b[1;33m\u001b[0m\u001b[0m\n\u001b[0;32m      5\u001b[0m \u001b[1;31m# note that we create a two-dimensinal array since sklearn expects this\u001b[0m\u001b[1;33m\u001b[0m\u001b[1;33m\u001b[0m\u001b[1;33m\u001b[0m\u001b[0m\n",
      "\u001b[1;31mNameError\u001b[0m: name 'data1' is not defined"
     ]
    }
   ],
   "source": [
    "\n",
    "y_data1 = data1\n",
    "\n",
    "time_indices = np.arange(1,len(data1)+1)\n",
    "\n",
    "# note that we create a two-dimensinal array since sklearn expects this\n",
    "x_data1 = np.expand_dims(time_indices, axis=1)\n",
    "\n"
   ]
  },
  {
   "cell_type": "markdown",
   "metadata": {
    "slideshow": {
     "slide_type": "fragment"
    }
   },
   "source": [
    "Now, we can fit the model to the data"
   ]
  },
  {
   "cell_type": "code",
   "execution_count": 13,
   "metadata": {
    "slideshow": {
     "slide_type": "-"
    }
   },
   "outputs": [
    {
     "name": "stdout",
     "output_type": "stream",
     "text": [
      "Intercept:  3.0092353926972417\n",
      "Coefficients:  [0.01001925]\n"
     ]
    }
   ],
   "source": [
    "from sklearn.linear_model import LinearRegression\n",
    "\n",
    "linear_model = LinearRegression()\n",
    "linear_model.fit(x_data1,y_data1)\n",
    "\n",
    "print (\"Intercept: \",linear_model.intercept_ )\n",
    "print (\"Coefficients: \",linear_model.coef_)"
   ]
  },
  {
   "cell_type": "markdown",
   "metadata": {
    "slideshow": {
     "slide_type": "fragment"
    }
   },
   "source": [
    "And use it for (point) prediction:"
   ]
  },
  {
   "cell_type": "code",
   "execution_count": 14,
   "metadata": {
    "slideshow": {
     "slide_type": "-"
    }
   },
   "outputs": [
    {
     "data": {
      "text/plain": [
       "array([9.02078774])"
      ]
     },
     "execution_count": 14,
     "metadata": {},
     "output_type": "execute_result"
    }
   ],
   "source": [
    "linear_model.predict([[600]])"
   ]
  },
  {
   "cell_type": "markdown",
   "metadata": {
    "slideshow": {
     "slide_type": "slide"
    }
   },
   "source": [
    "## Generalized Linear Models\n",
    "\n",
    "(Standard) linear regression is a special case of **generalized linear models** where\n",
    "- residuals can stem from various distributions from the exponential family\n",
    "- link functions are used to connect the linear predictor to the expected value of the distribution\n",
    "- models are estimated based on **maximum likelikhood**\n",
    "\n",
    "In Python, both scikit-learn and statsmodels provide GLMs, but:\n",
    "- **both do not provide a convenient way for obtaining the predictive distribution and sampling**\n"
   ]
  },
  {
   "cell_type": "markdown",
   "metadata": {
    "slideshow": {
     "slide_type": "slide"
    }
   },
   "source": [
    "## Generalized Linear Models: Case Study Example\n",
    "\n",
    "- let us first reproduce the classical linear regression\n"
   ]
  },
  {
   "cell_type": "code",
   "execution_count": 15,
   "metadata": {
    "slideshow": {
     "slide_type": "-"
    }
   },
   "outputs": [
    {
     "name": "stdout",
     "output_type": "stream",
     "text": [
      "                 Generalized Linear Model Regression Results                  \n",
      "==============================================================================\n",
      "Dep. Variable:                      y   No. Observations:                  500\n",
      "Model:                            GLM   Df Residuals:                      498\n",
      "Model Family:                Gaussian   Df Model:                            1\n",
      "Link Function:               identity   Scale:                          4.8876\n",
      "Method:                          IRLS   Log-Likelihood:                -1105.1\n",
      "Date:                Tue, 11 May 2021   Deviance:                       2434.0\n",
      "Time:                        15:16:22   Pearson chi2:                 2.43e+03\n",
      "No. Iterations:                     3                                         \n",
      "Covariance Type:            nonrobust                                         \n",
      "==============================================================================\n",
      "                 coef    std err          z      P>|z|      [0.025      0.975]\n",
      "------------------------------------------------------------------------------\n",
      "const          3.0092      0.198     15.195      0.000       2.621       3.397\n",
      "x1             0.0100      0.001     14.627      0.000       0.009       0.011\n",
      "==============================================================================\n"
     ]
    }
   ],
   "source": [
    "import statsmodels.api as sm\n",
    "\n",
    "x_data1_plus_constant = sm.add_constant(x_data1) # we need to add a constant here\n",
    "model_normal = sm.GLM(y_data1, x_data1_plus_constant, family=sm.families.Gaussian(sm.families.links.identity()))\n",
    "\n",
    "model_results_normal = model_normal.fit()\n",
    "\n",
    "print (model_results_normal.summary())\n"
   ]
  },
  {
   "cell_type": "markdown",
   "metadata": {},
   "source": [
    "## NGBoost\n",
    "\n",
    "- **N**atural **G**radient **Boost**ing\n",
    "- provides probilistic prediction (classification **and** regression) with boosting ensembles\n",
    "- easy-to-use scikit-learn-based API\n",
    "- state-of-the-art performance \n",
    "- returns scipy-stats-like distribution objects\n"
   ]
  },
  {
   "cell_type": "code",
   "execution_count": 84,
   "metadata": {},
   "outputs": [
    {
     "ename": "NameError",
     "evalue": "name 'x_data1' is not defined",
     "output_type": "error",
     "traceback": [
      "\u001b[1;31m---------------------------------------------------------------------------\u001b[0m",
      "\u001b[1;31mNameError\u001b[0m                                 Traceback (most recent call last)",
      "\u001b[1;32m<ipython-input-84-4d6e6eaaeba2>\u001b[0m in \u001b[0;36m<module>\u001b[1;34m\u001b[0m\n\u001b[0;32m      2\u001b[0m \u001b[1;33m\u001b[0m\u001b[0m\n\u001b[0;32m      3\u001b[0m \u001b[1;33m\u001b[0m\u001b[0m\n\u001b[1;32m----> 4\u001b[1;33m \u001b[0mngb_model\u001b[0m \u001b[1;33m=\u001b[0m \u001b[0mNGBRegressor\u001b[0m\u001b[1;33m(\u001b[0m\u001b[0mDist\u001b[0m\u001b[1;33m=\u001b[0m\u001b[0mdistns\u001b[0m\u001b[1;33m.\u001b[0m\u001b[0mExponential\u001b[0m\u001b[1;33m)\u001b[0m\u001b[1;33m.\u001b[0m\u001b[0mfit\u001b[0m\u001b[1;33m(\u001b[0m\u001b[0mx_data1\u001b[0m\u001b[1;33m,\u001b[0m \u001b[0my_data1\u001b[0m\u001b[1;33m)\u001b[0m\u001b[1;33m\u001b[0m\u001b[1;33m\u001b[0m\u001b[0m\n\u001b[0m",
      "\u001b[1;31mNameError\u001b[0m: name 'x_data1' is not defined"
     ]
    }
   ],
   "source": [
    "from ngboost import NGBRegressor, distns\n",
    "\n",
    "\n",
    "ngb_model = NGBRegressor(Dist=distns.Exponential).fit(x_data1, y_data1)"
   ]
  },
  {
   "cell_type": "code",
   "execution_count": 18,
   "metadata": {},
   "outputs": [
    {
     "data": {
      "text/plain": [
       "8.767327442224857"
      ]
     },
     "execution_count": 18,
     "metadata": {},
     "output_type": "execute_result"
    }
   ],
   "source": [
    "x_value_to_predict = 600\n",
    "\n",
    "feature_matrix_for_prediction = [[x_value_to_predict]] # we need to wrap this into a matrix\n",
    "\n",
    "point_forecast = ngb_model.predict(feature_matrix_for_prediction)[0]\n",
    "\n",
    "point_forecast"
   ]
  },
  {
   "cell_type": "code",
   "execution_count": 19,
   "metadata": {},
   "outputs": [
    {
     "data": {
      "image/png": "[encoded data removed]",
      "text/plain": [
       "<Figure size 864x309.6 with 2 Axes>"
      ]
     },
     "metadata": {
      "needs_background": "light"
     },
     "output_type": "display_data"
    }
   ],
   "source": [
    "distribution_forecast = ngb_model.pred_dist(feature_matrix_for_prediction)[0]\n",
    "\n",
    "fig, (ax1,ax2) = plt.subplots(1, 2, figsize=(12, 4.3), constrained_layout=True)\n",
    "\n",
    "\n",
    "xx = np.linspace(1E-6, 25, 1000)\n",
    "\n",
    "ax1.plot(xx, distribution_forecast.pdf(xx), linewidth=2, color='b')\n",
    "ax1.set_title('Probability Density Function')\n",
    "\n",
    "ax2.plot(xx, distribution_forecast.cdf(xx), linewidth=2, color='b')\n",
    "ax2.set_title('Cumulative Distribution Function')\n",
    "\n",
    "\n",
    "plt.show()\n",
    "\n"
   ]
  },
  {
   "cell_type": "code",
   "execution_count": 20,
   "metadata": {},
   "outputs": [
    {
     "name": "stdout",
     "output_type": "stream",
     "text": [
      "Average Negative Log Likelihood 2.6369849839712334\n"
     ]
    }
   ],
   "source": [
    "pred_dists_original_data = ngb_model.pred_dist( x_data1 )\n",
    "\n",
    "\n",
    "negative_ll = -pred_dists_original_data.logpdf(y_data1).mean()\n",
    "print('Average Negative Log Likelihood', negative_ll)"
   ]
  },
  {
   "cell_type": "code",
   "execution_count": 82,
   "metadata": {
    "slideshow": {
     "slide_type": "slide"
    }
   },
   "outputs": [],
   "source": [
    "# Integrating Prediction and Optimization with JANOS"
   ]
  },
  {
   "cell_type": "markdown",
   "metadata": {
    "slideshow": {
     "slide_type": "slide"
    }
   },
   "source": [
    "## Case Study: Will the Student Accept a Scholarship?\n",
    "\n",
    "The Admission Office of a university wants to offer scholarship to its admitted students in\n",
    "order to bolster the class profile, in this case by simply maximizing the expected class size.\n",
    "\n",
    "The Admission Office has collected from previous enrollment years the applicants’ SAT,\n",
    "GPA, scholarship offered, and the matriculation result, i.e., whether the student accepted\n",
    "the offer or not. \n",
    "\n",
    "This year, suppose the school is issuing 500  offers of admission. Moreover,\n",
    "suppose the budget available for offered scholarship is \\\\$1 000 000.\n",
    "The amount of scholarship that can be assigned to any particular applicant is\n",
    "\\\\$0 to \\\\$25,000. The Admission Office wants to maximize the incoming class size."
   ]
  },
  {
   "cell_type": "markdown",
   "metadata": {
    "slideshow": {
     "slide_type": "slide"
    }
   },
   "source": [
    "## The Data Set\n",
    "\n",
    "Let us see the historical data set. For each student, it contains:\n",
    "- the SAT score\n",
    "- the GPA score\n",
    "- the scholarship (in $10.000)\n",
    "- whether the student enrolled"
   ]
  },
  {
   "cell_type": "code",
   "execution_count": 8,
   "metadata": {
    "slideshow": {
     "slide_type": "slide"
    }
   },
   "outputs": [
    {
     "data": {
      "text/html": [
       "<div>\n",
       "<style scoped>\n",
       "    .dataframe tbody tr th:only-of-type {\n",
       "        vertical-align: middle;\n",
       "    }\n",
       "\n",
       "    .dataframe tbody tr th {\n",
       "        vertical-align: top;\n",
       "    }\n",
       "\n",
       "    .dataframe thead th {\n",
       "        text-align: right;\n",
       "    }\n",
       "</style>\n",
       "<table border=\"1\" class=\"dataframe\">\n",
       "  <thead>\n",
       "    <tr style=\"text-align: right;\">\n",
       "      <th></th>\n",
       "      <th>Unnamed: 0</th>\n",
       "      <th>StudentID</th>\n",
       "      <th>SAT</th>\n",
       "      <th>GPA</th>\n",
       "      <th>scholarship</th>\n",
       "      <th>enroll</th>\n",
       "    </tr>\n",
       "  </thead>\n",
       "  <tbody>\n",
       "    <tr>\n",
       "      <th>0</th>\n",
       "      <td>1</td>\n",
       "      <td>1</td>\n",
       "      <td>1507</td>\n",
       "      <td>3.72</td>\n",
       "      <td>1.64</td>\n",
       "      <td>0</td>\n",
       "    </tr>\n",
       "    <tr>\n",
       "      <th>1</th>\n",
       "      <td>2</td>\n",
       "      <td>2</td>\n",
       "      <td>1532</td>\n",
       "      <td>3.93</td>\n",
       "      <td>0.52</td>\n",
       "      <td>0</td>\n",
       "    </tr>\n",
       "    <tr>\n",
       "      <th>2</th>\n",
       "      <td>3</td>\n",
       "      <td>3</td>\n",
       "      <td>1487</td>\n",
       "      <td>3.77</td>\n",
       "      <td>1.67</td>\n",
       "      <td>0</td>\n",
       "    </tr>\n",
       "    <tr>\n",
       "      <th>3</th>\n",
       "      <td>4</td>\n",
       "      <td>4</td>\n",
       "      <td>1259</td>\n",
       "      <td>3.05</td>\n",
       "      <td>1.21</td>\n",
       "      <td>1</td>\n",
       "    </tr>\n",
       "    <tr>\n",
       "      <th>4</th>\n",
       "      <td>5</td>\n",
       "      <td>5</td>\n",
       "      <td>1354</td>\n",
       "      <td>3.39</td>\n",
       "      <td>1.65</td>\n",
       "      <td>1</td>\n",
       "    </tr>\n",
       "  </tbody>\n",
       "</table>\n",
       "</div>"
      ],
      "text/plain": [
       "   Unnamed: 0  StudentID   SAT   GPA  scholarship  enroll\n",
       "0           1          1  1507  3.72         1.64       0\n",
       "1           2          2  1532  3.93         0.52       0\n",
       "2           3          3  1487  3.77         1.67       0\n",
       "3           4          4  1259  3.05         1.21       1\n",
       "4           5          5  1354  3.39         1.65       1"
      ]
     },
     "execution_count": 8,
     "metadata": {},
     "output_type": "execute_result"
    }
   ],
   "source": [
    "historical_student_data = pd.read_csv(\"data/college_student_enroll-s1-1.csv\")\n",
    "\n",
    "historical_student_data.head()"
   ]
  },
  {
   "cell_type": "markdown",
   "metadata": {
    "slideshow": {
     "slide_type": "slide"
    }
   },
   "source": [
    "## A Predictive Model\n",
    "\n",
    "Let us fit a logistic regression model:"
   ]
  },
  {
   "cell_type": "code",
   "execution_count": 51,
   "metadata": {
    "slideshow": {
     "slide_type": "-"
    }
   },
   "outputs": [],
   "source": [
    "X = historical_student_data[[\"SAT\", \"GPA\", \"scholarship\"]]\n",
    "y = historical_student_data[[\"enroll\"]]\n",
    "\n",
    "scaler_sat = StandardScaler().fit(X[[\"SAT\"]])\n",
    "scaler_gpa = StandardScaler().fit(X[[\"GPA\"]])\n",
    "X['SAT_scaled'] = scaler_sat.transform(X[['SAT']])\n",
    "X['GPA_scaled'] = scaler_gpa.transform(X[['GPA']])\n",
    "# Then, train the logistic regression model.\n",
    "prediction_model = LogisticRegression(random_state=0, solver='lbfgs').fit(X[[\"SAT_scaled\", \"GPA_scaled\", \"scholarship\"]], y.values.ravel())\n"
   ]
  },
  {
   "cell_type": "markdown",
   "metadata": {
    "slideshow": {
     "slide_type": "slide"
    }
   },
   "source": [
    "## A new Cohort of Applicants"
   ]
  },
  {
   "cell_type": "code",
   "execution_count": 90,
   "metadata": {
    "slideshow": {
     "slide_type": "-"
    }
   },
   "outputs": [],
   "source": [
    "applicants = pd.read_csv(\"data/admissions500.csv\")\n",
    "applicants['SAT_scaled'] = scaler_sat.transform(applicants[['SAT']])\n",
    "applicants['GPA_scaled'] = scaler_gpa.transform(applicants[['GPA']])"
   ]
  },
  {
   "cell_type": "markdown",
   "metadata": {
    "slideshow": {
     "slide_type": "fragment"
    }
   },
   "source": [
    "Let us play with different scholarships"
   ]
  },
  {
   "cell_type": "code",
   "execution_count": 93,
   "metadata": {
    "slideshow": {
     "slide_type": "-"
    }
   },
   "outputs": [],
   "source": [
    "applicants_example_scholarship= applicants\n",
    "applicants_example_scholarship[\"scholarship\"] = 1.2"
   ]
  },
  {
   "cell_type": "code",
   "execution_count": 95,
   "metadata": {
    "slideshow": {
     "slide_type": "-"
    }
   },
   "outputs": [
    {
     "data": {
      "text/html": [
       "<div>\n",
       "<style scoped>\n",
       "    .dataframe tbody tr th:only-of-type {\n",
       "        vertical-align: middle;\n",
       "    }\n",
       "\n",
       "    .dataframe tbody tr th {\n",
       "        vertical-align: top;\n",
       "    }\n",
       "\n",
       "    .dataframe thead th {\n",
       "        text-align: right;\n",
       "    }\n",
       "</style>\n",
       "<table border=\"1\" class=\"dataframe\">\n",
       "  <thead>\n",
       "    <tr style=\"text-align: right;\">\n",
       "      <th></th>\n",
       "      <th>StudentID</th>\n",
       "      <th>SAT</th>\n",
       "      <th>GPA</th>\n",
       "      <th>SAT_scaled</th>\n",
       "      <th>GPA_scaled</th>\n",
       "      <th>scholarship</th>\n",
       "    </tr>\n",
       "  </thead>\n",
       "  <tbody>\n",
       "    <tr>\n",
       "      <th>0</th>\n",
       "      <td>1</td>\n",
       "      <td>1289</td>\n",
       "      <td>3.099046</td>\n",
       "      <td>0.015497</td>\n",
       "      <td>-0.267043</td>\n",
       "      <td>1.2</td>\n",
       "    </tr>\n",
       "    <tr>\n",
       "      <th>1</th>\n",
       "      <td>2</td>\n",
       "      <td>1016</td>\n",
       "      <td>2.362245</td>\n",
       "      <td>-1.614386</td>\n",
       "      <td>-1.963761</td>\n",
       "      <td>1.2</td>\n",
       "    </tr>\n",
       "    <tr>\n",
       "      <th>2</th>\n",
       "      <td>3</td>\n",
       "      <td>1424</td>\n",
       "      <td>3.616878</td>\n",
       "      <td>0.821483</td>\n",
       "      <td>0.925430</td>\n",
       "      <td>1.2</td>\n",
       "    </tr>\n",
       "    <tr>\n",
       "      <th>3</th>\n",
       "      <td>4</td>\n",
       "      <td>1261</td>\n",
       "      <td>3.027890</td>\n",
       "      <td>-0.151671</td>\n",
       "      <td>-0.430902</td>\n",
       "      <td>1.2</td>\n",
       "    </tr>\n",
       "    <tr>\n",
       "      <th>4</th>\n",
       "      <td>5</td>\n",
       "      <td>1326</td>\n",
       "      <td>3.128963</td>\n",
       "      <td>0.236397</td>\n",
       "      <td>-0.198150</td>\n",
       "      <td>1.2</td>\n",
       "    </tr>\n",
       "    <tr>\n",
       "      <th>...</th>\n",
       "      <td>...</td>\n",
       "      <td>...</td>\n",
       "      <td>...</td>\n",
       "      <td>...</td>\n",
       "      <td>...</td>\n",
       "      <td>...</td>\n",
       "    </tr>\n",
       "    <tr>\n",
       "      <th>495</th>\n",
       "      <td>496</td>\n",
       "      <td>1342</td>\n",
       "      <td>3.404613</td>\n",
       "      <td>0.331921</td>\n",
       "      <td>0.436623</td>\n",
       "      <td>1.2</td>\n",
       "    </tr>\n",
       "    <tr>\n",
       "      <th>496</th>\n",
       "      <td>497</td>\n",
       "      <td>1418</td>\n",
       "      <td>3.609573</td>\n",
       "      <td>0.785661</td>\n",
       "      <td>0.908607</td>\n",
       "      <td>1.2</td>\n",
       "    </tr>\n",
       "    <tr>\n",
       "      <th>497</th>\n",
       "      <td>498</td>\n",
       "      <td>1209</td>\n",
       "      <td>3.049335</td>\n",
       "      <td>-0.462125</td>\n",
       "      <td>-0.381517</td>\n",
       "      <td>1.2</td>\n",
       "    </tr>\n",
       "    <tr>\n",
       "      <th>498</th>\n",
       "      <td>499</td>\n",
       "      <td>1330</td>\n",
       "      <td>3.256108</td>\n",
       "      <td>0.260278</td>\n",
       "      <td>0.094642</td>\n",
       "      <td>1.2</td>\n",
       "    </tr>\n",
       "    <tr>\n",
       "      <th>499</th>\n",
       "      <td>500</td>\n",
       "      <td>1021</td>\n",
       "      <td>2.550915</td>\n",
       "      <td>-1.584535</td>\n",
       "      <td>-1.529288</td>\n",
       "      <td>1.2</td>\n",
       "    </tr>\n",
       "  </tbody>\n",
       "</table>\n",
       "<p>500 rows × 6 columns</p>\n",
       "</div>"
      ],
      "text/plain": [
       "     StudentID   SAT       GPA  SAT_scaled  GPA_scaled  scholarship\n",
       "0            1  1289  3.099046    0.015497   -0.267043          1.2\n",
       "1            2  1016  2.362245   -1.614386   -1.963761          1.2\n",
       "2            3  1424  3.616878    0.821483    0.925430          1.2\n",
       "3            4  1261  3.027890   -0.151671   -0.430902          1.2\n",
       "4            5  1326  3.128963    0.236397   -0.198150          1.2\n",
       "..         ...   ...       ...         ...         ...          ...\n",
       "495        496  1342  3.404613    0.331921    0.436623          1.2\n",
       "496        497  1418  3.609573    0.785661    0.908607          1.2\n",
       "497        498  1209  3.049335   -0.462125   -0.381517          1.2\n",
       "498        499  1330  3.256108    0.260278    0.094642          1.2\n",
       "499        500  1021  2.550915   -1.584535   -1.529288          1.2\n",
       "\n",
       "[500 rows x 6 columns]"
      ]
     },
     "execution_count": 95,
     "metadata": {},
     "output_type": "execute_result"
    }
   ],
   "source": [
    "applicants_example_scholarship"
   ]
  },
  {
   "cell_type": "code",
   "execution_count": 74,
   "metadata": {
    "slideshow": {
     "slide_type": "-"
    }
   },
   "outputs": [],
   "source": [
    "prediction = prediction_model.predict(applicants_example_scholarship[[\"SAT_scaled\", \"GPA_scaled\", \"scholarship\"]])\n",
    "probabilistic_prediction = prediction_model.predict_proba(applicants_example_scholarship[[\"SAT_scaled\", \"GPA_scaled\", \"scholarship\"]])"
   ]
  },
  {
   "cell_type": "code",
   "execution_count": 65,
   "metadata": {},
   "outputs": [
    {
     "data": {
      "text/plain": [
       "0.9989523873734952"
      ]
     },
     "execution_count": 65,
     "metadata": {},
     "output_type": "execute_result"
    }
   ],
   "source": [
    "prediction_model.predict_proba(applicants_example_scholarship[[\"SAT_scaled\", \"GPA_scaled\", \"scholarship\"]])[0][1]"
   ]
  },
  {
   "cell_type": "markdown",
   "metadata": {
    "slideshow": {
     "slide_type": "slide"
    }
   },
   "source": [
    "## Question: How to allocate the budget?\n",
    "\n",
    "- the admission office can offer of a total budget of $1 000 000 \n",
    "- a key feature of this problem: **one of the decision variables affects the prediction**\n"
   ]
  },
  {
   "cell_type": "markdown",
   "metadata": {
    "slideshow": {
     "slide_type": "slide"
    }
   },
   "source": [
    "## A Simplified Model\n",
    "\n",
    "\n",
    "\\begin{align*}\n",
    "        \\max \\;          \\sum_{i \\in A}  y_i  \\\\\n",
    "\t     \t\t \\sum_{i \\in I} x_i &\\leq 1,000,000 \\qquad(\\textrm{Budget})  \\\\\n",
    "       \t     \t\t  y_i  &= \\textit{pred}(s_i, g_i, x_i) \\qquad \\forall i \\in A \\\\\n",
    "                             0 \\leq &x_i \\leq 25,000 \\qquad \\forall i \\in A\n",
    "\\end{align*}\n",
    "\n",
    "where:\n",
    "\n",
    "- $A$ is the set of applicants\n",
    "- $x_i$ is the amount of scholarship offered to student $i$\n",
    "- $y_i$ is the probability that applicant $i$ will accept the offer\n",
    "- $\\textit{pred}(s_i, g_i, x_i)$ is the (pretrained) prediction function / model\n",
    "- $s_i$ is the scaled SAT score of applicant $i$\n",
    "- $g_i$ is the scaled GPA score of applicant $i$"
   ]
  },
  {
   "cell_type": "markdown",
   "metadata": {
    "slideshow": {
     "slide_type": "slide"
    }
   },
   "source": [
    "## How can we embed the Prediction Model into the Optimization Model?"
   ]
  },
  {
   "cell_type": "markdown",
   "metadata": {
    "slideshow": {
     "slide_type": "-"
    }
   },
   "source": [
    "- we need to capture the structure of the predictive model in the optimization model\n",
    "- this is relatively straightforward for linear regression models\n",
    "- but there exist formulations for embedding a number of different prediction models in optimization models, e.g. for\n",
    "  - logistic regression\n",
    "  - neural networks\n",
    "  - decision trees\n",
    "- if we have formulate these models by \"hand\", this becomes be quite tedious\n",
    "\n"
   ]
  },
  {
   "cell_type": "markdown",
   "metadata": {
    "slideshow": {
     "slide_type": "slide"
    }
   },
   "source": [
    "## JANOS:  An Integrated Predictive and Prescriptive Modeling Framework\n",
    "http://janos.opt-operations.com\n",
    "\n",
    "Bergman, D., Huang, T., Brooks, P., Lodi, A., and Raghunathan, A. U. (2019). JANOS: An Integrated Predictive and Prescriptive Modeling Framework.\n",
    "\n",
    "- allows embedding certain `scikit-learn` models into optimization models\n",
    "- decision variables can serve as features for the predictive models\n",
    "- the result of the prediction is a special type of decision variable: a **predicted** decision variable\n",
    "\n",
    "#### In the example:\n",
    "- the offered scholarship $x_i$ is a predicted decision variable\n",
    "- the probabiltiy of acceptance $y_i$ is a regular decision variable\n"
   ]
  },
  {
   "cell_type": "markdown",
   "metadata": {
    "slideshow": {
     "slide_type": "slide"
    }
   },
   "source": [
    "## JANOS for our Example: Setting up the Model"
   ]
  },
  {
   "cell_type": "code",
   "execution_count": 76,
   "metadata": {
    "slideshow": {
     "slide_type": "-"
    }
   },
   "outputs": [],
   "source": [
    "from janos import *\n",
    "m = JModel()\n",
    "\n",
    "n_admitted = 500 # number of admitted applicants considered for scholarship\n",
    "scholarships = [0, 2.5] # assumed to be in tens of thousands\n",
    "budget = 100 # assumed to be in tens of thousands\n",
    "\n",
    "# Define regular variables\n",
    "assign_scholarship = m.add_regular_variables([n_admitted], \"assign_scholarship\")\n",
    "for app_index in range(n_admitted):\n",
    "    assign_scholarship[app_index].setContinuousDomain(lower_bound=scholarships[0], upper_bound=scholarships[1])\n",
    "    assign_scholarship[app_index].setObjectiveCoefficient(0)\n",
    "    "
   ]
  },
  {
   "cell_type": "markdown",
   "metadata": {
    "slideshow": {
     "slide_type": "slide"
    }
   },
   "source": [
    "## JANOS for our Example: Embed the Predicion Model and Define Predicted Variables"
   ]
  },
  {
   "cell_type": "code",
   "execution_count": 77,
   "metadata": {
    "slideshow": {
     "slide_type": "-"
    }
   },
   "outputs": [],
   "source": [
    "# Define predicted variables\n",
    "# First, we need to create structures of predictive models. In this case, we associate such a structure with an existing / pretrained logistic regression model.\n",
    "# Each predicted variable must be associated with a OptimizationPredictiveVariable, noting that multiple predicted variables can be associated\n",
    "# with the same one\n",
    "logistic_regression_model = OptimizationPredictiveModel(m, pretrained_model=prediction_model,\n",
    "                                                        feature_names=[\"SAT_scaled\", \"GPA_scaled\", \"scholarship\"])\n",
    "\n",
    "# Now, we could define the predicted decision variables and associate them with the predicted model structure.\n",
    "enroll_probabilities = m.add_predicted_variables([n_admitted], \"enroll_probs\")\n",
    "for app_index in range(n_admitted):\n",
    "    enroll_probabilities[app_index].setObjectiveCoefficient(1)\n",
    "    mapping_of_vars = {\"scholarship\": assign_scholarship[app_index],\n",
    "                       \"SAT_scaled\": applicants[\"SAT_scaled\"][app_index],\n",
    "                       \"GPA_scaled\": applicants[\"GPA_scaled\"][app_index]}\n",
    "    enroll_probabilities[app_index].setPM(logistic_regression_model, mapping_of_vars)"
   ]
  },
  {
   "cell_type": "markdown",
   "metadata": {
    "slideshow": {
     "slide_type": "slide"
    }
   },
   "source": [
    "## JANOS for our Example: Create the Budget Constraints and Solve"
   ]
  },
  {
   "cell_type": "code",
   "execution_count": 81,
   "metadata": {
    "slideshow": {
     "slide_type": "-"
    }
   },
   "outputs": [
    {
     "name": "stdout",
     "output_type": "stream",
     "text": [
      "Warning for adding constraints: zero or small (< 1e-13) coefficients, ignored\n",
      "Changed value of parameter TimeLimit to 3600.0\n",
      "   Prev: inf  Min: 0.0  Max: inf  Default: inf\n",
      "Parameter OutputFlag unchanged\n",
      "   Value: 1  Min: 0  Max: 1  Default: 1\n",
      "Changed value of parameter TimeLimit to 60.0\n",
      "   Prev: 3600.0  Min: 0.0  Max: inf  Default: inf\n",
      "Gurobi Optimizer version 9.1.2 build v9.1.2rc0 (win64)\n",
      "Thread count: 2 physical cores, 4 logical processors, using up to 4 threads\n",
      "Optimize a model with 40502 rows, 10500 columns and 85804 nonzeros\n",
      "Model fingerprint: 0x13ec4d11\n",
      "Variable types: 1000 continuous, 9500 integer (9500 binary)\n",
      "Coefficient statistics:\n",
      "  Matrix range     [1e-13, 3e+01]\n",
      "  Objective range  [1e+00, 1e+00]\n",
      "  Bounds range     [1e+00, 3e+00]\n",
      "  RHS range        [1e-08, 1e+02]\n",
      "Presolve removed 39292 rows and 2677 columns\n",
      "Presolve time: 0.58s\n",
      "Presolved: 1210 rows, 7823 columns, 22522 nonzeros\n",
      "Variable types: 403 continuous, 7420 integer (7420 binary)\n",
      "Found heuristic solution: objective 194.9105210\n",
      "Found heuristic solution: objective 242.2644521\n",
      "\n",
      "Root relaxation: objective 3.021939e+02, 530 iterations, 0.02 seconds\n",
      "\n",
      "    Nodes    |    Current Node    |     Objective Bounds      |     Work\n",
      " Expl Unexpl |  Obj  Depth IntInf | Incumbent    BestBd   Gap | It/Node Time\n",
      "\n",
      "     0     0  302.19389    0    2  242.26445  302.19389  24.7%     -    0s\n",
      "H    0     0                     301.8013867  302.19389  0.13%     -    0s\n",
      "H    0     0                     301.8581951  302.19389  0.11%     -    0s\n",
      "     0     0  302.19312    0    4  301.85820  302.19312  0.11%     -    0s\n",
      "     0     0  302.19312    0    2  301.85820  302.19312  0.11%     -    1s\n",
      "H    0     0                     302.0554479  302.19312  0.05%     -    1s\n",
      "     0     0  302.19312    0    4  302.05545  302.19312  0.05%     -    1s\n",
      "     0     0  302.19312    0    2  302.05545  302.19312  0.05%     -    1s\n",
      "     0     0  302.19312    0    4  302.05545  302.19312  0.05%     -    1s\n",
      "     0     0  302.13527    0    4  302.05545  302.13527  0.03%     -    1s\n",
      "     0     0  302.13520    0    6  302.05545  302.13520  0.03%     -    1s\n",
      "H    0     0                     302.1084373  302.13520  0.01%     -    1s\n",
      "\n",
      "Cutting planes:\n",
      "  Gomory: 1\n",
      "  MIR: 1\n",
      "\n",
      "Explored 1 nodes (1242 simplex iterations) in 1.44 seconds\n",
      "Thread count was 4 (of 4 available processors)\n",
      "\n",
      "Solution count 6: 302.108 302.055 301.858 ... 194.911\n",
      "\n",
      "Optimal solution found (tolerance 1.00e-04)\n",
      "Best objective 3.021084372602e+02, best bound 3.021351985651e+02, gap 0.0089%\n"
     ]
    }
   ],
   "source": [
    "# \\sum_i x_i <= BUDGET\n",
    "scholarship_deployed = Expression()\n",
    "\n",
    "for app_index in range(n_admitted):\n",
    "    scholarship_deployed.add_term(assign_scholarship[app_index], 1)\n",
    "\n",
    "m.add_constraint(scholarship_deployed, \"less_equal\", budget)\n",
    "m.add_gurobi_param_settings('TimeLimit',60)\n",
    "m.solve()\n",
    "\n"
   ]
  },
  {
   "cell_type": "markdown",
   "metadata": {
    "slideshow": {
     "slide_type": "slide"
    }
   },
   "source": [
    "## JANOS for our Example: Print the Results"
   ]
  },
  {
   "cell_type": "code",
   "execution_count": 80,
   "metadata": {
    "slideshow": {
     "slide_type": "-"
    }
   },
   "outputs": [
    {
     "name": "stdout",
     "output_type": "stream",
     "text": [
      "==> X (regular variables values) : \n",
      "assign_scholarship[0]  =  0.7\n",
      "assign_scholarship[1]  =  0.0\n",
      "assign_scholarship[2]  =  0.0\n",
      "assign_scholarship[3]  =  0.39\n",
      "assign_scholarship[4]  =  0.99\n",
      "assign_scholarship[5]  =  0.0\n",
      "assign_scholarship[6]  =  1.13\n",
      "assign_scholarship[7]  =  1.49\n",
      "assign_scholarship[8]  =  0.74\n",
      "assign_scholarship[9]  =  0.0\n",
      "assign_scholarship[10]  =  0.0\n",
      "assign_scholarship[11]  =  1.02\n",
      "assign_scholarship[12]  =  0.0\n",
      "assign_scholarship[13]  =  0.0\n",
      "assign_scholarship[14]  =  0.62\n",
      "assign_scholarship[15]  =  0.56\n",
      "assign_scholarship[16]  =  0.69\n",
      "assign_scholarship[17]  =  0.0\n",
      "assign_scholarship[18]  =  0.45\n",
      "assign_scholarship[19]  =  0.07\n",
      "assign_scholarship[20]  =  0.0\n",
      "assign_scholarship[21]  =  0.91\n",
      "assign_scholarship[22]  =  0.0\n",
      "assign_scholarship[23]  =  -0.0\n",
      "assign_scholarship[24]  =  0.67\n",
      "assign_scholarship[25]  =  0.44\n",
      "assign_scholarship[26]  =  0.54\n",
      "assign_scholarship[27]  =  0.0\n",
      "assign_scholarship[28]  =  1.19\n",
      "assign_scholarship[29]  =  0.0\n",
      "assign_scholarship[30]  =  0.0\n",
      "assign_scholarship[31]  =  0.92\n",
      "assign_scholarship[32]  =  0.45\n",
      "assign_scholarship[33]  =  0.0\n",
      "assign_scholarship[34]  =  0.0\n",
      "assign_scholarship[35]  =  0.0\n",
      "assign_scholarship[36]  =  0.0\n",
      "assign_scholarship[37]  =  0.0\n",
      "assign_scholarship[38]  =  0.79\n",
      "assign_scholarship[39]  =  0.0\n",
      "assign_scholarship[40]  =  0.0\n",
      "assign_scholarship[41]  =  0.0\n",
      "assign_scholarship[42]  =  0.0\n",
      "assign_scholarship[43]  =  0.0\n",
      "assign_scholarship[44]  =  0.0\n",
      "assign_scholarship[45]  =  0.57\n",
      "assign_scholarship[46]  =  0.0\n",
      "assign_scholarship[47]  =  0.5\n",
      "assign_scholarship[48]  =  0.0\n",
      "assign_scholarship[49]  =  0.0\n",
      "assign_scholarship[50]  =  0.0\n",
      "assign_scholarship[51]  =  0.0\n",
      "assign_scholarship[52]  =  0.0\n",
      "assign_scholarship[53]  =  1.18\n",
      "assign_scholarship[54]  =  0.0\n",
      "assign_scholarship[55]  =  0.0\n",
      "assign_scholarship[56]  =  0.0\n",
      "assign_scholarship[57]  =  0.0\n",
      "assign_scholarship[58]  =  0.0\n",
      "assign_scholarship[59]  =  0.0\n",
      "assign_scholarship[60]  =  0.0\n",
      "assign_scholarship[61]  =  0.0\n",
      "assign_scholarship[62]  =  0.0\n",
      "assign_scholarship[63]  =  0.0\n",
      "assign_scholarship[64]  =  0.0\n",
      "assign_scholarship[65]  =  0.0\n",
      "assign_scholarship[66]  =  1.49\n",
      "assign_scholarship[67]  =  0.0\n",
      "assign_scholarship[68]  =  1.11\n",
      "assign_scholarship[69]  =  1.3\n",
      "assign_scholarship[70]  =  0.0\n",
      "assign_scholarship[71]  =  0.0\n",
      "assign_scholarship[72]  =  0.0\n",
      "assign_scholarship[73]  =  0.0\n",
      "assign_scholarship[74]  =  1.43\n",
      "assign_scholarship[75]  =  0.46\n",
      "assign_scholarship[76]  =  0.0\n",
      "assign_scholarship[77]  =  0.0\n",
      "assign_scholarship[78]  =  0.0\n",
      "assign_scholarship[79]  =  0.0\n",
      "assign_scholarship[80]  =  0.0\n",
      "assign_scholarship[81]  =  0.0\n",
      "assign_scholarship[82]  =  0.0\n",
      "assign_scholarship[83]  =  0.0\n",
      "assign_scholarship[84]  =  0.0\n",
      "assign_scholarship[85]  =  0.0\n",
      "assign_scholarship[86]  =  0.0\n",
      "assign_scholarship[87]  =  0.0\n",
      "assign_scholarship[88]  =  1.48\n",
      "assign_scholarship[89]  =  0.0\n",
      "assign_scholarship[90]  =  0.45\n",
      "assign_scholarship[91]  =  0.0\n",
      "assign_scholarship[92]  =  0.0\n",
      "assign_scholarship[93]  =  0.0\n",
      "assign_scholarship[94]  =  0.0\n",
      "assign_scholarship[95]  =  0.0\n",
      "assign_scholarship[96]  =  0.0\n",
      "assign_scholarship[97]  =  0.0\n",
      "assign_scholarship[98]  =  0.0\n",
      "assign_scholarship[99]  =  0.0\n",
      "assign_scholarship[100]  =  0.0\n",
      "assign_scholarship[101]  =  1.37\n",
      "assign_scholarship[102]  =  0.0\n",
      "assign_scholarship[103]  =  0.0\n",
      "assign_scholarship[104]  =  0.0\n",
      "assign_scholarship[105]  =  1.44\n",
      "assign_scholarship[106]  =  0.0\n",
      "assign_scholarship[107]  =  0.0\n",
      "assign_scholarship[108]  =  0.0\n",
      "assign_scholarship[109]  =  0.0\n",
      "assign_scholarship[110]  =  0.0\n",
      "assign_scholarship[111]  =  0.0\n",
      "assign_scholarship[112]  =  0.0\n",
      "assign_scholarship[113]  =  0.0\n",
      "assign_scholarship[114]  =  0.98\n",
      "assign_scholarship[115]  =  0.0\n",
      "assign_scholarship[116]  =  0.0\n",
      "assign_scholarship[117]  =  0.0\n",
      "assign_scholarship[118]  =  0.64\n",
      "assign_scholarship[119]  =  0.0\n",
      "assign_scholarship[120]  =  0.0\n",
      "assign_scholarship[121]  =  0.89\n",
      "assign_scholarship[122]  =  1.04\n",
      "assign_scholarship[123]  =  -0.0\n",
      "assign_scholarship[124]  =  0.0\n",
      "assign_scholarship[125]  =  0.0\n",
      "assign_scholarship[126]  =  0.0\n",
      "assign_scholarship[127]  =  -0.0\n",
      "assign_scholarship[128]  =  0.0\n",
      "assign_scholarship[129]  =  0.45\n",
      "assign_scholarship[130]  =  0.0\n",
      "assign_scholarship[131]  =  0.0\n",
      "assign_scholarship[132]  =  0.0\n",
      "assign_scholarship[133]  =  0.0\n",
      "assign_scholarship[134]  =  0.0\n",
      "assign_scholarship[135]  =  0.0\n",
      "assign_scholarship[136]  =  0.0\n",
      "assign_scholarship[137]  =  0.0\n",
      "assign_scholarship[138]  =  0.0\n",
      "assign_scholarship[139]  =  0.0\n",
      "assign_scholarship[140]  =  0.0\n",
      "assign_scholarship[141]  =  0.44\n",
      "assign_scholarship[142]  =  0.0\n",
      "assign_scholarship[143]  =  0.0\n",
      "assign_scholarship[144]  =  0.0\n",
      "assign_scholarship[145]  =  0.0\n",
      "assign_scholarship[146]  =  0.86\n",
      "assign_scholarship[147]  =  0.0\n",
      "assign_scholarship[148]  =  0.0\n",
      "assign_scholarship[149]  =  0.0\n",
      "assign_scholarship[150]  =  0.0\n",
      "assign_scholarship[151]  =  0.0\n",
      "assign_scholarship[152]  =  0.0\n",
      "assign_scholarship[153]  =  0.0\n",
      "assign_scholarship[154]  =  0.0\n",
      "assign_scholarship[155]  =  0.0\n",
      "assign_scholarship[156]  =  0.0\n",
      "assign_scholarship[157]  =  0.0\n",
      "assign_scholarship[158]  =  0.0\n",
      "assign_scholarship[159]  =  0.0\n",
      "assign_scholarship[160]  =  0.0\n",
      "assign_scholarship[161]  =  0.53\n",
      "assign_scholarship[162]  =  0.81\n",
      "assign_scholarship[163]  =  0.0\n",
      "assign_scholarship[164]  =  0.0\n",
      "assign_scholarship[165]  =  0.0\n",
      "assign_scholarship[166]  =  0.05\n",
      "assign_scholarship[167]  =  0.0\n",
      "assign_scholarship[168]  =  0.0\n",
      "assign_scholarship[169]  =  0.0\n",
      "assign_scholarship[170]  =  0.0\n",
      "assign_scholarship[171]  =  0.01\n",
      "assign_scholarship[172]  =  0.0\n",
      "assign_scholarship[173]  =  1.42\n",
      "assign_scholarship[174]  =  0.03\n",
      "assign_scholarship[175]  =  0.0\n",
      "assign_scholarship[176]  =  0.0\n",
      "assign_scholarship[177]  =  0.0\n",
      "assign_scholarship[178]  =  0.0\n",
      "assign_scholarship[179]  =  0.0\n",
      "assign_scholarship[180]  =  0.0\n",
      "assign_scholarship[181]  =  0.11\n",
      "assign_scholarship[182]  =  1.43\n",
      "assign_scholarship[183]  =  0.35\n",
      "assign_scholarship[184]  =  1.45\n",
      "assign_scholarship[185]  =  0.0\n",
      "assign_scholarship[186]  =  0.99\n",
      "assign_scholarship[187]  =  0.0\n",
      "assign_scholarship[188]  =  0.0\n",
      "assign_scholarship[189]  =  0.0\n",
      "assign_scholarship[190]  =  0.32\n",
      "assign_scholarship[191]  =  0.13\n",
      "assign_scholarship[192]  =  0.0\n",
      "assign_scholarship[193]  =  0.0\n",
      "assign_scholarship[194]  =  0.0\n",
      "assign_scholarship[195]  =  0.0\n",
      "assign_scholarship[196]  =  0.0\n",
      "assign_scholarship[197]  =  0.08\n",
      "assign_scholarship[198]  =  0.0\n",
      "assign_scholarship[199]  =  0.0\n",
      "assign_scholarship[200]  =  0.0\n",
      "assign_scholarship[201]  =  0.0\n",
      "assign_scholarship[202]  =  0.0\n",
      "assign_scholarship[203]  =  0.0\n",
      "assign_scholarship[204]  =  1.37\n",
      "assign_scholarship[205]  =  0.0\n",
      "assign_scholarship[206]  =  0.0\n",
      "assign_scholarship[207]  =  0.0\n",
      "assign_scholarship[208]  =  0.0\n",
      "assign_scholarship[209]  =  0.0\n",
      "assign_scholarship[210]  =  0.0\n",
      "assign_scholarship[211]  =  0.0\n",
      "assign_scholarship[212]  =  0.0\n",
      "assign_scholarship[213]  =  1.33\n",
      "assign_scholarship[214]  =  1.09\n",
      "assign_scholarship[215]  =  0.0\n",
      "assign_scholarship[216]  =  0.0\n",
      "assign_scholarship[217]  =  0.0\n",
      "assign_scholarship[218]  =  0.0\n",
      "assign_scholarship[219]  =  0.0\n",
      "assign_scholarship[220]  =  0.0\n",
      "assign_scholarship[221]  =  0.0\n",
      "assign_scholarship[222]  =  0.0\n",
      "assign_scholarship[223]  =  0.0\n",
      "assign_scholarship[224]  =  0.0\n",
      "assign_scholarship[225]  =  0.07\n",
      "assign_scholarship[226]  =  -0.0\n",
      "assign_scholarship[227]  =  0.0\n",
      "assign_scholarship[228]  =  1.55\n",
      "assign_scholarship[229]  =  0.0\n",
      "assign_scholarship[230]  =  0.0\n",
      "assign_scholarship[231]  =  0.0\n",
      "assign_scholarship[232]  =  0.0\n",
      "assign_scholarship[233]  =  0.0\n",
      "assign_scholarship[234]  =  0.0\n",
      "assign_scholarship[235]  =  0.0\n",
      "assign_scholarship[236]  =  0.0\n",
      "assign_scholarship[237]  =  0.0\n",
      "assign_scholarship[238]  =  0.07\n",
      "assign_scholarship[239]  =  0.0\n",
      "assign_scholarship[240]  =  0.0\n",
      "assign_scholarship[241]  =  -0.0\n",
      "assign_scholarship[242]  =  0.0\n",
      "assign_scholarship[243]  =  0.29\n",
      "assign_scholarship[244]  =  0.0\n",
      "assign_scholarship[245]  =  0.0\n",
      "assign_scholarship[246]  =  0.0\n",
      "assign_scholarship[247]  =  1.51\n",
      "assign_scholarship[248]  =  0.0\n",
      "assign_scholarship[249]  =  0.43\n",
      "assign_scholarship[250]  =  0.0\n",
      "assign_scholarship[251]  =  0.0\n",
      "assign_scholarship[252]  =  0.0\n",
      "assign_scholarship[253]  =  0.64\n",
      "assign_scholarship[254]  =  0.22\n",
      "assign_scholarship[255]  =  0.0\n",
      "assign_scholarship[256]  =  0.0\n",
      "assign_scholarship[257]  =  1.39\n",
      "assign_scholarship[258]  =  0.0\n",
      "assign_scholarship[259]  =  0.08\n",
      "assign_scholarship[260]  =  0.0\n",
      "assign_scholarship[261]  =  0.0\n",
      "assign_scholarship[262]  =  0.0\n",
      "assign_scholarship[263]  =  0.0\n",
      "assign_scholarship[264]  =  0.0\n",
      "assign_scholarship[265]  =  0.0\n",
      "assign_scholarship[266]  =  1.52\n",
      "assign_scholarship[267]  =  1.0\n",
      "assign_scholarship[268]  =  0.37\n",
      "assign_scholarship[269]  =  0.16\n",
      "assign_scholarship[270]  =  0.0\n",
      "assign_scholarship[271]  =  1.26\n",
      "assign_scholarship[272]  =  0.0\n",
      "assign_scholarship[273]  =  0.75\n",
      "assign_scholarship[274]  =  0.0\n",
      "assign_scholarship[275]  =  0.0\n",
      "assign_scholarship[276]  =  0.7\n",
      "assign_scholarship[277]  =  0.0\n",
      "assign_scholarship[278]  =  0.0\n",
      "assign_scholarship[279]  =  0.0\n",
      "assign_scholarship[280]  =  0.0\n",
      "assign_scholarship[281]  =  1.08\n",
      "assign_scholarship[282]  =  0.0\n",
      "assign_scholarship[283]  =  0.0\n",
      "assign_scholarship[284]  =  0.0\n",
      "assign_scholarship[285]  =  0.0\n",
      "assign_scholarship[286]  =  0.61\n",
      "assign_scholarship[287]  =  0.0\n",
      "assign_scholarship[288]  =  0.0\n",
      "assign_scholarship[289]  =  0.0\n",
      "assign_scholarship[290]  =  0.48\n",
      "assign_scholarship[291]  =  0.16\n",
      "assign_scholarship[292]  =  -0.0\n",
      "assign_scholarship[293]  =  0.35\n",
      "assign_scholarship[294]  =  0.0\n",
      "assign_scholarship[295]  =  0.7\n",
      "assign_scholarship[296]  =  1.34\n",
      "assign_scholarship[297]  =  0.0\n",
      "assign_scholarship[298]  =  0.0\n",
      "assign_scholarship[299]  =  0.0\n",
      "assign_scholarship[300]  =  1.26\n",
      "assign_scholarship[301]  =  0.0\n",
      "assign_scholarship[302]  =  0.0\n",
      "assign_scholarship[303]  =  0.0\n",
      "assign_scholarship[304]  =  0.0\n",
      "assign_scholarship[305]  =  0.0\n",
      "assign_scholarship[306]  =  0.0\n",
      "assign_scholarship[307]  =  0.0\n",
      "assign_scholarship[308]  =  0.0\n",
      "assign_scholarship[309]  =  0.01\n",
      "assign_scholarship[310]  =  1.23\n",
      "assign_scholarship[311]  =  0.0\n",
      "assign_scholarship[312]  =  1.4\n",
      "assign_scholarship[313]  =  1.06\n",
      "assign_scholarship[314]  =  0.0\n",
      "assign_scholarship[315]  =  0.0\n",
      "assign_scholarship[316]  =  0.0\n",
      "assign_scholarship[317]  =  0.0\n",
      "assign_scholarship[318]  =  0.0\n",
      "assign_scholarship[319]  =  0.0\n",
      "assign_scholarship[320]  =  0.0\n",
      "assign_scholarship[321]  =  0.0\n",
      "assign_scholarship[322]  =  0.0\n",
      "assign_scholarship[323]  =  0.0\n",
      "assign_scholarship[324]  =  0.0\n",
      "assign_scholarship[325]  =  0.0\n",
      "assign_scholarship[326]  =  0.0\n",
      "assign_scholarship[327]  =  0.0\n",
      "assign_scholarship[328]  =  1.41\n",
      "assign_scholarship[329]  =  0.0\n",
      "assign_scholarship[330]  =  0.0\n",
      "assign_scholarship[331]  =  0.0\n",
      "assign_scholarship[332]  =  0.0\n",
      "assign_scholarship[333]  =  0.08\n",
      "assign_scholarship[334]  =  0.0\n",
      "assign_scholarship[335]  =  0.0\n",
      "assign_scholarship[336]  =  0.0\n",
      "assign_scholarship[337]  =  0.0\n",
      "assign_scholarship[338]  =  0.0\n",
      "assign_scholarship[339]  =  0.61\n",
      "assign_scholarship[340]  =  0.49\n",
      "assign_scholarship[341]  =  0.0\n",
      "assign_scholarship[342]  =  0.0\n",
      "assign_scholarship[343]  =  0.0\n",
      "assign_scholarship[344]  =  0.0\n",
      "assign_scholarship[345]  =  0.3\n",
      "assign_scholarship[346]  =  0.0\n",
      "assign_scholarship[347]  =  0.0\n",
      "assign_scholarship[348]  =  0.3\n",
      "assign_scholarship[349]  =  0.0\n",
      "assign_scholarship[350]  =  0.0\n",
      "assign_scholarship[351]  =  0.0\n",
      "assign_scholarship[352]  =  0.0\n",
      "assign_scholarship[353]  =  0.0\n",
      "assign_scholarship[354]  =  0.0\n",
      "assign_scholarship[355]  =  0.0\n",
      "assign_scholarship[356]  =  0.0\n",
      "assign_scholarship[357]  =  0.0\n",
      "assign_scholarship[358]  =  0.0\n",
      "assign_scholarship[359]  =  -0.0\n",
      "assign_scholarship[360]  =  0.0\n",
      "assign_scholarship[361]  =  0.0\n",
      "assign_scholarship[362]  =  0.0\n",
      "assign_scholarship[363]  =  0.0\n",
      "assign_scholarship[364]  =  0.0\n",
      "assign_scholarship[365]  =  0.0\n",
      "assign_scholarship[366]  =  0.0\n",
      "assign_scholarship[367]  =  -0.0\n",
      "assign_scholarship[368]  =  0.2\n",
      "assign_scholarship[369]  =  0.0\n",
      "assign_scholarship[370]  =  0.61\n",
      "assign_scholarship[371]  =  0.0\n",
      "assign_scholarship[372]  =  0.0\n",
      "assign_scholarship[373]  =  1.11\n",
      "assign_scholarship[374]  =  0.0\n",
      "assign_scholarship[375]  =  0.0\n",
      "assign_scholarship[376]  =  0.0\n",
      "assign_scholarship[377]  =  1.42\n",
      "assign_scholarship[378]  =  0.0\n",
      "assign_scholarship[379]  =  1.39\n",
      "assign_scholarship[380]  =  0.0\n"
     ]
    },
    {
     "name": "stdout",
     "output_type": "stream",
     "text": [
      "assign_scholarship[381]  =  0.05\n",
      "assign_scholarship[382]  =  0.0\n",
      "assign_scholarship[383]  =  0.04\n",
      "assign_scholarship[384]  =  0.0\n",
      "assign_scholarship[385]  =  0.86\n",
      "assign_scholarship[386]  =  0.46\n",
      "assign_scholarship[387]  =  0.0\n",
      "assign_scholarship[388]  =  0.0\n",
      "assign_scholarship[389]  =  0.04\n",
      "assign_scholarship[390]  =  0.8\n",
      "assign_scholarship[391]  =  0.0\n",
      "assign_scholarship[392]  =  1.01\n",
      "assign_scholarship[393]  =  1.21\n",
      "assign_scholarship[394]  =  1.27\n",
      "assign_scholarship[395]  =  0.0\n",
      "assign_scholarship[396]  =  0.0\n",
      "assign_scholarship[397]  =  0.0\n",
      "assign_scholarship[398]  =  0.0\n",
      "assign_scholarship[399]  =  0.0\n",
      "assign_scholarship[400]  =  0.0\n",
      "assign_scholarship[401]  =  0.0\n",
      "assign_scholarship[402]  =  0.0\n",
      "assign_scholarship[403]  =  0.0\n",
      "assign_scholarship[404]  =  0.0\n",
      "assign_scholarship[405]  =  0.0\n",
      "assign_scholarship[406]  =  0.0\n",
      "assign_scholarship[407]  =  0.0\n",
      "assign_scholarship[408]  =  0.0\n",
      "assign_scholarship[409]  =  0.0\n",
      "assign_scholarship[410]  =  0.61\n",
      "assign_scholarship[411]  =  0.0\n",
      "assign_scholarship[412]  =  0.0\n",
      "assign_scholarship[413]  =  0.0\n",
      "assign_scholarship[414]  =  0.0\n",
      "assign_scholarship[415]  =  0.0\n",
      "assign_scholarship[416]  =  0.0\n",
      "assign_scholarship[417]  =  0.0\n",
      "assign_scholarship[418]  =  0.0\n",
      "assign_scholarship[419]  =  0.0\n",
      "assign_scholarship[420]  =  0.49\n",
      "assign_scholarship[421]  =  0.0\n",
      "assign_scholarship[422]  =  0.13\n",
      "assign_scholarship[423]  =  0.0\n",
      "assign_scholarship[424]  =  1.36\n",
      "assign_scholarship[425]  =  0.0\n",
      "assign_scholarship[426]  =  0.0\n",
      "assign_scholarship[427]  =  0.0\n",
      "assign_scholarship[428]  =  1.03\n",
      "assign_scholarship[429]  =  0.0\n",
      "assign_scholarship[430]  =  0.57\n",
      "assign_scholarship[431]  =  0.58\n",
      "assign_scholarship[432]  =  0.29\n",
      "assign_scholarship[433]  =  0.0\n",
      "assign_scholarship[434]  =  0.0\n",
      "assign_scholarship[435]  =  0.0\n",
      "assign_scholarship[436]  =  0.0\n",
      "assign_scholarship[437]  =  0.0\n",
      "assign_scholarship[438]  =  0.88\n",
      "assign_scholarship[439]  =  0.0\n",
      "assign_scholarship[440]  =  0.0\n",
      "assign_scholarship[441]  =  0.0\n",
      "assign_scholarship[442]  =  0.0\n",
      "assign_scholarship[443]  =  0.4\n",
      "assign_scholarship[444]  =  0.35\n",
      "assign_scholarship[445]  =  0.0\n",
      "assign_scholarship[446]  =  1.01\n",
      "assign_scholarship[447]  =  0.0\n",
      "assign_scholarship[448]  =  0.0\n",
      "assign_scholarship[449]  =  0.92\n",
      "assign_scholarship[450]  =  0.0\n",
      "assign_scholarship[451]  =  0.0\n",
      "assign_scholarship[452]  =  0.0\n",
      "assign_scholarship[453]  =  0.0\n",
      "assign_scholarship[454]  =  0.0\n",
      "assign_scholarship[455]  =  0.36\n",
      "assign_scholarship[456]  =  0.0\n",
      "assign_scholarship[457]  =  0.84\n",
      "assign_scholarship[458]  =  0.16\n",
      "assign_scholarship[459]  =  0.0\n",
      "assign_scholarship[460]  =  0.0\n",
      "assign_scholarship[461]  =  0.0\n",
      "assign_scholarship[462]  =  0.0\n",
      "assign_scholarship[463]  =  1.48\n",
      "assign_scholarship[464]  =  0.0\n",
      "assign_scholarship[465]  =  0.48\n",
      "assign_scholarship[466]  =  0.0\n",
      "assign_scholarship[467]  =  0.0\n",
      "assign_scholarship[468]  =  0.0\n",
      "assign_scholarship[469]  =  1.48\n",
      "assign_scholarship[470]  =  0.0\n",
      "assign_scholarship[471]  =  0.0\n",
      "assign_scholarship[472]  =  1.29\n",
      "assign_scholarship[473]  =  0.0\n",
      "assign_scholarship[474]  =  1.11\n",
      "assign_scholarship[475]  =  0.0\n",
      "assign_scholarship[476]  =  0.0\n",
      "assign_scholarship[477]  =  0.0\n",
      "assign_scholarship[478]  =  0.68\n",
      "assign_scholarship[479]  =  0.0\n",
      "assign_scholarship[480]  =  0.0\n",
      "assign_scholarship[481]  =  0.0\n",
      "assign_scholarship[482]  =  0.0\n",
      "assign_scholarship[483]  =  0.13\n",
      "assign_scholarship[484]  =  0.0\n",
      "assign_scholarship[485]  =  1.1\n",
      "assign_scholarship[486]  =  0.78\n",
      "assign_scholarship[487]  =  0.0\n",
      "assign_scholarship[488]  =  0.0\n",
      "assign_scholarship[489]  =  0.0\n",
      "assign_scholarship[490]  =  0.0\n",
      "assign_scholarship[491]  =  0.45\n",
      "assign_scholarship[492]  =  0.0\n",
      "assign_scholarship[493]  =  0.0\n",
      "assign_scholarship[494]  =  -0.0\n",
      "assign_scholarship[495]  =  0.0\n",
      "assign_scholarship[496]  =  0.0\n",
      "assign_scholarship[497]  =  0.11\n",
      "assign_scholarship[498]  =  1.25\n",
      "assign_scholarship[499]  =  0.0\n",
      "==> Y (predicted variables values) : \n",
      "enroll_probs[0]  =  1.0\n",
      "enroll_probs[1]  =  1.0\n",
      "enroll_probs[2]  =  0.0\n",
      "enroll_probs[3]  =  1.0\n",
      "enroll_probs[4]  =  1.0\n",
      "enroll_probs[5]  =  0.0\n",
      "enroll_probs[6]  =  1.0\n",
      "enroll_probs[7]  =  1.0\n",
      "enroll_probs[8]  =  1.0\n",
      "enroll_probs[9]  =  1.0\n",
      "enroll_probs[10]  =  1.0\n",
      "enroll_probs[11]  =  1.0\n",
      "enroll_probs[12]  =  1.0\n",
      "enroll_probs[13]  =  1.0\n",
      "enroll_probs[14]  =  1.0\n",
      "enroll_probs[15]  =  1.0\n",
      "enroll_probs[16]  =  1.0\n",
      "enroll_probs[17]  =  0.99\n",
      "enroll_probs[18]  =  1.0\n",
      "enroll_probs[19]  =  0.97\n",
      "enroll_probs[20]  =  0.0\n",
      "enroll_probs[21]  =  1.0\n",
      "enroll_probs[22]  =  0.0\n",
      "enroll_probs[23]  =  0.0\n",
      "enroll_probs[24]  =  1.0\n",
      "enroll_probs[25]  =  1.0\n",
      "enroll_probs[26]  =  1.0\n",
      "enroll_probs[27]  =  1.0\n",
      "enroll_probs[28]  =  1.0\n",
      "enroll_probs[29]  =  0.0\n",
      "enroll_probs[30]  =  0.0\n",
      "enroll_probs[31]  =  1.0\n",
      "enroll_probs[32]  =  1.0\n",
      "enroll_probs[33]  =  1.0\n",
      "enroll_probs[34]  =  0.0\n",
      "enroll_probs[35]  =  0.0\n",
      "enroll_probs[36]  =  1.0\n",
      "enroll_probs[37]  =  1.0\n",
      "enroll_probs[38]  =  1.0\n",
      "enroll_probs[39]  =  0.0\n",
      "enroll_probs[40]  =  0.0\n",
      "enroll_probs[41]  =  1.0\n",
      "enroll_probs[42]  =  1.0\n",
      "enroll_probs[43]  =  0.0\n",
      "enroll_probs[44]  =  0.0\n",
      "enroll_probs[45]  =  1.0\n",
      "enroll_probs[46]  =  0.0\n",
      "enroll_probs[47]  =  1.0\n",
      "enroll_probs[48]  =  0.0\n",
      "enroll_probs[49]  =  0.0\n",
      "enroll_probs[50]  =  1.0\n",
      "enroll_probs[51]  =  0.0\n",
      "enroll_probs[52]  =  0.0\n",
      "enroll_probs[53]  =  1.0\n",
      "enroll_probs[54]  =  0.0\n",
      "enroll_probs[55]  =  0.0\n",
      "enroll_probs[56]  =  1.0\n",
      "enroll_probs[57]  =  0.0\n",
      "enroll_probs[58]  =  1.0\n",
      "enroll_probs[59]  =  0.0\n",
      "enroll_probs[60]  =  0.0\n",
      "enroll_probs[61]  =  0.0\n",
      "enroll_probs[62]  =  1.0\n",
      "enroll_probs[63]  =  0.0\n",
      "enroll_probs[64]  =  1.0\n",
      "enroll_probs[65]  =  1.0\n",
      "enroll_probs[66]  =  1.0\n",
      "enroll_probs[67]  =  1.0\n",
      "enroll_probs[68]  =  1.0\n",
      "enroll_probs[69]  =  1.0\n",
      "enroll_probs[70]  =  1.0\n",
      "enroll_probs[71]  =  0.0\n",
      "enroll_probs[72]  =  1.0\n",
      "enroll_probs[73]  =  1.0\n",
      "enroll_probs[74]  =  1.0\n",
      "enroll_probs[75]  =  1.0\n",
      "enroll_probs[76]  =  1.0\n",
      "enroll_probs[77]  =  0.0\n",
      "enroll_probs[78]  =  0.0\n",
      "enroll_probs[79]  =  1.0\n",
      "enroll_probs[80]  =  0.0\n",
      "enroll_probs[81]  =  0.0\n",
      "enroll_probs[82]  =  1.0\n",
      "enroll_probs[83]  =  1.0\n",
      "enroll_probs[84]  =  0.0\n",
      "enroll_probs[85]  =  0.0\n",
      "enroll_probs[86]  =  0.0\n",
      "enroll_probs[87]  =  1.0\n",
      "enroll_probs[88]  =  1.0\n",
      "enroll_probs[89]  =  1.0\n",
      "enroll_probs[90]  =  1.0\n",
      "enroll_probs[91]  =  1.0\n",
      "enroll_probs[92]  =  0.0\n",
      "enroll_probs[93]  =  0.0\n",
      "enroll_probs[94]  =  0.0\n",
      "enroll_probs[95]  =  0.0\n",
      "enroll_probs[96]  =  1.0\n",
      "enroll_probs[97]  =  1.0\n",
      "enroll_probs[98]  =  1.0\n",
      "enroll_probs[99]  =  0.0\n",
      "enroll_probs[100]  =  0.0\n",
      "enroll_probs[101]  =  1.0\n",
      "enroll_probs[102]  =  0.0\n",
      "enroll_probs[103]  =  1.0\n",
      "enroll_probs[104]  =  1.0\n",
      "enroll_probs[105]  =  1.0\n",
      "enroll_probs[106]  =  0.0\n",
      "enroll_probs[107]  =  1.0\n",
      "enroll_probs[108]  =  0.0\n",
      "enroll_probs[109]  =  0.0\n",
      "enroll_probs[110]  =  0.0\n",
      "enroll_probs[111]  =  1.0\n",
      "enroll_probs[112]  =  1.0\n",
      "enroll_probs[113]  =  1.0\n",
      "enroll_probs[114]  =  1.0\n",
      "enroll_probs[115]  =  1.0\n",
      "enroll_probs[116]  =  1.0\n",
      "enroll_probs[117]  =  0.98\n",
      "enroll_probs[118]  =  1.0\n",
      "enroll_probs[119]  =  0.0\n",
      "enroll_probs[120]  =  1.0\n",
      "enroll_probs[121]  =  1.0\n",
      "enroll_probs[122]  =  1.0\n",
      "enroll_probs[123]  =  0.0\n",
      "enroll_probs[124]  =  1.0\n",
      "enroll_probs[125]  =  1.0\n",
      "enroll_probs[126]  =  1.0\n",
      "enroll_probs[127]  =  0.0\n",
      "enroll_probs[128]  =  0.0\n",
      "enroll_probs[129]  =  1.0\n",
      "enroll_probs[130]  =  1.0\n",
      "enroll_probs[131]  =  0.0\n",
      "enroll_probs[132]  =  0.0\n",
      "enroll_probs[133]  =  1.0\n",
      "enroll_probs[134]  =  0.0\n",
      "enroll_probs[135]  =  0.0\n",
      "enroll_probs[136]  =  1.0\n",
      "enroll_probs[137]  =  1.0\n",
      "enroll_probs[138]  =  1.0\n",
      "enroll_probs[139]  =  1.0\n",
      "enroll_probs[140]  =  0.0\n",
      "enroll_probs[141]  =  1.0\n",
      "enroll_probs[142]  =  0.0\n",
      "enroll_probs[143]  =  0.0\n",
      "enroll_probs[144]  =  0.0\n",
      "enroll_probs[145]  =  0.0\n",
      "enroll_probs[146]  =  1.0\n",
      "enroll_probs[147]  =  0.0\n",
      "enroll_probs[148]  =  1.0\n",
      "enroll_probs[149]  =  0.0\n",
      "enroll_probs[150]  =  1.0\n",
      "enroll_probs[151]  =  0.0\n",
      "enroll_probs[152]  =  0.0\n",
      "enroll_probs[153]  =  0.0\n",
      "enroll_probs[154]  =  1.0\n",
      "enroll_probs[155]  =  0.0\n",
      "enroll_probs[156]  =  0.0\n",
      "enroll_probs[157]  =  1.0\n",
      "enroll_probs[158]  =  1.0\n",
      "enroll_probs[159]  =  0.0\n",
      "enroll_probs[160]  =  1.0\n",
      "enroll_probs[161]  =  1.0\n",
      "enroll_probs[162]  =  1.0\n",
      "enroll_probs[163]  =  0.0\n",
      "enroll_probs[164]  =  0.0\n",
      "enroll_probs[165]  =  0.0\n",
      "enroll_probs[166]  =  0.97\n",
      "enroll_probs[167]  =  0.99\n",
      "enroll_probs[168]  =  1.0\n",
      "enroll_probs[169]  =  0.0\n",
      "enroll_probs[170]  =  0.0\n",
      "enroll_probs[171]  =  0.97\n",
      "enroll_probs[172]  =  0.0\n",
      "enroll_probs[173]  =  1.0\n",
      "enroll_probs[174]  =  0.97\n",
      "enroll_probs[175]  =  0.0\n",
      "enroll_probs[176]  =  1.0\n",
      "enroll_probs[177]  =  0.0\n",
      "enroll_probs[178]  =  1.0\n",
      "enroll_probs[179]  =  1.0\n",
      "enroll_probs[180]  =  1.0\n",
      "enroll_probs[181]  =  0.97\n",
      "enroll_probs[182]  =  1.0\n",
      "enroll_probs[183]  =  1.0\n",
      "enroll_probs[184]  =  1.0\n",
      "enroll_probs[185]  =  0.0\n",
      "enroll_probs[186]  =  1.0\n",
      "enroll_probs[187]  =  0.0\n",
      "enroll_probs[188]  =  0.0\n",
      "enroll_probs[189]  =  1.0\n",
      "enroll_probs[190]  =  1.0\n",
      "enroll_probs[191]  =  0.97\n",
      "enroll_probs[192]  =  1.0\n",
      "enroll_probs[193]  =  0.0\n",
      "enroll_probs[194]  =  0.0\n",
      "enroll_probs[195]  =  0.0\n",
      "enroll_probs[196]  =  0.0\n",
      "enroll_probs[197]  =  0.97\n",
      "enroll_probs[198]  =  1.0\n",
      "enroll_probs[199]  =  0.0\n",
      "enroll_probs[200]  =  0.0\n",
      "enroll_probs[201]  =  0.0\n",
      "enroll_probs[202]  =  0.0\n",
      "enroll_probs[203]  =  0.0\n",
      "enroll_probs[204]  =  1.0\n",
      "enroll_probs[205]  =  0.0\n",
      "enroll_probs[206]  =  1.0\n",
      "enroll_probs[207]  =  0.0\n",
      "enroll_probs[208]  =  1.0\n",
      "enroll_probs[209]  =  0.0\n",
      "enroll_probs[210]  =  0.0\n",
      "enroll_probs[211]  =  1.0\n",
      "enroll_probs[212]  =  1.0\n",
      "enroll_probs[213]  =  1.0\n",
      "enroll_probs[214]  =  1.0\n",
      "enroll_probs[215]  =  1.0\n",
      "enroll_probs[216]  =  1.0\n",
      "enroll_probs[217]  =  0.0\n",
      "enroll_probs[218]  =  0.99\n",
      "enroll_probs[219]  =  1.0\n",
      "enroll_probs[220]  =  1.0\n",
      "enroll_probs[221]  =  0.0\n",
      "enroll_probs[222]  =  0.0\n",
      "enroll_probs[223]  =  0.0\n",
      "enroll_probs[224]  =  0.0\n",
      "enroll_probs[225]  =  0.97\n",
      "enroll_probs[226]  =  0.0\n",
      "enroll_probs[227]  =  0.0\n",
      "enroll_probs[228]  =  1.0\n",
      "enroll_probs[229]  =  1.0\n",
      "enroll_probs[230]  =  0.0\n",
      "enroll_probs[231]  =  0.0\n",
      "enroll_probs[232]  =  0.0\n",
      "enroll_probs[233]  =  1.0\n",
      "enroll_probs[234]  =  0.0\n",
      "enroll_probs[235]  =  0.0\n",
      "enroll_probs[236]  =  0.0\n",
      "enroll_probs[237]  =  1.0\n",
      "enroll_probs[238]  =  0.97\n",
      "enroll_probs[239]  =  0.0\n",
      "enroll_probs[240]  =  0.99\n",
      "enroll_probs[241]  =  0.0\n",
      "enroll_probs[242]  =  0.0\n",
      "enroll_probs[243]  =  1.0\n",
      "enroll_probs[244]  =  1.0\n",
      "enroll_probs[245]  =  0.0\n",
      "enroll_probs[246]  =  0.0\n",
      "enroll_probs[247]  =  1.0\n",
      "enroll_probs[248]  =  0.0\n",
      "enroll_probs[249]  =  1.0\n",
      "enroll_probs[250]  =  1.0\n",
      "enroll_probs[251]  =  0.0\n",
      "enroll_probs[252]  =  1.0\n",
      "enroll_probs[253]  =  1.0\n",
      "enroll_probs[254]  =  0.96\n",
      "enroll_probs[255]  =  1.0\n",
      "enroll_probs[256]  =  1.0\n",
      "enroll_probs[257]  =  1.0\n",
      "enroll_probs[258]  =  0.0\n",
      "enroll_probs[259]  =  0.97\n",
      "enroll_probs[260]  =  1.0\n",
      "enroll_probs[261]  =  0.0\n",
      "enroll_probs[262]  =  0.0\n",
      "enroll_probs[263]  =  0.0\n",
      "enroll_probs[264]  =  1.0\n",
      "enroll_probs[265]  =  1.0\n",
      "enroll_probs[266]  =  1.0\n",
      "enroll_probs[267]  =  1.0\n",
      "enroll_probs[268]  =  1.0\n",
      "enroll_probs[269]  =  0.97\n",
      "enroll_probs[270]  =  0.0\n",
      "enroll_probs[271]  =  1.0\n",
      "enroll_probs[272]  =  1.0\n",
      "enroll_probs[273]  =  1.0\n",
      "enroll_probs[274]  =  1.0\n",
      "enroll_probs[275]  =  1.0\n",
      "enroll_probs[276]  =  1.0\n",
      "enroll_probs[277]  =  0.98\n",
      "enroll_probs[278]  =  1.0\n",
      "enroll_probs[279]  =  1.0\n",
      "enroll_probs[280]  =  0.0\n",
      "enroll_probs[281]  =  1.0\n",
      "enroll_probs[282]  =  0.0\n",
      "enroll_probs[283]  =  0.0\n",
      "enroll_probs[284]  =  0.0\n",
      "enroll_probs[285]  =  0.0\n",
      "enroll_probs[286]  =  1.0\n",
      "enroll_probs[287]  =  0.0\n",
      "enroll_probs[288]  =  1.0\n",
      "enroll_probs[289]  =  1.0\n",
      "enroll_probs[290]  =  1.0\n",
      "enroll_probs[291]  =  0.98\n",
      "enroll_probs[292]  =  0.0\n",
      "enroll_probs[293]  =  1.0\n",
      "enroll_probs[294]  =  1.0\n",
      "enroll_probs[295]  =  1.0\n",
      "enroll_probs[296]  =  1.0\n",
      "enroll_probs[297]  =  0.0\n",
      "enroll_probs[298]  =  0.0\n",
      "enroll_probs[299]  =  0.0\n",
      "enroll_probs[300]  =  1.0\n",
      "enroll_probs[301]  =  0.0\n",
      "enroll_probs[302]  =  0.0\n",
      "enroll_probs[303]  =  0.0\n",
      "enroll_probs[304]  =  0.0\n",
      "enroll_probs[305]  =  0.0\n",
      "enroll_probs[306]  =  1.0\n",
      "enroll_probs[307]  =  0.0\n",
      "enroll_probs[308]  =  0.0\n",
      "enroll_probs[309]  =  0.97\n",
      "enroll_probs[310]  =  1.0\n",
      "enroll_probs[311]  =  1.0\n",
      "enroll_probs[312]  =  1.0\n",
      "enroll_probs[313]  =  1.0\n",
      "enroll_probs[314]  =  0.0\n",
      "enroll_probs[315]  =  1.0\n",
      "enroll_probs[316]  =  0.0\n",
      "enroll_probs[317]  =  0.0\n",
      "enroll_probs[318]  =  1.0\n",
      "enroll_probs[319]  =  0.0\n",
      "enroll_probs[320]  =  1.0\n",
      "enroll_probs[321]  =  0.0\n",
      "enroll_probs[322]  =  1.0\n",
      "enroll_probs[323]  =  1.0\n",
      "enroll_probs[324]  =  1.0\n",
      "enroll_probs[325]  =  0.0\n",
      "enroll_probs[326]  =  0.0\n",
      "enroll_probs[327]  =  0.0\n",
      "enroll_probs[328]  =  1.0\n",
      "enroll_probs[329]  =  0.0\n",
      "enroll_probs[330]  =  0.0\n",
      "enroll_probs[331]  =  0.0\n",
      "enroll_probs[332]  =  1.0\n",
      "enroll_probs[333]  =  0.97\n",
      "enroll_probs[334]  =  1.0\n",
      "enroll_probs[335]  =  1.0\n",
      "enroll_probs[336]  =  1.0\n",
      "enroll_probs[337]  =  0.0\n",
      "enroll_probs[338]  =  0.0\n",
      "enroll_probs[339]  =  1.0\n",
      "enroll_probs[340]  =  1.0\n",
      "enroll_probs[341]  =  1.0\n",
      "enroll_probs[342]  =  1.0\n",
      "enroll_probs[343]  =  1.0\n",
      "enroll_probs[344]  =  1.0\n",
      "enroll_probs[345]  =  1.0\n",
      "enroll_probs[346]  =  1.0\n",
      "enroll_probs[347]  =  0.0\n",
      "enroll_probs[348]  =  1.0\n",
      "enroll_probs[349]  =  1.0\n",
      "enroll_probs[350]  =  0.0\n",
      "enroll_probs[351]  =  0.0\n",
      "enroll_probs[352]  =  1.0\n",
      "enroll_probs[353]  =  0.0\n",
      "enroll_probs[354]  =  1.0\n",
      "enroll_probs[355]  =  0.0\n",
      "enroll_probs[356]  =  0.97\n",
      "enroll_probs[357]  =  1.0\n",
      "enroll_probs[358]  =  1.0\n",
      "enroll_probs[359]  =  0.0\n",
      "enroll_probs[360]  =  1.0\n",
      "enroll_probs[361]  =  1.0\n",
      "enroll_probs[362]  =  1.0\n",
      "enroll_probs[363]  =  1.0\n",
      "enroll_probs[364]  =  0.0\n",
      "enroll_probs[365]  =  0.0\n",
      "enroll_probs[366]  =  0.0\n",
      "enroll_probs[367]  =  0.0\n",
      "enroll_probs[368]  =  0.98\n",
      "enroll_probs[369]  =  1.0\n",
      "enroll_probs[370]  =  1.0\n",
      "enroll_probs[371]  =  0.0\n",
      "enroll_probs[372]  =  0.0\n",
      "enroll_probs[373]  =  1.0\n",
      "enroll_probs[374]  =  0.0\n",
      "enroll_probs[375]  =  1.0\n",
      "enroll_probs[376]  =  1.0\n",
      "enroll_probs[377]  =  1.0\n",
      "enroll_probs[378]  =  0.0\n",
      "enroll_probs[379]  =  1.0\n",
      "enroll_probs[380]  =  1.0\n",
      "enroll_probs[381]  =  0.97\n",
      "enroll_probs[382]  =  0.0\n",
      "enroll_probs[383]  =  0.97\n",
      "enroll_probs[384]  =  1.0\n",
      "enroll_probs[385]  =  1.0\n",
      "enroll_probs[386]  =  1.0\n",
      "enroll_probs[387]  =  1.0\n",
      "enroll_probs[388]  =  1.0\n",
      "enroll_probs[389]  =  0.97\n",
      "enroll_probs[390]  =  1.0\n",
      "enroll_probs[391]  =  1.0\n",
      "enroll_probs[392]  =  1.0\n",
      "enroll_probs[393]  =  1.0\n",
      "enroll_probs[394]  =  1.0\n",
      "enroll_probs[395]  =  1.0\n",
      "enroll_probs[396]  =  1.0\n",
      "enroll_probs[397]  =  0.0\n",
      "enroll_probs[398]  =  0.0\n",
      "enroll_probs[399]  =  0.0\n",
      "enroll_probs[400]  =  0.0\n",
      "enroll_probs[401]  =  0.0\n",
      "enroll_probs[402]  =  1.0\n",
      "enroll_probs[403]  =  1.0\n",
      "enroll_probs[404]  =  0.0\n",
      "enroll_probs[405]  =  0.0\n",
      "enroll_probs[406]  =  0.0\n",
      "enroll_probs[407]  =  1.0\n",
      "enroll_probs[408]  =  1.0\n",
      "enroll_probs[409]  =  0.0\n",
      "enroll_probs[410]  =  1.0\n",
      "enroll_probs[411]  =  1.0\n",
      "enroll_probs[412]  =  0.0\n",
      "enroll_probs[413]  =  1.0\n",
      "enroll_probs[414]  =  0.0\n",
      "enroll_probs[415]  =  0.0\n",
      "enroll_probs[416]  =  1.0\n",
      "enroll_probs[417]  =  0.0\n",
      "enroll_probs[418]  =  1.0\n",
      "enroll_probs[419]  =  1.0\n",
      "enroll_probs[420]  =  1.0\n",
      "enroll_probs[421]  =  1.0\n",
      "enroll_probs[422]  =  0.97\n",
      "enroll_probs[423]  =  0.0\n",
      "enroll_probs[424]  =  1.0\n",
      "enroll_probs[425]  =  1.0\n",
      "enroll_probs[426]  =  0.0\n",
      "enroll_probs[427]  =  1.0\n",
      "enroll_probs[428]  =  1.0\n",
      "enroll_probs[429]  =  1.0\n",
      "enroll_probs[430]  =  1.0\n",
      "enroll_probs[431]  =  1.0\n",
      "enroll_probs[432]  =  1.0\n",
      "enroll_probs[433]  =  1.0\n",
      "enroll_probs[434]  =  1.0\n",
      "enroll_probs[435]  =  0.0\n",
      "enroll_probs[436]  =  0.0\n",
      "enroll_probs[437]  =  1.0\n",
      "enroll_probs[438]  =  1.0\n",
      "enroll_probs[439]  =  1.0\n",
      "enroll_probs[440]  =  0.0\n",
      "enroll_probs[441]  =  0.0\n",
      "enroll_probs[442]  =  1.0\n"
     ]
    },
    {
     "name": "stdout",
     "output_type": "stream",
     "text": [
      "enroll_probs[443]  =  1.0\n",
      "enroll_probs[444]  =  1.0\n",
      "enroll_probs[445]  =  0.0\n",
      "enroll_probs[446]  =  1.0\n",
      "enroll_probs[447]  =  0.0\n",
      "enroll_probs[448]  =  1.0\n",
      "enroll_probs[449]  =  1.0\n",
      "enroll_probs[450]  =  1.0\n",
      "enroll_probs[451]  =  1.0\n",
      "enroll_probs[452]  =  0.0\n",
      "enroll_probs[453]  =  1.0\n",
      "enroll_probs[454]  =  0.0\n",
      "enroll_probs[455]  =  1.0\n",
      "enroll_probs[456]  =  0.0\n",
      "enroll_probs[457]  =  1.0\n",
      "enroll_probs[458]  =  0.97\n",
      "enroll_probs[459]  =  1.0\n",
      "enroll_probs[460]  =  1.0\n",
      "enroll_probs[461]  =  0.0\n",
      "enroll_probs[462]  =  0.0\n",
      "enroll_probs[463]  =  1.0\n",
      "enroll_probs[464]  =  1.0\n",
      "enroll_probs[465]  =  1.0\n",
      "enroll_probs[466]  =  0.0\n",
      "enroll_probs[467]  =  1.0\n",
      "enroll_probs[468]  =  1.0\n",
      "enroll_probs[469]  =  1.0\n",
      "enroll_probs[470]  =  0.0\n",
      "enroll_probs[471]  =  0.0\n",
      "enroll_probs[472]  =  1.0\n",
      "enroll_probs[473]  =  1.0\n",
      "enroll_probs[474]  =  1.0\n",
      "enroll_probs[475]  =  1.0\n",
      "enroll_probs[476]  =  0.0\n",
      "enroll_probs[477]  =  0.0\n",
      "enroll_probs[478]  =  1.0\n",
      "enroll_probs[479]  =  0.0\n",
      "enroll_probs[480]  =  0.0\n",
      "enroll_probs[481]  =  0.0\n",
      "enroll_probs[482]  =  1.0\n",
      "enroll_probs[483]  =  0.96\n",
      "enroll_probs[484]  =  1.0\n",
      "enroll_probs[485]  =  1.0\n",
      "enroll_probs[486]  =  1.0\n",
      "enroll_probs[487]  =  1.0\n",
      "enroll_probs[488]  =  1.0\n",
      "enroll_probs[489]  =  0.0\n",
      "enroll_probs[490]  =  1.0\n",
      "enroll_probs[491]  =  1.0\n",
      "enroll_probs[492]  =  1.0\n",
      "enroll_probs[493]  =  1.0\n",
      "enroll_probs[494]  =  0.0\n",
      "enroll_probs[495]  =  0.0\n",
      "enroll_probs[496]  =  0.0\n",
      "enroll_probs[497]  =  0.97\n",
      "enroll_probs[498]  =  1.0\n",
      "enroll_probs[499]  =  1.0\n"
     ]
    }
   ],
   "source": [
    "print(\"==> X (regular variables values) : \")\n",
    "for rv_index in range(m.get_number_of_regular_variables()):\n",
    "    #### Retrives value of regular variable at optimal solution\n",
    "    print(m.get_regular_variables()[rv_index].VarName, \" = \",\n",
    "          round(m.get_regular_variables()[rv_index].X, m.decimals))\n",
    "\n",
    "print(\"==> Y (predicted variables values) : \")\n",
    "for pv_index in range(m.get_number_of_predicted_variables()):\n",
    "    #### Retrieves value of predicted variable at optimal solution\n",
    "    print(m.get_predicted_variables()[pv_index].VarName, \" = \",\n",
    "          round(m.get_predicted_variables()[pv_index].X, m.decimals))"
   ]
  },
  {
   "cell_type": "markdown",
   "metadata": {
    "slideshow": {
     "slide_type": "slide"
    }
   },
   "source": [
    "## Integrated Prediction and Optimization with JANOS: Summary\n",
    "\n",
    "- simplifies building integrated prediction and optimization models, in particular by making use of the `scikit-learn` API for the prediction models\n",
    "- still an early prototype with some limitations\n",
    "- so far, no support for automated sampling from probabilistic ML models that would allow building e.g. two-stage-stochastic programming models"
   ]
  },
  {
   "cell_type": "markdown",
   "metadata": {
    "slideshow": {
     "slide_type": "slide"
    }
   },
   "source": [
    "## Summary\n",
    "\n",
    "**In this meeting, we discussed**\n",
    "\n",
    "- relations / dependencies between uncertain quantities and their impact in \n",
    "  - decision making under uncertainty\n",
    "  - optimization under uncertainty\n",
    "- simple-to-use tools for probabilistic prediction / machine learning\n",
    "- a case study in which a probabilistic predicition model is embedded in an optimization model\n",
    "\n",
    "**The next meeting**\n",
    "- will be in two weeks\n",
    "- we'll deal with risk aversion and chance-constrained programming\n"
   ]
  }
 ],
 "metadata": {
  "celltoolbar": "Slideshow",
  "kernelspec": {
   "display_name": "Python [conda env:playground]",
   "language": "python",
   "name": "conda-env-playground-py"
  },
  "language_info": {
   "codemirror_mode": {
    "name": "ipython",
    "version": 3
   },
   "file_extension": ".py",
   "mimetype": "text/x-python",
   "name": "python",
   "nbconvert_exporter": "python",
   "pygments_lexer": "ipython3",
   "version": "3.7.10"
  },
  "toc": {
   "base_numbering": 1,
   "nav_menu": {},
   "number_sections": false,
   "sideBar": true,
   "skip_h1_title": false,
   "title_cell": "Table of Contents",
   "title_sidebar": "Contents",
   "toc_cell": false,
   "toc_position": {},
   "toc_section_display": true,
   "toc_window_display": false
  },
  "varInspector": {
   "cols": {
    "lenName": 16,
    "lenType": 16,
    "lenVar": 40
   },
   "kernels_config": {
    "python": {
     "delete_cmd_postfix": "",
     "delete_cmd_prefix": "del ",
     "library": "var_list.py",
     "varRefreshCmd": "print(var_dic_list())"
    },
    "r": {
     "delete_cmd_postfix": ") ",
     "delete_cmd_prefix": "rm(",
     "library": "var_list.r",
     "varRefreshCmd": "cat(var_dic_list()) "
    }
   },
   "types_to_exclude": [
    "module",
    "function",
    "builtin_function_or_method",
    "instance",
    "_Feature"
   ],
   "window_display": false
  }
 },
 "nbformat": 4,
 "nbformat_minor": 2
}
