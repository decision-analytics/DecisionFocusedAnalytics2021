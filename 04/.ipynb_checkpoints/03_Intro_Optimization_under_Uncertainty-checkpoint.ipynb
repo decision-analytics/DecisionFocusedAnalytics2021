{
 "cells": [
  {
   "cell_type": "markdown",
   "metadata": {
    "slideshow": {
     "slide_type": "slide"
    }
   },
   "source": [
    "<img src=\"img/bigsem.png\" width=\"40%\" align=\"right\">\n",
    "<img src=\"img/logo_wiwi.png\" width=\"20%\" align=\"left\">\n",
    "\n",
    "\n",
    "\n",
    "\n",
    "\n",
    "<br><br><br><br>\n",
    "\n",
    "## Decision-Focused Analytics\n",
    "**Winter Term 2021/22**\n",
    "\n",
    "\n",
    "# 3. Optimization under Uncertainty and the Values of Including Uncertainty and Information\n",
    "\n",
    "<img src=\"img/decision_analytics_logo.png\" width=\"17%\" align=\"right\">\n",
    "\n",
    "\n",
    "<br>\n",
    "\n",
    "<br>\n",
    "<br>\n",
    "\n",
    "**J-Prof. Dr. Michael Römer |  Decision Analytics Group**\n",
    "                                                    \n"
   ]
  },
  {
   "cell_type": "code",
   "execution_count": 1,
   "metadata": {
    "slideshow": {
     "slide_type": "skip"
    }
   },
   "outputs": [],
   "source": [
    "import numpy as np\n",
    "from scipy import stats\n",
    "import matplotlib.pyplot as plt\n",
    "from numba import vectorize\n"
   ]
  },
  {
   "cell_type": "markdown",
   "metadata": {
    "slideshow": {
     "slide_type": "slide"
    }
   },
   "source": [
    "## Overview: This Meeting\n",
    "\n",
    "Today, we consider the following topics:\n",
    "- a short intro/review\n",
    "- the use unconstrained / black block optimization for decision-making under uncertainty\n",
    "- the value of taking decisions under uncertainty\n",
    "- the structure of decision-making problems under uncertainty\n",
    "- the value of information\n",
    "- linear and stochastic linear programming\n"
   ]
  },
  {
   "cell_type": "markdown",
   "metadata": {
    "slideshow": {
     "slide_type": "slide"
    }
   },
   "source": [
    "##  Case Study: Capacity Planning\n",
    "\n",
    "\n",
    "We will consider the following case study:\n",
    "\n",
    "<blockquote>\n",
    "    \n",
    "A marketing manager is asked by her boss to forecast demand for a new-generation microchip. The manager builds a Data Science model: She forecasts that  demand will lie between 50,000 and 150,000 units.\n",
    "        \n",
    "However, the boss insists:\n",
    "\n",
    "\"Give me a **number**! My people need to build a production line with a certain capacity!\"\n",
    "     \n",
    "The marketing manager provides him with her best guess - the average, that is, 100,000 units \n",
    "</blockquote> "
   ]
  },
  {
   "cell_type": "markdown",
   "metadata": {
    "slideshow": {
     "slide_type": "slide"
    }
   },
   "source": [
    "## Case Study: A Simple Model\n",
    "\n",
    "**Calculating total profit**\n",
    "\n",
    "Total Profit = - Capacity Installation Cost + Margin from Sales\n",
    "\n",
    "**A simple model**\n",
    "\n",
    "Total Profit $g = f (x, d) = −30x + 40 min(x, d)$\n",
    "\n",
    "where\n",
    "\n",
    "$x$: installed capacity in units (decision)\n",
    "\n",
    "$d$: demand in units\n"
   ]
  },
  {
   "cell_type": "code",
   "execution_count": 2,
   "metadata": {
    "slideshow": {
     "slide_type": "-"
    }
   },
   "outputs": [],
   "source": [
    "#@vectorize turns a function into a just-in-time compiled vectorized function\n",
    "@vectorize\n",
    "def total_profit(capacity,demand):\n",
    "    return -30*capacity + 40* min(capacity, demand)"
   ]
  },
  {
   "cell_type": "markdown",
   "metadata": {
    "slideshow": {
     "slide_type": "fragment"
    }
   },
   "source": [
    "- recall that by using `@vectorize` the function also be called with a demand array\n",
    "- it then returns an array with profit values (one for each demand value)\n",
    "- we can then approximate the expected profit by taking the average over that array"
   ]
  },
  {
   "cell_type": "markdown",
   "metadata": {
    "slideshow": {
     "slide_type": "slide"
    }
   },
   "source": [
    "## Taking the Best Decisions: Formalization\n",
    "\n",
    "We are looking for\n",
    "- the decision (or decision vector, or more general, solution) $x$ \n",
    "- from the set of possible decisions (solutions) $X$ \n",
    "-  yielding the *best* expected outcome $E(f(x,D))$\n",
    "-  given the uncertain/random variable(s) $D$\n",
    "\n",
    "We can write this as an *optimization* problem under uncertainty:\n",
    "\n",
    "$$\\max_{x \\in X} E(f(x,D))$$\n",
    "\n",
    "Using Monte Carlo, we approximate $E(f(x,D))$ by the mean of the\n",
    " output sample vector $\\mathbf{f}(x,\\mathbf{d})$, that is by\n",
    " $\\frac{1}{|S|} \\sum\\limits_{s\\in S} f(x,d_s)$ \\\\\n",
    "\n",
    "This results in the following optimization problem:\n",
    "\n",
    "$$\\max_{x\\in X} \\frac{1}{|S|} \\sum\\limits_{s\\in S} f(x,d_s)$$\n"
   ]
  },
  {
   "cell_type": "markdown",
   "metadata": {
    "slideshow": {
     "slide_type": "slide"
    }
   },
   "source": [
    "## Solving by Enumeration\n",
    "\n",
    "**If** \n",
    "- the set $X$ is finite and not too big (there are just few number of decisions / plans to choose from)\n",
    "- and $\\frac{1}{|S|} \\sum\\limits_{s\\in S} f(x,d_s)$ can be computed efficiently\n",
    "\n",
    "**we can simply** \n",
    "-  **enumerate** all solutions / decisions  $x \\in X$ \n",
    "- and **select** one maximizing $\\frac{1}{|S|} \\sum\\limits_{s\\in S} f(x,d_s)$"
   ]
  },
  {
   "cell_type": "markdown",
   "metadata": {
    "slideshow": {
     "slide_type": "slide"
    }
   },
   "source": [
    "## Solving by Enumeration: In our Example\n",
    "\n",
    "\n",
    "In our example, we may simply enumerate all (meaningful) capacity decisions $x$, e.g. from 0 to 200.\n",
    "- and we use `np.argmax` to obtain the index of the best decision"
   ]
  },
  {
   "cell_type": "code",
   "execution_count": 62,
   "metadata": {
    "slideshow": {
     "slide_type": "fragment"
    }
   },
   "outputs": [
    {
     "name": "stdout",
     "output_type": "stream",
     "text": [
      "The best decision is 83 yielding an average profit of 682.80\n"
     ]
    }
   ],
   "source": [
    "capacities = np.arange(200)\n",
    "\n",
    "demand_dist = stats.norm(100,25)\n",
    "\n",
    "n_samples = 100000\n",
    "demands = demand_dist.rvs(n_samples)\n",
    "\n",
    "average_profits = np.empty(len(capacities))\n",
    "\n",
    "for i, capacity in enumerate(capacities):\n",
    "    average_profits[i] = np.mean(total_profit(capacity, demands))\n",
    "\n",
    "best_profit = np.max(average_profits)\n",
    "best_index = np.argmax(average_profits)\n",
    "best_capacity_decision = capacities[best_index]\n",
    "\n",
    "print (f\"The best decision is {best_capacity_decision} yielding an average profit of {best_profit:.02f}\")\n"
   ]
  },
  {
   "cell_type": "markdown",
   "metadata": {
    "slideshow": {
     "slide_type": "slide"
    }
   },
   "source": [
    "## Using (Unconstrained) Optimization\n",
    "\n",
    "\n",
    "Instead of enumerating all decisions (solutions) and picking the best,\n",
    "we may automate the search for the best decision(s) based on our Monte\n",
    "Carlo Approximation \n",
    "\n",
    "\n",
    "$$\\max_{x\\in X} \\frac{1}{|S|} \\sum\\limits_{s\\in S} f(x,d_s)$$\n",
    "\n",
    "by **optimization methods**.\n",
    "\n",
    "As an example, we may just use an unconstrained optimization routine:\n",
    "- packages available in most languages, even in spreadsheets\n",
    "- e.g. in **SciPy**, there is the package `optimize`\n",
    "  - one can choose different algorithms\n",
    "  - no optimality guarantee\n",
    "  - only minimization (we can maximize by multiplying the objective with 1)\n",
    "  - we give an arbitrary function as objective function\n"
   ]
  },
  {
   "cell_type": "markdown",
   "metadata": {
    "slideshow": {
     "slide_type": "slide"
    }
   },
   "source": [
    "## Using Scipy's Optimize for Unconstrained Optimization\n",
    "\n",
    "In order to use scipy optimize for our purposes, we need to address the following aspects:\n",
    "\n",
    "- we need a function to optimize (we need to wrap the call of `mean`):"
   ]
  },
  {
   "cell_type": "code",
   "execution_count": 59,
   "metadata": {
    "slideshow": {
     "slide_type": "-"
    }
   },
   "outputs": [],
   "source": [
    "def expected_profit(capacity,demands):\n",
    "    return np.mean(total_profit(capacity,demands))"
   ]
  },
  {
   "cell_type": "markdown",
   "metadata": {
    "slideshow": {
     "slide_type": "fragment"
    }
   },
   "source": [
    "- There is no maximize, but only a `minimize` function\n",
    "    - we can write simple wrapper function  `maximize` (not shown on this slide)"
   ]
  },
  {
   "cell_type": "code",
   "execution_count": 1,
   "metadata": {
    "slideshow": {
     "slide_type": "skip"
    }
   },
   "outputs": [],
   "source": [
    "from scipy.optimize import minimize\n",
    "\n",
    "def maximize(fun, start_val, args):\n",
    "    result = minimize(lambda x,args: -fun(x,args), start_val, args)\n",
    "    result.fun = result.fun * -1\n",
    "    return result"
   ]
  },
  {
   "cell_type": "markdown",
   "metadata": {
    "slideshow": {
     "slide_type": "slide"
    }
   },
   "source": [
    "## In our Example\n",
    "\n",
    "When calling the `maximize` we need to provide:\n",
    "- the function to optimize\n",
    "- the the start value for the decision variable(s) (in our case: the capacity)\n",
    "- a tuple of the additional arguments of the function to optimize (in our case: the demand samples)"
   ]
  },
  {
   "cell_type": "code",
   "execution_count": 63,
   "metadata": {
    "slideshow": {
     "slide_type": "-"
    }
   },
   "outputs": [
    {
     "name": "stdout",
     "output_type": "stream",
     "text": [
      "The best decision is: 83.24, yielding an expected total profit of 682.82\n"
     ]
    }
   ],
   "source": [
    "optimization_result = maximize(expected_profit, 100, args=(demands))\n",
    "\n",
    "print(f'The best decision is: {optimization_result.x[0]:.2f}, yielding an expected total profit of {optimization_result.fun:.2f}')"
   ]
  },
  {
   "cell_type": "markdown",
   "metadata": {
    "slideshow": {
     "slide_type": "-"
    }
   },
   "source": [
    "..we may round this result, but recall that we compute in terms of 1000 units here!"
   ]
  },
  {
   "cell_type": "markdown",
   "metadata": {
    "slideshow": {
     "slide_type": "slide"
    }
   },
   "source": [
    "# Exercise"
   ]
  },
  {
   "cell_type": "markdown",
   "metadata": {
    "slideshow": {
     "slide_type": "slide"
    }
   },
   "source": [
    "## An additional production technology\n",
    "\n",
    "The company from the capacity planning case study thinks of installing production capacity using an different production technology (B).\n",
    "\n",
    "Technology B has a lower installation costs (\\\\$ 20 per unit), but also a lower contribution margin per sold unit (\\\\$ 28) compared to the original technology A.\n",
    "\n",
    "\n",
    "\n",
    "**Excercise:**\n",
    "\n",
    "Implement a Monte-Carlo-Approximation for the decision of how much capacity to install if you would use only technology B (assuming the same demand distribution as above)\n",
    "\n",
    "What is the best possible expected profit?\n",
    "\n"
   ]
  },
  {
   "cell_type": "code",
   "execution_count": 2,
   "metadata": {
    "slideshow": {
     "slide_type": "-"
    }
   },
   "outputs": [
    {
     "ename": "NameError",
     "evalue": "name 'vectorize' is not defined",
     "output_type": "error",
     "traceback": [
      "\u001b[1;31m---------------------------------------------------------------------------\u001b[0m",
      "\u001b[1;31mNameError\u001b[0m                                 Traceback (most recent call last)",
      "\u001b[1;32m<ipython-input-2-6de1b37f2f59>\u001b[0m in \u001b[0;36m<module>\u001b[1;34m\u001b[0m\n\u001b[1;32m----> 1\u001b[1;33m \u001b[1;33m@\u001b[0m\u001b[0mvectorize\u001b[0m\u001b[1;33m\u001b[0m\u001b[1;33m\u001b[0m\u001b[0m\n\u001b[0m\u001b[0;32m      2\u001b[0m \u001b[1;32mdef\u001b[0m \u001b[0mtotal_profit_b\u001b[0m\u001b[1;33m(\u001b[0m\u001b[0mcapacity\u001b[0m\u001b[1;33m,\u001b[0m\u001b[0mdemand\u001b[0m\u001b[1;33m)\u001b[0m\u001b[1;33m:\u001b[0m\u001b[1;33m\u001b[0m\u001b[1;33m\u001b[0m\u001b[0m\n\u001b[0;32m      3\u001b[0m     \u001b[1;32mreturn\u001b[0m \u001b[1;33m-\u001b[0m\u001b[1;36m20\u001b[0m\u001b[1;33m*\u001b[0m\u001b[0mcapacity\u001b[0m \u001b[1;33m+\u001b[0m \u001b[1;36m28\u001b[0m\u001b[1;33m*\u001b[0m \u001b[0mmin\u001b[0m\u001b[1;33m(\u001b[0m\u001b[0mcapacity\u001b[0m\u001b[1;33m,\u001b[0m \u001b[0mdemand\u001b[0m\u001b[1;33m)\u001b[0m\u001b[1;33m\u001b[0m\u001b[1;33m\u001b[0m\u001b[0m\n\u001b[0;32m      4\u001b[0m \u001b[1;33m\u001b[0m\u001b[0m\n\u001b[0;32m      5\u001b[0m \u001b[0mdemands\u001b[0m \u001b[1;33m=\u001b[0m \u001b[0mdemand_dist\u001b[0m\u001b[1;33m.\u001b[0m\u001b[0mrvs\u001b[0m\u001b[1;33m(\u001b[0m\u001b[0mn_samples\u001b[0m\u001b[1;33m)\u001b[0m\u001b[1;33m\u001b[0m\u001b[1;33m\u001b[0m\u001b[0m\n",
      "\u001b[1;31mNameError\u001b[0m: name 'vectorize' is not defined"
     ]
    }
   ],
   "source": []
  },
  {
   "cell_type": "markdown",
   "metadata": {
    "slideshow": {
     "slide_type": "slide"
    }
   },
   "source": [
    "**Excercise:**\n",
    "\n",
    "Now consider a combination of both technologies, that is, you may install both technology A and B. \n",
    "\n",
    "Since B has a lower profit contribution, you assume that if  both technologies are installed, first A is used to produce up to the installed capacity. If there is demand left, that demand is satisfied by technology B until the installed capacity of B is exhausted.\n",
    "\n",
    "What is the best combination of technologies A and B in terms of expected total profit? Is B used at all? \n"
   ]
  },
  {
   "cell_type": "code",
   "execution_count": 79,
   "metadata": {},
   "outputs": [
    {
     "name": "stdout",
     "output_type": "stream",
     "text": [
      "Best A: 76, best b 10, estimated expected profit is: 686.64\n"
     ]
    }
   ],
   "source": []
  },
  {
   "cell_type": "markdown",
   "metadata": {
    "slideshow": {
     "slide_type": "slide"
    }
   },
   "source": [
    "# The Value of Including Uncertainty "
   ]
  },
  {
   "cell_type": "markdown",
   "metadata": {
    "slideshow": {
     "slide_type": "slide"
    }
   },
   "source": [
    "## The Flaw Of Averages\n",
    "\n",
    "\n",
    "\n",
    "<div class=\"alert alert-block alert-info\">\n",
    "<b>The Flaw of Averages:</b> The results obtained when replacing uncertain quantities with averages are wrong on average. </div>\n",
    "\n",
    "In general, if $D$ is an random variable, and  $f$ is a nonlinear function, then \n",
    "\n",
    "$$ f(E(D)) \\neq E(f(D)) $$\n",
    "\n",
    "Plugging an average/expected value of an random variable into a function does **not** yield the average/expected value of that function!\n",
    "\n",
    "\n",
    "\n",
    "- we can compute the error resulting from the FoA by comparing $f(E(D))$ and $E(f(D))$. "
   ]
  },
  {
   "cell_type": "markdown",
   "metadata": {
    "slideshow": {
     "slide_type": "slide"
    }
   },
   "source": [
    "## The Flaw Of Averages\n",
    "\n",
    "Let us consider this for our case study:\n",
    "\n",
    "In our example, $f(E(D))$ is what the boss proposes: \n",
    "- Assume expected demand $E(D) = 100$\n",
    "- and compute the total profit of that demand $f(E(D))$ for a capacity of 100"
   ]
  },
  {
   "cell_type": "code",
   "execution_count": null,
   "metadata": {
    "slideshow": {
     "slide_type": "-"
    }
   },
   "outputs": [],
   "source": [
    "total_profit(100,100)"
   ]
  },
  {
   "cell_type": "markdown",
   "metadata": {
    "slideshow": {
     "slide_type": "fragment"
    }
   },
   "source": [
    "This, however, is not the **true** expected total profit:\n",
    "- to obtain the true expected profit E(f(D)), we need to evaluate the profit function for the **demand distribution**\n",
    "- we can do this by Monte-Carlo approximation:\n",
    "\n"
   ]
  },
  {
   "cell_type": "code",
   "execution_count": null,
   "metadata": {
    "slideshow": {
     "slide_type": "-"
    }
   },
   "outputs": [],
   "source": [
    "demand_dist = stats.norm(100,25)\n",
    "demands = demand_dist.rvs(100000)\n",
    "np.mean(total_profit(100, demands))"
   ]
  },
  {
   "cell_type": "markdown",
   "metadata": {
    "slideshow": {
     "slide_type": "-"
    }
   },
   "source": [
    "Which means that the flaw of average caused a huge error / overestimation of the profit.\n",
    "\n"
   ]
  },
  {
   "cell_type": "markdown",
   "metadata": {
    "slideshow": {
     "slide_type": "slide"
    }
   },
   "source": [
    "## The Flaw Of Averages and Decision Making\n",
    "\n",
    "When it comes to *decision making*, we encounter the\n",
    "\n",
    "\n",
    "<div class=\"alert alert-block alert-info\">\n",
    "<b>Strong Form of the Flaw of Averages:</b> Decisions and plans based on averages are wrong on average </div>\n",
    "\n",
    "More formally: In general, if $x$ is a (vector of) decision variable(s), $D$ is an random variable, and f is a nonlinear function, then  \n",
    "    \n",
    "$$\\underset{x}{\\operatorname{argmax}} f(x,E(D)) \\neq \\underset{x}{\\operatorname{argmax}}  E(f(x,D))$$\n",
    "    \n",
    "\n",
    "That is, in general, the best average-based decision is usually different and worse than the decision with the best expected performance.\n",
    "\n",
    "\n"
   ]
  },
  {
   "cell_type": "markdown",
   "metadata": {
    "slideshow": {
     "slide_type": "-"
    }
   },
   "source": [
    "## The Flaw Of Averages and Decision Making\n",
    "\n",
    "This is what we already observed in our case study:\n",
    "- While 100 is the best decision when using average demand, it is not the **true best** decision:\n",
    "\n"
   ]
  },
  {
   "cell_type": "code",
   "execution_count": null,
   "metadata": {
    "slideshow": {
     "slide_type": "-"
    }
   },
   "outputs": [],
   "source": [
    "\n",
    "capacities = np.arange(200)\n",
    "\n",
    "average_profits = np.empty(len(capacities))\n",
    "\n",
    "for i, capacity in enumerate(capacities):    \n",
    "    average_profits[i] = np.mean(total_profit(capacity, demands))\n",
    "    \n",
    "best_index = np.argmax(average_profits)\n",
    "\n",
    "best_profit = np.max(average_profits)\n",
    "best_index = np.argmax(average_profits)\n",
    "best_capacity_decision = capacities[best_index]\n",
    "\n",
    "print (f\"The best decision is {best_capacity_decision} yielding an average profit of {best_profit:.02f}\")\n"
   ]
  },
  {
   "cell_type": "markdown",
   "metadata": {
    "slideshow": {
     "slide_type": "slide"
    }
   },
   "source": [
    "## The Expected Value of Including Uncertainty\n",
    "\n",
    "\n",
    "In our case study, the optimal decision from an average-based model is 100 k, yielding an expected profit of $\\approx$ \\\\$600k.\n",
    "\n",
    "The true best decision, however, is to install 83 k, yielding $\\approx$ \\\\$680k \n",
    "\n",
    "\n",
    "The difference in expected performance  is called \n",
    "\n",
    "- **Expected Value of Including Uncertainty (EVIU)** or\n",
    "- **Value of the Stochastic Solution (VSS)**\n",
    "\n",
    "**EVIU = EIU - EEV**\n",
    "\n",
    "where\n",
    "- **EIU**, the expected performance of the optimal decision explicitly considering / including uncertainty  \n",
    "- **EEV**, the (true) expected value from the (flawed) optimal expected-value-based decision\n",
    "\n",
    "In our example:"
   ]
  },
  {
   "cell_type": "code",
   "execution_count": null,
   "metadata": {},
   "outputs": [],
   "source": [
    "eiu = np.max(average_profits)\n",
    "\n",
    "eev = average_profits[100]\n",
    "\n",
    "eviu = eiu - eev\n",
    "\n",
    "print(f'The EVIU in our example is {eviu:.2f} (the EIU is {eiu:.2f} and hte EEV is {eev:.2f})')\n"
   ]
  },
  {
   "cell_type": "markdown",
   "metadata": {
    "slideshow": {
     "slide_type": "slide"
    }
   },
   "source": [
    "# The Structure of Decision-Making Problems under Uncertainty"
   ]
  },
  {
   "cell_type": "markdown",
   "metadata": {
    "slideshow": {
     "slide_type": "slide"
    }
   },
   "source": [
    "## Decision Making Under Uncertainty: Single-Stage Setting\n",
    "\n",
    "- decisions have to be taken **here and now**, that is, **before** the uncertain information becomes known.\n",
    "\n",
    "- in a single-stage setting, the decision maker **cannot react** to the uncertainty\n",
    "\n",
    "<img width='80%' src='img/single_stage.png'>"
   ]
  },
  {
   "cell_type": "markdown",
   "metadata": {
    "slideshow": {
     "slide_type": "fragment"
    }
   },
   "source": [
    "In our case study, this looks as follows:\n",
    "\n",
    "\n",
    "<img width='90%' src='img/single_stage_example.png'>"
   ]
  },
  {
   "cell_type": "markdown",
   "metadata": {
    "slideshow": {
     "slide_type": "slide"
    }
   },
   "source": [
    "## Decision Making Under Uncertainty: Two-Stage Setting\n",
    "\n",
    "- first stage (**here and now**), decisions have to be taken  that is, **before** the uncertain information becomes known.\n",
    "- second stage (**recourse**)  decisions that can  be taken after the information is there\n",
    "\n",
    "\n",
    "<img width='90%' src='img/two_stage.png'>"
   ]
  },
  {
   "cell_type": "markdown",
   "metadata": {
    "slideshow": {
     "slide_type": "fragment"
    }
   },
   "source": [
    "We can interpret our case study as a two-stage problem:\n",
    "\n",
    "\n",
    "<img width='90%' src='img/two_stage_example.png'>"
   ]
  },
  {
   "cell_type": "markdown",
   "metadata": {
    "slideshow": {
     "slide_type": "slide"
    }
   },
   "source": [
    "## Evaluating a Given Decision with Decision Trees\n",
    "\n",
    "Let us assume a given decision (here 100). \n",
    "- we can visualize our simulation-based approach as a decision tree \n",
    "- in the figure, we assume only tree sample values\n",
    "\n",
    "<img width='95%' src='img/decision_tree_example.png'>\n",
    "\n"
   ]
  },
  {
   "cell_type": "markdown",
   "metadata": {
    "slideshow": {
     "slide_type": "fragment"
    }
   },
   "source": [
    "We can use our well-known computation to compute the value of the tree:"
   ]
  },
  {
   "cell_type": "code",
   "execution_count": 34,
   "metadata": {
    "slideshow": {
     "slide_type": "-"
    }
   },
   "outputs": [
    {
     "data": {
      "text/plain": [
       "733.3333333333334"
      ]
     },
     "execution_count": 34,
     "metadata": {},
     "output_type": "execute_result"
    }
   ],
   "source": [
    "\n",
    "capacity = 100\n",
    "demands = np.array([80,100,120])\n",
    "\n",
    "profits = np.empty(3)\n",
    "\n",
    "for i, demand in enumerate(demands):\n",
    "    profits[i] = total_profit(capacity, demand) \n",
    "    \n",
    "np.mean(profits)\n"
   ]
  },
  {
   "cell_type": "markdown",
   "metadata": {
    "slideshow": {
     "slide_type": "fragment"
    }
   },
   "source": [
    "Or, even shorter, in vectorized form:"
   ]
  },
  {
   "cell_type": "code",
   "execution_count": 33,
   "metadata": {
    "slideshow": {
     "slide_type": "-"
    }
   },
   "outputs": [
    {
     "data": {
      "text/plain": [
       "733.3333333333334"
      ]
     },
     "execution_count": 33,
     "metadata": {},
     "output_type": "execute_result"
    }
   ],
   "source": [
    "\n",
    "profits = total_profit(capacity, demands) \n",
    "    \n",
    "np.mean(profits)"
   ]
  },
  {
   "cell_type": "markdown",
   "metadata": {
    "slideshow": {
     "slide_type": "slide"
    }
   },
   "source": [
    "## Choosing a Decision Under Uncertainty with Decision Trees\n",
    "\n",
    "<img style='float: right' width='70%' src='img/decision_tree_example_decisions.png'> \n",
    "\n",
    "For modeling the decision-making problem:\n",
    "- add a branch for each decision after the decision node\n",
    "- compute the expected performance of each branch\n",
    "- select the branch with the best expected performance\n",
    "- which one is it here?\n",
    "- **note**: this is the principle of the enumeration approach with Monte Carlo approximation we performed before!\n",
    "\n"
   ]
  },
  {
   "cell_type": "code",
   "execution_count": 35,
   "metadata": {
    "slideshow": {
     "slide_type": "fragment"
    }
   },
   "outputs": [
    {
     "data": {
      "text/plain": [
       "80"
      ]
     },
     "execution_count": 35,
     "metadata": {},
     "output_type": "execute_result"
    }
   ],
   "source": [
    "capacities = np.array([80,100,120])\n",
    "\n",
    "average_profits = np.empty(3)\n",
    "\n",
    "#observe: enumerate returns both the current index and the element of the array\n",
    "for i, capacity in enumerate(capacities):\n",
    "    average_profits[i] = np.mean(total_profit(capacity, demands))\n",
    "    \n",
    "    \n",
    "best_index = np.argmax(average_profits)\n",
    "capacities[best_index]"
   ]
  },
  {
   "cell_type": "markdown",
   "metadata": {
    "slideshow": {
     "slide_type": "slide"
    }
   },
   "source": [
    "# The Value of Information"
   ]
  },
  {
   "cell_type": "markdown",
   "metadata": {
    "slideshow": {
     "slide_type": "slide"
    }
   },
   "source": [
    "## What if we had a Chrystal Ball?\n",
    "\n",
    "What if we were able to obtain a chrystal ball that gives us **perfect foresight**?\n",
    "- this means that the decision / information sequence is **flipped**:\n",
    "\n",
    "<img width='90%' src='img/decision_perfect_information.png'>\n",
    "\n",
    "This means that:\n",
    "- at **this** moment, we still do not know what will happen\n",
    "- but we will know **before** deciding\n",
    "\n",
    "As a result, the decision can be taken under  **perfect information**.\n",
    "\n",
    "The expected result given perfect information is called\n",
    "- **EPI**: the expected performance with perfect information"
   ]
  },
  {
   "cell_type": "markdown",
   "metadata": {
    "slideshow": {
     "slide_type": "slide"
    }
   },
   "source": [
    "## Perfect Information in our Example\n",
    "\n",
    "In our example, if we have perfect information, then:\n",
    "- we can simply install as much capacity as there is (known) demand:"
   ]
  },
  {
   "cell_type": "code",
   "execution_count": null,
   "metadata": {
    "slideshow": {
     "slide_type": "fragment"
    }
   },
   "outputs": [],
   "source": [
    "@vectorize\n",
    "def total_profit_perfect_information(demand):\n",
    "    return -30*demand + 40*demand"
   ]
  },
  {
   "cell_type": "markdown",
   "metadata": {
    "slideshow": {
     "slide_type": "fragment"
    }
   },
   "source": [
    "- we can use this function to compute the EPI using Monte-Carlo-Approximation:\n"
   ]
  },
  {
   "cell_type": "code",
   "execution_count": null,
   "metadata": {
    "slideshow": {
     "slide_type": "-"
    }
   },
   "outputs": [],
   "source": [
    "epi = np.mean(total_profit_perfect_information(demands))\n",
    "print(f'The expected profit with perfect information (EPI) is {epi:.2f}')"
   ]
  },
  {
   "cell_type": "code",
   "execution_count": null,
   "metadata": {},
   "outputs": [],
   "source": []
  },
  {
   "cell_type": "markdown",
   "metadata": {
    "slideshow": {
     "slide_type": "slide"
    }
   },
   "source": [
    "## The Value of Perfect information\n",
    "\n",
    "\n",
    "Clearly, a chrystal ball (enabling to take **scenario-optimal** decisions) leads to better results.\n",
    "\n",
    "The **difference** between\n",
    "- these results (called **EPI**) and \n",
    "- the expected results when taking the best decision **without** perfect information (called **EIU**, see above)\n",
    "\n",
    "is called the **Expected Value of Perfect Information** (**EVPI**)\n",
    "\n",
    "EVPI = EPI - EIU\n",
    "\n",
    "It gives an answer to the following question:\n",
    "\n",
    "**What would we be willing to pay for a crystal ball giving us perfect\n",
    "information before we have to decide?**\n",
    "\n",
    "In our case study, a (rational) boss would be willing to pay the following amount of money for a chrystal ball:\n"
   ]
  },
  {
   "cell_type": "code",
   "execution_count": null,
   "metadata": {
    "slideshow": {
     "slide_type": "-"
    }
   },
   "outputs": [],
   "source": [
    "evpi = epi - eiu\n",
    "\n",
    "print(f'The EVPI in our example is {evpi:.2f} given that EIU is {eiu:.2f} and EPI is {epi:.2f}')"
   ]
  },
  {
   "cell_type": "markdown",
   "metadata": {
    "slideshow": {
     "slide_type": "slide"
    }
   },
   "source": [
    "## The Value of Imperfect Information\n",
    "\n",
    "There is not only the value of **perfect** information, but also **imperfect** (partial) information can have a value since it\n",
    "- **reduces uncertainty** and\n",
    "- allows making better decisions\n",
    "\n",
    "Examples for obtaining **imperfect** or **partial** information:\n",
    "- pilot studies\n",
    "- additional medical examinations\n",
    "- customer surveys\n",
    "\n",
    "The improvement that can be obtained is called\n",
    "- **Expected value of imperfect / partial or sample information**\n",
    "- it answers the question: How much would I be willing to pay for partial information (e.g. a customer survey)\n",
    "\n",
    "\n",
    "**$\\rightarrow$ Obtaining information (or not) can be seen as part of the decision problem!**\n",
    "\n",
    "\n"
   ]
  },
  {
   "cell_type": "markdown",
   "metadata": {
    "slideshow": {
     "slide_type": "slide"
    }
   },
   "source": [
    "## Excercise: Multiple Uncertain Quantities\n",
    "\n",
    "We have another exercise for the capacity planning case study.\n",
    "\n",
    "Let us assume our basic one-product case with a different extension:\n",
    "\n",
    "- not only the demand, but also the contribution margin is affected by uncertainty. \n",
    "- let us assume that contribution margin is (statistically) independent from demand and \n",
    "- that the contribution margin follows the following normal distribution:"
   ]
  },
  {
   "cell_type": "code",
   "execution_count": null,
   "metadata": {
    "slideshow": {
     "slide_type": "-"
    }
   },
   "outputs": [],
   "source": [
    "contribution_margin_dist = stats.norm(40,8)"
   ]
  },
  {
   "cell_type": "markdown",
   "metadata": {
    "slideshow": {
     "slide_type": "-"
    }
   },
   "source": [
    "In this exercise, perform the following analyses:\n",
    "- compute the capacity decision with the best expected outcome\n",
    "- compute the value of including uncertainty (EVIU)\n",
    "- compute the value of perfect information assuming perfect information for **both** uncertain quantities (demand **and** contribution margin) \n",
    "- what happens if we have a chrystal ball that only reveals information with respect to one of the two quantities (say, demand)?\n"
   ]
  },
  {
   "cell_type": "code",
   "execution_count": 3,
   "metadata": {
    "slideshow": {
     "slide_type": "slide"
    }
   },
   "outputs": [],
   "source": [
    "# Stochastic Linear Programming"
   ]
  },
  {
   "cell_type": "markdown",
   "metadata": {
    "slideshow": {
     "slide_type": "slide"
    }
   },
   "source": [
    "## Unconstrained Optimization vs (Mixed-Integer) Linear Programming"
   ]
  },
  {
   "cell_type": "markdown",
   "metadata": {
    "cell_style": "split",
    "slideshow": {
     "slide_type": "-"
    }
   },
   "source": [
    "**(Continous) Unconstrained Optimization (e.g. scipy.optimize)**\n",
    "- very flexible\n",
    "- takes arbitrary functions\n",
    "- only continuous variables\n",
    "- constraint handling not very efficient (if possible at all)\n",
    "- works well with Monte Carlo approximations\n",
    "- heuristic solution approaches\n",
    "- solution not necessarily optimal"
   ]
  },
  {
   "cell_type": "markdown",
   "metadata": {
    "cell_style": "split",
    "slideshow": {
     "slide_type": "-"
    }
   },
   "source": [
    "**(Mixed Integer) Linear Programming (e.g. Gurobi, CBC)**\n",
    "- restricted to linear expressions\n",
    "- modeling power due to integer / binary variables\n",
    "- constraints are handled efficiently\n",
    "- Monte-Carlo approximation can be \"embedded\" in model\n",
    "- exact solution approaches\n",
    "- optimality proof\n"
   ]
  },
  {
   "cell_type": "markdown",
   "metadata": {
    "slideshow": {
     "slide_type": "slide"
    }
   },
   "source": [
    "## Motivation: Capacity Planning Case Study\n",
    "\n",
    "In the previous weeks, we formulated the **deterministic** version of\n",
    "the capacity planning problem  as follows: \n",
    "\n",
    "**maximize** total profit = - capacity installation cost + sales margin \n",
    "\n",
    " $$\\max f(x,d) = - 30x +  40 \\min(x,d)$$\n",
    "\n",
    "\n",
    "**where**\n",
    "\n",
    "$x$: installed capacity in units (decision) \n",
    "$d$: demand in units (given parameter)  \n",
    "\n",
    "\n",
    "**Let us formulate this as a linear programming problem!**"
   ]
  },
  {
   "cell_type": "markdown",
   "metadata": {
    "slideshow": {
     "slide_type": "slide"
    }
   },
   "source": [
    "## Formulation as Linear Program\n",
    "\n",
    "\n",
    "We modeled the (deterministic) problem as follows:\n",
    "\n",
    "$$\\begin{align*}\n",
    "        \\max \\; f(x,d)=        & -30x + 40 min(x,d)\\\\\n",
    "        \\text{s.t.} \\;     x &\\geq 0\n",
    "\\end{align*}$$\n",
    "\n",
    "- given that this involves the $\\min$ operator, $f$ is a nonlinear function"
   ]
  },
  {
   "cell_type": "markdown",
   "metadata": {
    "slideshow": {
     "slide_type": "fragment"
    }
   },
   "source": [
    "**However**, as you might know, we can easily reformulate the $\\min$ operation in certain cases in order to linearize it:\n",
    "  "
   ]
  },
  {
   "cell_type": "markdown",
   "metadata": {
    "slideshow": {
     "slide_type": "fragment"
    }
   },
   "source": [
    "This gives us the following LP formulation:    \n",
    "$$\n",
    "\\begin{align*}\n",
    "        \\max \\;         & -30x + 40z \\\\\n",
    "        \\text{s.t.} \\;  & z \\leq x \\\\\n",
    "                        & z \\leq d \\\\\n",
    "                        & x \\geq 0, z \\geq 0 \n",
    "\\end{align*}$$\n",
    "\n",
    "where $z$ is a decision variable representing the  number of units to produce / sell"
   ]
  },
  {
   "cell_type": "markdown",
   "metadata": {
    "slideshow": {
     "slide_type": "slide"
    }
   },
   "source": [
    "# Mixed Integer Linear Programming in Python"
   ]
  },
  {
   "cell_type": "markdown",
   "metadata": {
    "slideshow": {
     "slide_type": "slide"
    }
   },
   "source": [
    "## Mixed Integer Linear Programming in Python\n",
    "\n",
    "- Python has multiple packages for mathematical programming\n",
    "- some of them are bound to a single solver\n",
    "  - Gurobi\n",
    "  - CPLEX\n",
    "- some of them can work with multiple solvers\n",
    "  - Python-MIP\n",
    "  - CVXPY\n",
    "  - PuLP\n",
    "- the syntax for writing models is very similar for most of them\n",
    "- the modeling objects such as variables and constraints are a bit different"
   ]
  },
  {
   "cell_type": "markdown",
   "metadata": {
    "slideshow": {
     "slide_type": "slide"
    }
   },
   "source": [
    "## Python-MIP\n",
    "\n",
    "In this course, we will use **Python-MIP** (https://www.python-mip.com/) for implementing our models\n",
    "- it comes with the solver CBC\n",
    "- but can also be used with Gurobi and Fico XPRESS\n",
    "\n",
    "Documentation: https://docs.python-mip.com/en/latest/index.html\n",
    "\n",
    "In particular, see \n",
    "- the quick start https://python-mip.readthedocs.io/en/latest/quickstart.html\n",
    "- a couple of example models: https://python-mip.readthedocs.io/en/latest/examples.html\n",
    "\n",
    "If you are in google colab, you may have to call\n",
    "`% pip install mip`"
   ]
  },
  {
   "cell_type": "code",
   "execution_count": 4,
   "metadata": {
    "slideshow": {
     "slide_type": "-"
    }
   },
   "outputs": [],
   "source": [
    "import mip\n",
    "from mip import maximize"
   ]
  },
  {
   "cell_type": "markdown",
   "metadata": {
    "slideshow": {
     "slide_type": "slide"
    }
   },
   "source": [
    "## Our Model in Python MIP\n",
    "\n",
    "First, create a model object. It will use Gurobi, if installed, and CBC otherwise\n"
   ]
  },
  {
   "cell_type": "code",
   "execution_count": 5,
   "metadata": {
    "slideshow": {
     "slide_type": "-"
    }
   },
   "outputs": [],
   "source": [
    "m = mip.Model(\"Capacity_Planning_Deterministic\")"
   ]
  },
  {
   "cell_type": "markdown",
   "metadata": {
    "slideshow": {
     "slide_type": "fragment"
    }
   },
   "source": [
    "Now, add variables. In addition to lb (lower bound) important parameters are ub (upper bound) and variable type var_type"
   ]
  },
  {
   "cell_type": "code",
   "execution_count": 6,
   "metadata": {
    "slideshow": {
     "slide_type": "-"
    }
   },
   "outputs": [],
   "source": [
    "capacity =  m.add_var(name=\"capacity\" , lb= 0)\n",
    "production = m.add_var(name=\"production\", lb= 0)"
   ]
  },
  {
   "cell_type": "markdown",
   "metadata": {
    "slideshow": {
     "slide_type": "fragment"
    }
   },
   "source": [
    "Add the objective function"
   ]
  },
  {
   "cell_type": "code",
   "execution_count": 7,
   "metadata": {
    "slideshow": {
     "slide_type": "-"
    }
   },
   "outputs": [],
   "source": [
    "m.objective = maximize ( -30*capacity + 40 * production )"
   ]
  },
  {
   "cell_type": "markdown",
   "metadata": {
    "slideshow": {
     "slide_type": "fragment"
    }
   },
   "source": [
    "and the constraints"
   ]
  },
  {
   "cell_type": "code",
   "execution_count": 8,
   "metadata": {
    "slideshow": {
     "slide_type": "-"
    }
   },
   "outputs": [],
   "source": [
    "demand = 100\n",
    "m += production <= demand  \n",
    "m += production <= capacity "
   ]
  },
  {
   "cell_type": "markdown",
   "metadata": {
    "slideshow": {
     "slide_type": "fragment"
    }
   },
   "source": [
    "Now, let's solve the model:"
   ]
  },
  {
   "cell_type": "code",
   "execution_count": 9,
   "metadata": {
    "slideshow": {
     "slide_type": "-"
    }
   },
   "outputs": [
    {
     "name": "stdout",
     "output_type": "stream",
     "text": [
      "Capacity decision 100.0\n",
      "Total Profit: 1000.0\n"
     ]
    }
   ],
   "source": [
    "#call the solver\n",
    "m.optimize()\n",
    "\n",
    "print(f'Capacity decision {capacity.x}')\n",
    "print(f'Total Profit: {m.objective_value}' )\n"
   ]
  },
  {
   "cell_type": "markdown",
   "metadata": {
    "slideshow": {
     "slide_type": "slide"
    }
   },
   "source": [
    "\n",
    "## A more Abstract Formulation Using Abstract Parameters:\n"
   ]
  },
  {
   "cell_type": "code",
   "execution_count": 9,
   "metadata": {
    "slideshow": {
     "slide_type": "-"
    }
   },
   "outputs": [
    {
     "name": "stdout",
     "output_type": "stream",
     "text": [
      "Capacity decision 100.0\n",
      "Total Profit: 1000.0\n"
     ]
    }
   ],
   "source": [
    "m = mip.Model(\"Capacity_Planning_Deterministic_v2\")\n",
    "\n",
    "#parameters\n",
    "demand = 100\n",
    "installation_cost = 30\n",
    "contribution_margin = 40\n",
    "\n",
    "#decision variables\n",
    "capacity =  m.add_var(name=\"capacity\" , lb= 0)\n",
    "production = m.add_var(name=\"production\", lb= 0)\n",
    "\n",
    "\n",
    "m.objective = maximize ( -installation_cost*capacity + contribution_margin* production)\n",
    "\n",
    "m += production <= demand \n",
    "m += production <= capacity \n",
    "\n",
    "\n",
    "m.optimize()\n",
    "\n",
    "print(f'Capacity decision {capacity.x}')\n",
    "print(f'Total Profit: {m.objective_value}' )\n"
   ]
  },
  {
   "cell_type": "markdown",
   "metadata": {
    "slideshow": {
     "slide_type": "slide"
    }
   },
   "source": [
    "## Capacity Planning Case Study: Introducing Uncertainty\n",
    "\n",
    "Let us now consider the setting from the previous weeks:\n",
    "\n",
    "- we assume that demand is uncertain and follows a normal distribution\n",
    "- as before, we create a sample approximation for the demand"
   ]
  },
  {
   "cell_type": "code",
   "execution_count": 17,
   "metadata": {
    "slideshow": {
     "slide_type": "-"
    }
   },
   "outputs": [],
   "source": [
    "demand_dist = stats.norm(100,25)\n",
    "\n",
    "n_samples = 10000\n",
    "\n",
    "# we create a sample vector of demands (demand_dist was defined above), only using positive outcomes\n",
    "demand_sample = np.maximum(demand_dist.rvs(n_samples),0)"
   ]
  },
  {
   "cell_type": "markdown",
   "metadata": {
    "slideshow": {
     "slide_type": "fragment"
    }
   },
   "source": [
    "- recall that demand uncertainty introduces a two-stage decision problem under uncertainty:"
   ]
  },
  {
   "cell_type": "markdown",
   "metadata": {
    "slideshow": {
     "slide_type": "-"
    }
   },
   "source": [
    "We can interpret our case study as a two-stage problem:\n",
    "\n",
    "\n",
    "<img width='90%' src='img/two_stage_example.png'>\n",
    "\n",
    "Before addressing this using linear programming, let us see what we did before:"
   ]
  },
  {
   "cell_type": "markdown",
   "metadata": {
    "slideshow": {
     "slide_type": "slide"
    }
   },
   "source": [
    "## Taking the Best Decisions: Formalization\n",
    "\n",
    "We are looking for\n",
    "- the decision (or decision vector, or more general, solution) $x$ from the set of possible decisions (solutions) $X$ \n",
    "-  yielding the *best* expected outcome $E(f(x,D))$ given the uncertain/random variable(s) $D$\n",
    "\n",
    "We can write this as an *optimization* problem under uncertainty:\n",
    "\n",
    "$$\\max_{x \\in X} E(f(x,D))$$\n",
    "\n",
    "Using Monte Carlo, we approximate $E(f(x,D))$ by the mean of the\n",
    " output sample vector $\\mathbf{f}(x,\\mathbf{d})$, that is by\n",
    " $\\frac{1}{|S|} \\sum\\limits_{s\\in S} f(x,d_s)$ \n",
    "\n",
    "This results in the following optimization problem:\n",
    "\n",
    "$$\\max_{x\\in X} \\frac{1}{|S|} \\sum\\limits_{s\\in S} f(x,d_s)$$\n",
    "\n",
    "$\\rightarrow$ So far, we used enumeration and unconstrained optimization to search for the best solution\n",
    "\n",
    "$\\rightarrow$ How can we use the sample approximation in the  case of linear programming? "
   ]
  },
  {
   "cell_type": "markdown",
   "metadata": {
    "slideshow": {
     "slide_type": "slide"
    }
   },
   "source": [
    "## How can we Use Sample Approximation for Linear Programming?\n",
    "\n",
    "**Key Ideas (two-stage setting)**\n",
    "- consider first-stage and second-stage decision variables and constraints\n",
    "- second-stage decision variables have a scenario index\n",
    "- second-stage constraints are defined **for all** scenarios / samples\n",
    "\n",
    "\n",
    "\n",
    "<img width='90%' src='img/two_stage_tree.png'>"
   ]
  },
  {
   "cell_type": "markdown",
   "metadata": {
    "slideshow": {
     "slide_type": "slide"
    }
   },
   "source": [
    "## Stochastic Linear Program for our Example\n",
    "\n",
    "\n",
    "\n",
    "Numerical example for $S={80, 100, 120}$ \n",
    "\n",
    "$$\n",
    " \\begin{align*}\n",
    "        \\max \\;              &\\frac{1}{3}\\sum_{s=1}^3( -30x + 40 z_s) \\\\\n",
    "        \\text{s.t.} \\qquad   z_1 &\\leq x  \\\\                  \n",
    "                             z_1 &\\leq 80  \\\\\n",
    " z_2 &\\leq x  \\\\                  \n",
    "                             z_2 &\\leq 100 \\\\\n",
    "   z_3 &\\leq x  \\\\                  \n",
    "                             z_3 &\\leq 120  \\\\\n",
    "                             x &\\geq 0 \\\\\n",
    "z_1\\geq 0, z_2 &\\geq 0, z_3 \\geq 0\n",
    "\\end{align*}\n",
    "$$\n",
    "\n"
   ]
  },
  {
   "cell_type": "markdown",
   "metadata": {
    "slideshow": {
     "slide_type": "slide"
    }
   },
   "source": [
    "## Stochastic Linear Program for our Example: Compact Formulation\n",
    "\n",
    "\n",
    "**Sets:**\n",
    "- $S$  scenario set\n",
    "\n",
    "**Parameters:**\n",
    "- $d_s$: demand in units in scenario  $s$\n",
    "\n",
    "**Decision Variables:**\n",
    "- $x$: capacity installation decision (*first stage* / *here and now* decision) \n",
    "- $z_s$: production decision for scenario $s$ (*second stage* / *recourse* decision)\n",
    "\n",
    "\n",
    "$$\n",
    " \\begin{align*}\n",
    "        \\max \\;         &\\frac{1}{|S|} \\sum_{s \\in S} (-30x +40 z_s) \\\\\n",
    "        \\text{s.t.} \\qquad   z_s &\\leq x \\qquad &\\forall s \\in S \\\\                  \n",
    "                         z_s &\\leq d_s \\qquad &\\forall s \\in S \\\\\n",
    "                         x &\\geq 0 \\\\\n",
    " z_s &\\geq 0 \\qquad &\\forall s \\in S\n",
    "\\end{align*}\n",
    "$$"
   ]
  },
  {
   "cell_type": "markdown",
   "metadata": {
    "slideshow": {
     "slide_type": "slide"
    }
   },
   "source": [
    "## Stochastic Linear Program: Implementation in Python\n"
   ]
  },
  {
   "cell_type": "code",
   "execution_count": 20,
   "metadata": {
    "slideshow": {
     "slide_type": "-"
    }
   },
   "outputs": [
    {
     "name": "stdout",
     "output_type": "stream",
     "text": [
      "Capacity decision: 83.23\n",
      "Expected Total Profit: 682.05\n",
      "682.0464005141674\n"
     ]
    }
   ],
   "source": [
    "# Create a new model\n",
    "m = mip.Model(\"Capacity_Planning_Stochastic\")\n",
    "\n",
    "#in stochastic programming, we call the samples scenarios\n",
    "n_scenarios = n_samples\n",
    "scenarios = np.arange(n_scenarios) # set of scenarios\n",
    "\n",
    "#parameters\n",
    "installation_cost = 30\n",
    "contribution_margin = 40\n",
    "\n",
    "#decision variables\n",
    "capacity =  m.add_var(name=\"capacity\", lb=0)\n",
    "\n",
    "production = [m.add_var(name=f\"production{s}\", lb= 0) for s in scenarios]\n",
    "\n",
    "m.objective =  maximize(1 / n_scenarios * sum(-installation_cost*capacity + contribution_margin * production[s] for s in scenarios))\n",
    "\n",
    "for s in scenarios:    \n",
    "    m += production[s] <= demand_sample[s]\n",
    "    m += production[s] <= capacity \n",
    "\n",
    "m.optimize()\n",
    "\n",
    "print(f'Capacity decision: {capacity.x:.02f}')\n",
    "print(f'Expected Total Profit: {m.objective_value:.02f}' )\n",
    "\n",
    "@vectorize\n",
    "def total_profit(capacity, demand):\n",
    "    return -30*capacity + 40*min(capacity, demand)\n",
    "\n",
    "print( np.mean(total_profit (capacity.x, demand_sample ) ))"
   ]
  },
  {
   "cell_type": "markdown",
   "metadata": {
    "slideshow": {
     "slide_type": "slide"
    }
   },
   "source": [
    "# Adapting to the Conventions of Stochastic Programming"
   ]
  },
  {
   "cell_type": "markdown",
   "metadata": {
    "slideshow": {
     "slide_type": "slide"
    }
   },
   "source": [
    "## Conventions in Stochastic Programming\n",
    "\n",
    "\n",
    "- $S$ can be viewed as the index set for a sample vector $[d_s]_{s \\in S}$\n",
    "- in Stochastic (Linear) Programming, $S$ is usually denoted as the set of **scenarios**\n",
    "- thus, $s \\in S$ is called a **scenario index** or simply a *scenario*\n",
    "- a **scenario** (index) $s$\n",
    "  - may be used for multiple parameters and decision variables and\n",
    "  - represents a consistent possible state of the world\n",
    "- in particular, in presence of multiple uncertain parameters, e.g.\n",
    "  $D^1$ and $D^2$, the approximation of all scenarios $[d^1_s  d^2_s]_{s \\in S}$ form an approximation of the joint probability distribution of $D^1$ and $D^2$\n",
    "- also, in stochastic programming, that is, it is **not** always assumed\n",
    "  that each scenario is equally likely, that is, the probability $p_s$\n",
    "  of a scenario may be different from $\\frac{1}{|S|}$\n",
    "- finally, in two-stage-stochastic programming, in the objective function, the first-stage part is typically not moved into the term approximating the expectation\n",
    "  "
   ]
  },
  {
   "cell_type": "markdown",
   "metadata": {
    "slideshow": {
     "slide_type": "slide"
    }
   },
   "source": [
    "## Stochastic Programming-Style Formulation\n",
    "\n",
    "**Sets:**\n",
    "- $S$  scenario set\n",
    "\n",
    "**Parameters:**\n",
    "- $d_s$: demand in units in scenario  $s$\n",
    "- $p_s$: probability of scenario $s$\n",
    "\n",
    "**Decision Variables:**\n",
    "- $x$: capacity installation decision (*first stage* / *here and now* decision) \n",
    "- $z_s$: production decision for scenario $s$ (*second stage* / *recourse* decision)\n",
    "\n",
    "\n",
    "$$\n",
    " \\begin{align*}\n",
    "        \\max \\;        -30x +  & \\sum_{s \\in S} p_s 40 z_s \\\\\n",
    "        \\text{s.t.} \\qquad   z_s &\\leq x \\qquad &\\forall s \\in S \\\\                  \n",
    "                         z_s &\\leq d_s \\qquad &\\forall s \\in S \\\\\n",
    "                         x &\\geq 0 \\\\\n",
    " z_s &\\geq 0 \\qquad &\\forall s \\in S\n",
    "\\end{align*}\n",
    "$$\n",
    "\n",
    "**Observe that in the objective function, we \"removed\" the first-stage term from the sum**"
   ]
  },
  {
   "cell_type": "markdown",
   "metadata": {
    "slideshow": {
     "slide_type": "slide"
    }
   },
   "source": [
    "## Stochastic Programming-Style Formulation: Implementation in Python\n"
   ]
  },
  {
   "cell_type": "code",
   "execution_count": 7,
   "metadata": {
    "slideshow": {
     "slide_type": "-"
    }
   },
   "outputs": [
    {
     "name": "stdout",
     "output_type": "stream",
     "text": [
      "Capacity decision: 82.80\n",
      "Expected Total Profit: 672.77\n"
     ]
    }
   ],
   "source": [
    "\n",
    "# Create a new model\n",
    "m = mip.Model(\"Capacity_Planning_Stochastic\")\n",
    "\n",
    "\n",
    "#in stochastic programming, we call the samples scenarios\n",
    "#sets\n",
    "n_scenarios = n_samples\n",
    "scenarios = np.arange(n_scenarios)\n",
    "\n",
    "#probability of each scenario - in our case, each scenario has prob. 1/|S|\n",
    "prob = np.full((n_scenarios), 1/n_scenarios)\n",
    "\n",
    "#parameters\n",
    "installation_cost = 30\n",
    "contribution_margin = 40\n",
    "\n",
    "#decision variables\n",
    "capacity =  m.add_var(name=\"capacity\", lb=0)\n",
    "\n",
    "production = [m.add_var(name=f\"production{s}\", lb= 0) for s in scenarios]\n",
    "\n",
    "m.objective =  maximize( -installation_cost*capacity + sum(prob[s] * contribution_margin * production[s] for s in scenarios))\n",
    "\n",
    "for s in scenarios:    \n",
    "    m += production[s] <= demand_sample[s]\n",
    "    m += production[s] <= capacity \n",
    "\n",
    "m.optimize()\n",
    "\n",
    "print(f'Capacity decision: {capacity.x:.02f}')\n",
    "\n",
    "print(f'Expected Total Profit: {m.objective_value:.02f}' )"
   ]
  },
  {
   "cell_type": "markdown",
   "metadata": {
    "slideshow": {
     "slide_type": "slide"
    }
   },
   "source": [
    "# Understanding Two-Stage Stochastic Programs: Model Structure and Link to Monte-Carlo Simulation"
   ]
  },
  {
   "cell_type": "markdown",
   "metadata": {
    "slideshow": {
     "slide_type": "slide"
    }
   },
   "source": [
    "## Visualizing the Model Structure of Two-Stage Stochastic Programs\n",
    "\n",
    "Let us once again consider the model structure of a two-stage stochastic program\n",
    "\n",
    "<img width='90%' src='img/two_stage_tree.png'>\n",
    "\n",
    "This structure leads to two important observations:\n",
    "- the second-stage part can be seen as a sample approximation / Monte-Carlo Simulation\n",
    "- model parts can be seen as belonging to the first stage, the second stage or they can link both stages\n"
   ]
  },
  {
   "cell_type": "markdown",
   "metadata": {
    "slideshow": {
     "slide_type": "slide"
    }
   },
   "source": [
    "## Important Observation: The Second Stage in the Stochastic LP as Monte-Carlo Simulation\n",
    "\n",
    "- only first-stage decisions really have to be taken here and now\n",
    "- the second-stage decisions only will be taken after the uncertain parameters\n",
    "  become known\n",
    "- thus, in the process of taking the first-stage decision, the second-stage\n",
    "  variables form sort of a *simulation* for evaluating the first stage-decisions\n",
    "\n",
    "\n",
    "Let's verify this by using our \"classical\" Monte Carlo approach:\n"
   ]
  },
  {
   "cell_type": "code",
   "execution_count": 9,
   "metadata": {
    "slideshow": {
     "slide_type": "-"
    }
   },
   "outputs": [
    {
     "name": "stdout",
     "output_type": "stream",
     "text": [
      "Expected Total Profit from Stochastic LP: 672.77\n",
      "Expected Total Profit for the LP decision as computed by Monte-Carlo Simulation: 672.77 \n"
     ]
    }
   ],
   "source": [
    "@vectorize\n",
    "def total_profit(capacity,demand):\n",
    "    return -30*capacity + 40* min(capacity, demand)\n",
    "\n",
    "expected_value_monte_carlo = np.mean(total_profit(capacity.x, demand_sample))\n",
    "\n",
    "print(f'Expected Total Profit from Stochastic LP: {m.objective_value:.02f}' )\n",
    "print(f'Expected Total Profit for the LP decision as computed by Monte-Carlo Simulation: {expected_value_monte_carlo:.02f} ')"
   ]
  },
  {
   "cell_type": "markdown",
   "metadata": {
    "slideshow": {
     "slide_type": "fragment"
    }
   },
   "source": [
    "Observe: If we fix the first-stage decision to a given value, we can even use the two-stage-stochastic program for \"simulating\" the second stage."
   ]
  },
  {
   "cell_type": "markdown",
   "metadata": {
    "slideshow": {
     "slide_type": "slide"
    }
   },
   "source": [
    "## Two-Stage Stochastic Programming: Model Structure Regarding Constraints\n",
    "\n",
    "It is instructive to distinguish three types of constraints in a two-stage stochastic program:\n",
    "\n",
    "- **First-stage constraints** only involve first-stage decision variables\n",
    "- **Second-stage constraints** only involve second-stage decision variables\n",
    "- **Coupling constraints** involving both types of variables\n",
    "\n",
    "$$\n",
    "\\begin{align*}\n",
    "        \\max \\;          - \\sum_{i \\in I} c_i x_i  +  &\\sum_{s \\in S} p_s \\sum_{i \\in I} ( m_i z_{is}  ) \\\\\n",
    "        \\text{s.t.} \\;   z_{is} &\\leq x_i \\qquad &\\forall i \\in I, s \\in S \\qquad \\blacktriangleright \\textsf{coupling constraints}\\\\\n",
    "                         \\sum_{i \\in I} z_{is}  &\\leq d_s \\qquad &\\forall s \\in S\\qquad \\blacktriangleright \\textsf{2nd stage constraints}\\\\\n",
    "                         x_i &\\geq 0  \\qquad &\\forall i \\in I \\qquad \\blacktriangleright \\textsf{1st stage constraints}\\\\ \n",
    "\t\t\t  z_{is} &\\geq 0 \\qquad &\\forall i \\in I, s \\in S \\qquad \\blacktriangleright \\textsf{2nd stage constraints}            \n",
    "\\end{align*}\n",
    "$$\n"
   ]
  },
  {
   "cell_type": "markdown",
   "metadata": {
    "slideshow": {
     "slide_type": "slide"
    }
   },
   "source": [
    "## More Examples for Two-Stage Problems \n",
    "\n",
    "**Two Stage Stochastic Programming Applications**\n",
    "\n",
    "\n",
    "\n",
    "| *Problem*                | *1st Stage* | *Uncertainty*   | *2nd Stage*          |\n",
    "|--------------------------|-------------|-----------------|----------------------|\n",
    "| Agricultural Planning    | Planting    | Yield, Price    | Selling              |\n",
    "| Surgery Scheduling       | Scheduling  | Emergencies     | Overtime, Shifting   |\n",
    "| Project Scheduling       | Scheduling  | Task Duration   | Outsourcing, Penalty |\n",
    "| Airline Crew Scheduling  | Scheduling  | Sickness, Delay | Reschedule, Standby  |\n",
    "| Aluminum Recycling       | Blending    | Batch Quality   | Adding pure Aluminum |\n",
    "\n",
    "- in all examples, the 1st-stage decisions are different from the 2nd-stage \n",
    "  - this is a key difference to multistage problems such as operating a\n",
    "    power plant under uncertainty where the same kind of decisions are made in each stage\n",
    "- the second-stage problem may involve multiple periods / stages\n"
   ]
  },
  {
   "cell_type": "markdown",
   "metadata": {
    "slideshow": {
     "slide_type": "slide"
    }
   },
   "source": [
    "## Summary\n",
    "\n",
    "In this meeting, we discussed\n",
    "- how to use (unconstrained) optimization for decision making under uncertainty\n",
    "- the stucture of decision making problems under uncertainty and how to model them as decision trees\n",
    "two important measures in the context of decision making under uncertainty:\n",
    "- the value of including uncertainty and\n",
    "- the value of (perfect and imperfect) information\n",
    "- how to transfer these ideas to the world of (mixed integer) linear programming\n"
   ]
  }
 ],
 "metadata": {
  "celltoolbar": "Slideshow",
  "kernelspec": {
   "display_name": "Python [conda env:playground]",
   "language": "python",
   "name": "conda-env-playground-py"
  },
  "language_info": {
   "codemirror_mode": {
    "name": "ipython",
    "version": 3
   },
   "file_extension": ".py",
   "mimetype": "text/x-python",
   "name": "python",
   "nbconvert_exporter": "python",
   "pygments_lexer": "ipython3",
   "version": "3.7.10"
  },
  "toc": {
   "base_numbering": 1,
   "nav_menu": {},
   "number_sections": false,
   "sideBar": true,
   "skip_h1_title": false,
   "title_cell": "Table of Contents",
   "title_sidebar": "Contents",
   "toc_cell": false,
   "toc_position": {},
   "toc_section_display": true,
   "toc_window_display": false
  },
  "varInspector": {
   "cols": {
    "lenName": 16,
    "lenType": 16,
    "lenVar": 40
   },
   "kernels_config": {
    "python": {
     "delete_cmd_postfix": "",
     "delete_cmd_prefix": "del ",
     "library": "var_list.py",
     "varRefreshCmd": "print(var_dic_list())"
    },
    "r": {
     "delete_cmd_postfix": ") ",
     "delete_cmd_prefix": "rm(",
     "library": "var_list.r",
     "varRefreshCmd": "cat(var_dic_list()) "
    }
   },
   "types_to_exclude": [
    "module",
    "function",
    "builtin_function_or_method",
    "instance",
    "_Feature"
   ],
   "window_display": false
  }
 },
 "nbformat": 4,
 "nbformat_minor": 2
}
