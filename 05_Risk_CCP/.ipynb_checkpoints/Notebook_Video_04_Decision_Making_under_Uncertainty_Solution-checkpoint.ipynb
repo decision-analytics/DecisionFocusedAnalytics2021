{
 "cells": [
  {
   "cell_type": "markdown",
   "metadata": {},
   "source": [
    "# Combining OR and Data Science Summer 2020\n",
    "\n",
    "J-Prof. Dr. Michael Römer\n",
    "\n",
    "## Notebook Accompanying Video 4: Decision-Making under Uncertainty: Basic Concepts\n",
    "\n",
    "This notebook contains Python examples for the material covered in the video.\n",
    "\n",
    "From time to time, you are are asked to pause the video in order to look at the code examples and perform some experiments and solve small  excersices.\n"
   ]
  },
  {
   "cell_type": "code",
   "execution_count": 2,
   "metadata": {},
   "outputs": [],
   "source": [
    "import numpy as np\n",
    "from scipy import stats\n",
    "import matplotlib.pyplot as plt\n",
    "from numba import vectorize\n"
   ]
  },
  {
   "cell_type": "markdown",
   "metadata": {},
   "source": [
    "### The Capacity Planning Case Study: Model and Monte-Carlo Approximation of Expected Total Profit\n",
    "\n",
    "This is the capacity planning case study, a decision problem affected by uncertainty.\n",
    "\n",
    "We assume that we have to decide first how much production capacity we would like to install, and only afterwards we learn the exact demand. \n",
    "\n",
    "Our total profit dependends on the fixed cost for capacity installation and on the units produced and sold, which are bounded by the uncertain demand and the installed capacity.\n",
    "\n"
   ]
  },
  {
   "cell_type": "code",
   "execution_count": 70,
   "metadata": {},
   "outputs": [
    {
     "name": "stdout",
     "output_type": "stream",
     "text": [
      "For a capacity of 100, the expected total profit is 603.06\n"
     ]
    }
   ],
   "source": [
    "\n",
    "\n",
    "#@vectorize turns a function into a just-in-time compiled vectorized function\n",
    "@vectorize\n",
    "def total_profit(capacity,demand):\n",
    "    return -30*capacity + 40* min(capacity, demand)\n",
    "\n",
    "n_samples = 100000\n",
    "\n",
    "demand_dist = stats.norm(100,25)\n",
    "\n",
    "# we create a sample vector of demands (demand_dist was defined above)\n",
    "demand = demand_dist.rvs(n_samples)\n",
    "\n",
    "# decision\n",
    "capacity = 100 \n",
    "\n",
    "#we can now call the function with an array parameter returning an array of profits\n",
    "profit = total_profit(capacity,demand)\n",
    "\n",
    "expected_profit = np.mean(profit)\n",
    "\n",
    "print(f'For a capacity of {capacity}, the expected total profit is {expected_profit:.2f}')\n"
   ]
  },
  {
   "cell_type": "markdown",
   "metadata": {},
   "source": [
    "**Exercise:**\n",
    "\n",
    "Play with different capacity values to see the effects on the expected profits!"
   ]
  },
  {
   "cell_type": "code",
   "execution_count": null,
   "metadata": {},
   "outputs": [],
   "source": []
  },
  {
   "cell_type": "markdown",
   "metadata": {},
   "source": [
    "### Choosing the Best Decision by Enumeration\n",
    "\n",
    "First, we plot all decisions and their expected profits"
   ]
  },
  {
   "cell_type": "code",
   "execution_count": 73,
   "metadata": {},
   "outputs": [
    {
     "data": {
      "image/png": "[encoded data removed]",
      "text/plain": [
       "<Figure size 432x288 with 1 Axes>"
      ]
     },
     "metadata": {
      "needs_background": "light"
     },
     "output_type": "display_data"
    }
   ],
   "source": [
    "capacities = np.arange(0,130)\n",
    "\n",
    "\n",
    "#this function can be called with a vector of capacity decisions and returns a vector of expected profits\n",
    "@vectorize\n",
    "def expected_profit(capacity):\n",
    "    return np.mean(total_profit(capacity,demand))\n",
    "\n",
    "#create a vector \n",
    "expected_profits = expected_profit(capacities)\n",
    "\n",
    "\n",
    "plt.plot(capacities, expected_profits, linewidth=2, color='b')\n",
    "plt.suptitle('Expected total profit as a function of capacity')\n",
    "plt.xlabel('capacity')\n",
    "plt.ylabel('Expected total profit')\n",
    "#plt.savefig(\"expected_profit_function.pdf\",bbox_inches=\"tight\")\n",
    "plt.show()"
   ]
  },
  {
   "cell_type": "markdown",
   "metadata": {},
   "source": [
    "**Exercise:**\n",
    "\n",
    "Implement a for loop that chooses the best capacity decision and print the best decision and the best expected total profit.\n",
    "\n"
   ]
  },
  {
   "cell_type": "code",
   "execution_count": 98,
   "metadata": {},
   "outputs": [
    {
     "name": "stdout",
     "output_type": "stream",
     "text": [
      "The best decision is: 83, yielding an expected total profit of 683.30\n"
     ]
    }
   ],
   "source": [
    "best_capacity = 0\n",
    "best_expected_total_profit = 0\n",
    "\n",
    "for capacity in capacities:\n",
    "    profit = expected_profit(capacity) \n",
    "    if profit > best_expected_total_profit:\n",
    "        best_capacity = capacity\n",
    "        best_expected_total_profit = profit\n",
    "        \n",
    "print(f'The best decision is: {best_capacity}, yielding an expected total profit of {best_expected_total_profit:.2f}')"
   ]
  },
  {
   "cell_type": "markdown",
   "metadata": {},
   "source": [
    "Below you find and implementation based on the numpy function argmax that gives the index of the element with the maximum value."
   ]
  },
  {
   "cell_type": "code",
   "execution_count": 99,
   "metadata": {},
   "outputs": [
    {
     "name": "stdout",
     "output_type": "stream",
     "text": [
      "The best decision is: 83, yielding an expected total profit of 683.30\n"
     ]
    }
   ],
   "source": [
    "    \n",
    "index_of_max = np.argmax(expected_profits)\n",
    "\n",
    "print(f'The best decision is: {capacities[index_of_max]}, yielding an expected total profit of {expected_profits[index_of_max]:.2f}')\n"
   ]
  },
  {
   "cell_type": "markdown",
   "metadata": {},
   "source": [
    "### Using Derivative-free Optimization for Finding the Best Decision\n",
    "\n",
    "Since scipy optimize does not offer a maximization function, I wrote a simple wrapper function (see below).\n",
    "\n",
    "For a documentation of scipy.optimize, see \n",
    "https://docs.scipy.org/doc/scipy/reference/optimize.html and\n",
    "https://docs.scipy.org/doc/scipy/reference/tutorial/optimize.html\n",
    "\n",
    "As mentioned in the video, scipy.optimize only offers continuous optimization, that is why the best decision variable value may not correspond to an integer.\n"
   ]
  },
  {
   "cell_type": "code",
   "execution_count": 63,
   "metadata": {},
   "outputs": [
    {
     "name": "stdout",
     "output_type": "stream",
     "text": [
      "The best decision is: 83.20, yielding an expected total profit of 682.36\n"
     ]
    }
   ],
   "source": [
    "from scipy.optimize import minimize\n",
    "\n",
    "def maximize(fun, start_val):\n",
    "    result = minimize(lambda x: -fun(x), start_val)\n",
    "    result.fun = result.fun * -1\n",
    "    return result\n",
    "\n",
    "\n",
    "\n",
    "optimization_result = maximize(expected_profit,1000)\n",
    "\n",
    "print(f'The best decision is: {optimization_result.x[0]:.2f}, yielding an expected total profit of {optimization_result.fun:.2f}')\n",
    "\n"
   ]
  },
  {
   "cell_type": "code",
   "execution_count": null,
   "metadata": {},
   "outputs": [],
   "source": []
  },
  {
   "cell_type": "markdown",
   "metadata": {},
   "source": [
    "### Expected Value of Including Uncertainty\n",
    "\n",
    "See the slides for an explanation of EVIU, EIU and EEV"
   ]
  },
  {
   "cell_type": "code",
   "execution_count": 76,
   "metadata": {},
   "outputs": [
    {
     "name": "stdout",
     "output_type": "stream",
     "text": [
      "The EVIU in our example is 80.24 given that EIU is 683.30 and EEV is 603.06\n"
     ]
    }
   ],
   "source": [
    "#100 is the optimal decision when assuming deterministic demand\n",
    "eev = expected_profit(100)\n",
    "\n",
    "#83 is the optimal decision when considering uncertainty - see above\n",
    "eiu = expected_profit(83)\n",
    "\n",
    "eviu = eiu - eev\n",
    "\n",
    "print(f'The EVIU in our example is {eviu:.2f} given that EIU is {eiu:.2f} and EEV is {eev:.2f}')\n",
    "\n",
    "\n"
   ]
  },
  {
   "cell_type": "markdown",
   "metadata": {},
   "source": [
    "# Expected Value of Perfect Information\n",
    "\n",
    "**Excercise**:  Compute the Expected Value of Perfect Information (EVPI) for our example\n",
    "- recall that EVPI = EPI - EIU\n",
    "- in our example the EPI is the expected total profit given perfect information. Perfect information means that you can take the decision *after* demand becomes known - you just need to change the profit function to account for this\n",
    "- EIU is the expected total profit of the best possible decision under uncertainty (we computed that before)"
   ]
  },
  {
   "cell_type": "code",
   "execution_count": 131,
   "metadata": {},
   "outputs": [
    {
     "name": "stdout",
     "output_type": "stream",
     "text": [
      "The EVPI in our example is 317.36 given that EIU is 683.30 and EPI is 1000.66\n"
     ]
    }
   ],
   "source": [
    "\n",
    "@vectorize\n",
    "def total_profit_perfect_information(demand):\n",
    "    return -30*demand + 40*demand\n",
    "\n",
    "epi = np.mean(total_profit_perfect_information(demand))\n",
    "\n",
    "evpi = epi - eiu\n",
    "\n",
    "print(f'The EVPI in our example is {evpi:.2f} given that EIU is {eiu:.2f} and EPI is {epi:.2f}')\n"
   ]
  },
  {
   "cell_type": "markdown",
   "metadata": {},
   "source": [
    "## Decision Making as Shaping Distributions\n",
    "\n",
    "Taking a decision under uncertainty means deciding between different outcome distributions.\n",
    "\n",
    "We can compare the shapes of the distribution by plotting their histograms.\n"
   ]
  },
  {
   "cell_type": "code",
   "execution_count": 52,
   "metadata": {},
   "outputs": [
    {
     "data": {
      "image/png": "[encoded data removed]",
      "text/plain": [
       "<Figure size 864x288 with 2 Axes>"
      ]
     },
     "metadata": {
      "needs_background": "light"
     },
     "output_type": "display_data"
    }
   ],
   "source": [
    "values_to_plot = [63, 100]\n",
    "\n",
    "fig, axes = plt.subplots(1, len(values_to_plot), figsize=(6*len(values_to_plot), 4), constrained_layout=True, sharey=True)\n",
    "\n",
    "for index in range(len(values_to_plot)):\n",
    "    \n",
    "    count, bins, ignored = axes[index].hist(total_profit(values_to_plot[index],demand), bins=30, density=True, color='#EEEEEE', edgecolor=\"#AAAAAA\", range =[-1000,1000])\n",
    "    axes[index].set_ylim ([0, 0.015])\n",
    "    axes[index].set_title(f'capacity = {values_to_plot[index]}, expected profit = {expected_profit(values_to_plot[index]):.02f}')\n",
    "    axes[index].set_xlabel('total profit')\n",
    "    \n",
    "\n",
    "#plt.savefig(\"two_result_distributions.pdf\",bbox_inches=\"tight\")\n",
    "plt.show()"
   ]
  },
  {
   "cell_type": "markdown",
   "metadata": {},
   "source": [
    "**Excercise:**\n",
    "\n",
    "For both capacity values shown above (63 and 100), compute the probability of obtaining a negative total profit!"
   ]
  },
  {
   "cell_type": "code",
   "execution_count": 115,
   "metadata": {},
   "outputs": [
    {
     "name": "stdout",
     "output_type": "stream",
     "text": [
      "The probability of a negative profit for capacity decision 63 is 1.78 %\n",
      "The probability of a negative profit for capacity decision 100 is 15.73 %\n"
     ]
    }
   ],
   "source": [
    "capacities_to_consider = [63, 100]\n",
    "\n",
    "for capacity in capacities_to_consider:\n",
    "    profit_samples = total_profit(capacity,demand)\n",
    "    prob = np.count_nonzero(profit_samples < 0) / profit_samples.size\n",
    "    print(f'The probability of a negative profit for capacity decision { capacity } is {100*prob:0.2f} %')"
   ]
  },
  {
   "cell_type": "markdown",
   "metadata": {},
   "source": [
    "As an alternative to plotting histograms,  we can compare outcome distributions by plotting the cumluative distribution functions:\n",
    "\n"
   ]
  },
  {
   "cell_type": "code",
   "execution_count": 83,
   "metadata": {},
   "outputs": [
    {
     "data": {
      "image/png": "[encoded data removed]",
      "text/plain": [
       "<Figure size 432x288 with 1 Axes>"
      ]
     },
     "metadata": {
      "needs_background": "light"
     },
     "output_type": "display_data"
    }
   ],
   "source": [
    "from statsmodels.distributions.empirical_distribution import ECDF\n",
    "\n",
    "values_to_plot = [63, 83, 100]\n",
    "\n",
    "xx = np.linspace(-1000,1000)\n",
    "\n",
    "#fig, axes = plt.subplots(1, len(values_to_plot), figsize=(6*len(values_to_plot), 4), constrained_layout=True)\n",
    "\n",
    "for index in range(len(values_to_plot)):\n",
    "    ecdf = ECDF(total_profit(values_to_plot[index],demand))\n",
    "    plt.plot(xx, ecdf(xx),label=f'capacity={values_to_plot[index]}')\n",
    "    #axes[index].set_title(f'capacity = {values_to_plot[index]}, expected profit = {expected_profit(values_to_plot[index]):.02f}')\n",
    "    \n",
    "plt.legend()\n",
    "plt.xlabel('Total Profit')\n",
    "plt.ylabel('Cumulative Probability')\n",
    "\n",
    "#plt.savefig(\"cumulative_result_distributions.pdf\",bbox_inches=\"tight\")\n",
    "plt.show()"
   ]
  },
  {
   "cell_type": "markdown",
   "metadata": {},
   "source": [
    "## Stochastic Dominance\n",
    "Below, we find an example where one distribution dominates the other.\n",
    "\n"
   ]
  },
  {
   "cell_type": "code",
   "execution_count": 286,
   "metadata": {},
   "outputs": [
    {
     "data": {
      "text/plain": [
       "[<matplotlib.lines.Line2D at 0x1d48d3e2848>]"
      ]
     },
     "execution_count": 286,
     "metadata": {},
     "output_type": "execute_result"
    },
    {
     "data": {
      "image/png": "[encoded data removed]",
      "text/plain": [
       "<Figure size 432x288 with 1 Axes>"
      ]
     },
     "metadata": {
      "needs_background": "light"
     },
     "output_type": "display_data"
    }
   ],
   "source": [
    "@vectorize\n",
    "def total_profit_other_product(capacity,demand):\n",
    "    return -15*capacity + 25*min(capacity, demand)\n",
    "\n",
    "ecdf = ECDF(total_profit(80,demand))\n",
    "plt.plot(xx, ecdf(xx))\n",
    "\n",
    "ecdf = ECDF(total_profit_other_product(80,demand))\n",
    "plt.plot(xx, ecdf(xx))"
   ]
  },
  {
   "cell_type": "markdown",
   "metadata": {},
   "source": [
    "## Using penalties\n",
    "\n",
    "Using penalities to \"push\" the selection of the distribution\n"
   ]
  },
  {
   "cell_type": "code",
   "execution_count": 96,
   "metadata": {},
   "outputs": [
    {
     "name": "stdout",
     "output_type": "stream",
     "text": [
      "63 :  553.6910256826405\n",
      "83 :  521.1215971706837\n",
      "100 :  210.42197727476574\n",
      "Given a target value of 500 and a shortfall penalty lambda= 2, the optimal capacity decision is 71.14\n"
     ]
    }
   ],
   "source": [
    "\n",
    "target_profit = 500\n",
    "shortfall_penalty = 2\n",
    "\n",
    "@vectorize\n",
    "def total_profit_and_shortfall_penalty(capacity,demand):\n",
    "    profit = -30*capacity + 40* min(capacity, demand)\n",
    "    return profit - shortfall_penalty * max(target_profit - profit, 0)\n",
    "    \n",
    "\n",
    "@vectorize\n",
    "def expected_total_profit_and_shortfall_penalty(capacity):\n",
    "    return np.mean(total_profit_and_shortfall_penalty(capacity,demand))\n",
    "\n",
    "values_to_plot = [63, 83, 100]\n",
    "\n",
    "for capacity in values_to_plot:\n",
    "    print(capacity, ': ', expected_total_profit_and_shortfall_penalty(capacity))\n",
    "\n",
    "    \n",
    "result = maximize(expected_total_profit_and_shortfall_penalty,100)\n",
    "\n",
    "print(f'Given a target value of {target_profit} and a shortfall penalty lambda= {shortfall_penalty}, the optimal capacity decision is {result.x[0]:.2f}')"
   ]
  },
  {
   "cell_type": "code",
   "execution_count": null,
   "metadata": {},
   "outputs": [],
   "source": []
  },
  {
   "cell_type": "markdown",
   "metadata": {},
   "source": [
    "**Excercise**:\n",
    "\n",
    "Play with different values for the target and the penalty lambda!"
   ]
  },
  {
   "cell_type": "code",
   "execution_count": null,
   "metadata": {},
   "outputs": [],
   "source": []
  },
  {
   "cell_type": "markdown",
   "metadata": {},
   "source": [
    "## Utitility Theory\n",
    "\n",
    "Using exponential utility functions to model risk aversion\n",
    "\n",
    "\n"
   ]
  },
  {
   "cell_type": "code",
   "execution_count": 81,
   "metadata": {},
   "outputs": [],
   "source": [
    "from math import exp\n",
    "\n",
    "risk_tolerance = 100\n",
    "\n",
    "@vectorize\n",
    "def exponential_utility (profits, risk_tolerance):\n",
    "    return 1-exp(-profits/risk_tolerance)\n",
    "\n",
    "\n",
    "def expected_exponential_utility (profits, risk_tolerance):\n",
    "    return np.mean(exponential_utility(profit, risk_tolerance))"
   ]
  },
  {
   "cell_type": "code",
   "execution_count": 82,
   "metadata": {},
   "outputs": [
    {
     "data": {
      "image/png": "[encoded data removed]",
      "text/plain": [
       "<Figure size 432x288 with 1 Axes>"
      ]
     },
     "metadata": {
      "needs_background": "light"
     },
     "output_type": "display_data"
    }
   ],
   "source": [
    "\n",
    "risk_tolerances = [100, 300, 1000, 2000]\n",
    "\n",
    "\n",
    "xx = np.linspace(0, 1500)\n",
    "\n",
    "#plt.plot(xx, xx, linewidth=2, label = 'Linear')\n",
    "\n",
    "for risk_tolerance in risk_tolerances:\n",
    "    yy = exponential_utility (xx, risk_tolerance)\n",
    "    plt.plot(xx, yy, linewidth=2,label = f'R={risk_tolerance}')\n",
    "\n",
    "plt.suptitle('Exponential utility functions for different risk tolerances R')\n",
    "plt.legend()\n",
    "\n",
    "plt.xlabel('Total Profit')\n",
    "plt.ylabel('Utility')\n",
    "\n",
    "\n",
    "#plt.savefig(\"utility_functions.pdf\",bbox_inches=\"tight\")\n",
    "plt.show()\n",
    "\n"
   ]
  },
  {
   "cell_type": "code",
   "execution_count": 92,
   "metadata": {},
   "outputs": [
    {
     "name": "stdout",
     "output_type": "stream",
     "text": [
      "Given a risk tolerance of 500, the optimal capacity decision is 64.37\n"
     ]
    }
   ],
   "source": [
    "risk_tolerance = 500\n",
    "\n",
    "def expected_exponential_utility_fixed_risk_tolerance (capacity):\n",
    "    return np.mean(exponential_utility(total_profit(capacity,demand), risk_tolerance))\n",
    "\n",
    "result = maximize(expected_exponential_utility_fixed_risk_tolerance, 100)\n",
    "\n",
    "print(f'Given a risk tolerance of {risk_tolerance}, the optimal capacity decision is {result.x[0]:.2f}')"
   ]
  },
  {
   "cell_type": "markdown",
   "metadata": {},
   "source": [
    "**Excercise**:\n",
    "\n",
    "Play with different risk tolerances and see how the optimal decision changes!"
   ]
  },
  {
   "cell_type": "code",
   "execution_count": null,
   "metadata": {},
   "outputs": [],
   "source": []
  },
  {
   "cell_type": "markdown",
   "metadata": {},
   "source": [
    "## Value at Risk and Conditional Value at Risk\n"
   ]
  },
  {
   "cell_type": "code",
   "execution_count": 84,
   "metadata": {},
   "outputs": [
    {
     "data": {
      "text/plain": [
       "<matplotlib.legend.Legend at 0x2890f0a3f48>"
      ]
     },
     "execution_count": 84,
     "metadata": {},
     "output_type": "execute_result"
    },
    {
     "data": {
      "image/png": "[encoded data removed]",
      "text/plain": [
       "<Figure size 432x288 with 1 Axes>"
      ]
     },
     "metadata": {
      "needs_background": "light"
     },
     "output_type": "display_data"
    }
   ],
   "source": [
    "capacity = 83\n",
    "total_profit_samples = total_profit(capacity,demand)\n",
    "\n",
    "qq = 5\n",
    "\n",
    "var_q = np.percentile(total_profit_samples, qq)\n",
    "\n",
    "total_pr_below_var = total_profit_samples[total_profit_samples <= var_q] \n",
    "\n",
    "cvar_q = total_pr_below_var.mean()\n",
    "\n",
    "# plot value at risk according to different\n",
    "\n",
    "count, bins, ignored = plt.hist(total_profit_samples, bins=30, density=True, color='#EEEEEE', edgecolor=\"#AAAAAA\", range =[-1000,1000])\n",
    "\n",
    "plt.suptitle(f'VaR and CVaR for a capacity of {capacity}')\n",
    "plt.axvline(x=var_q, label = f'{qq}%-Var')\n",
    "plt.axvline(x=cvar_q, label = f'{qq}%-CVar',color='r')\n",
    "plt.xlabel('Total Profit')\n",
    "plt.legend()\n",
    "plt.show()"
   ]
  },
  {
   "cell_type": "markdown",
   "metadata": {},
   "source": [
    "## Comparing CVaR and VaR for different capacities"
   ]
  },
  {
   "cell_type": "code",
   "execution_count": 97,
   "metadata": {},
   "outputs": [
    {
     "name": "stdout",
     "output_type": "stream",
     "text": [
      "44.45666735570552\n",
      "-1065.5433326442947\n"
     ]
    },
    {
     "data": {
      "image/png": "[encoded data removed]",
      "text/plain": [
       "<Figure size 720x288 with 2 Axes>"
      ]
     },
     "metadata": {
      "needs_background": "light"
     },
     "output_type": "display_data"
    }
   ],
   "source": [
    "values_to_plot = [63, 100]\n",
    "qq = 5\n",
    "\n",
    "fig, axes = plt.subplots(1, len(values_to_plot), figsize=(5*len(values_to_plot), 4), constrained_layout=True, sharey=True)\n",
    "\n",
    "for index in range(len(values_to_plot)):\n",
    "    \n",
    "    capacity =values_to_plot[index]\n",
    "    total_profit_samples = total_profit(capacity,demand)\n",
    "\n",
    "    var_q = np.percentile(total_profit_samples, qq)\n",
    "\n",
    "    total_pr_below_var = total_profit_samples[total_profit_samples <= var_q] \n",
    "\n",
    "    \n",
    "    cvar_q = total_pr_below_var.mean()\n",
    "\n",
    "    print(cvar_q)\n",
    "    \n",
    "    count, bins, ignored = axes[index].hist(total_profit_samples, bins=30, density=True, color='#EEEEEE', edgecolor=\"#AAAAAA\", range =[-1000,1000])\n",
    "    axes[index].set_title(f'VaR and CVaR for a capacity of {capacity}')\n",
    "    axes[index].axvline(x=var_q, label = f'{qq}%-Var')\n",
    "    axes[index].axvline(x=cvar_q, label = f'{qq}%-CVar',color='r')\n",
    "    axes[index].set_xlabel('Total Profit')\n",
    "    axes[index].legend()\n",
    "\n",
    "#plt.savefig(\"var_and_cvar_comparison.pdf\",bbox_inches=\"tight\")\n",
    "plt.show()\n"
   ]
  },
  {
   "cell_type": "markdown",
   "metadata": {},
   "source": [
    "**Exercise:**\n",
    "\n",
    "We can create a mean-risk objective function by using a linear combination of expected total profit and conditional value at risk. \n",
    "\n",
    "Please create such an objective function in Python with an adjustable weight for the conditional value at risk. \n",
    "\n",
    "Then, create code that selects the best capacity decsion based on this objective and play with different weight parameters to see the effects on the choice of the solution!"
   ]
  },
  {
   "cell_type": "code",
   "execution_count": 128,
   "metadata": {},
   "outputs": [
    {
     "name": "stdout",
     "output_type": "stream",
     "text": [
      "Given a weight of 2 and q= 5, the optimal capacity decision is 53.70\n"
     ]
    }
   ],
   "source": [
    "def cvar_from_samples(sample_approximation, q):\n",
    "    \n",
    "    var_q = np.percentile(sample_approximation, q)\n",
    "\n",
    "    total_pr_below_var = sample_approximation[sample_approximation <= var_q] \n",
    "\n",
    "    return total_pr_below_var.mean()\n",
    "print(f'Given a risk tolerance of {risk_tolerance}, the optimal capacity decision is {result.x[0]:.2f}')\n",
    "\n",
    "\n",
    "\n",
    "def mean_risk_objective(sample_approximation,weight,q):\n",
    "    return np.mean(sample_approximation) + weight*cvar_from_samples(sample_approximation,q)\n",
    "\n",
    "weight = 2\n",
    "q = 5\n",
    "\n",
    "def mean_risk_capacity(capacity):\n",
    "    return mean_risk_objective(total_profit(capacity,demand),weight,q)\n",
    "\n",
    "result = maximize(mean_risk_capacity, 100)\n",
    "\n",
    "print(f'Given a weight of {weight} and q= {q}, the optimal capacity decision is {result.x[0]:.2f}')"
   ]
  }
 ],
 "metadata": {
  "kernelspec": {
   "display_name": "Python 3",
   "language": "python",
   "name": "python3"
  },
  "language_info": {
   "codemirror_mode": {
    "name": "ipython",
    "version": 3
   },
   "file_extension": ".py",
   "mimetype": "text/x-python",
   "name": "python",
   "nbconvert_exporter": "python",
   "pygments_lexer": "ipython3",
   "version": "3.7.10"
  }
 },
 "nbformat": 4,
 "nbformat_minor": 4
}
