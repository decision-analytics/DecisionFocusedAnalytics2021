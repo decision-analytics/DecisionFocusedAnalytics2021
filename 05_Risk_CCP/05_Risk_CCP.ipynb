{
 "cells": [
  {
   "cell_type": "markdown",
   "metadata": {
    "slideshow": {
     "slide_type": "slide"
    }
   },
   "source": [
    "<img src=\"img/bigsem.png\" width=\"40%\" align=\"right\">\n",
    "<img src=\"img/logo_wiwi.png\" width=\"20%\" align=\"left\">\n",
    "\n",
    "\n",
    "\n",
    "\n",
    "\n",
    "<br><br><br><br>\n",
    "\n",
    "## Decision-Focused Analytics\n",
    "**Winter Term 2021/22**\n",
    "\n",
    "\n",
    "# 5. Risk Aversion and Chance-Constrained Programming\n",
    "\n",
    "<img src=\"img/decision_analytics_logo.png\" width=\"17%\" align=\"right\">\n",
    "\n",
    "\n",
    "<br>\n",
    "\n",
    "<br>\n",
    "<br>\n",
    "\n",
    "**J-Prof. Dr. Michael Römer |  Decision Analytics Group**\n",
    "                                                    \n"
   ]
  },
  {
   "cell_type": "code",
   "execution_count": 1,
   "metadata": {
    "slideshow": {
     "slide_type": "skip"
    }
   },
   "outputs": [],
   "source": [
    "import numpy as np\n",
    "from scipy import stats\n",
    "import matplotlib.pyplot as plt\n",
    "from numba import vectorize\n",
    "import pandas as pd\n",
    "import mip\n",
    "from mip import maximize\n",
    "from scipy.optimize import minimize"
   ]
  },
  {
   "cell_type": "markdown",
   "metadata": {
    "slideshow": {
     "slide_type": "slide"
    }
   },
   "source": [
    "## Overview\n",
    "\n",
    "#### Part I:  Risk Orientation / Decision-Making as Shaping Distributions\n",
    "- Decision Making under Uncertainty as Shaping Distributions\n",
    "- Comparing Distributions: Stochastic Dominance\n",
    "- Shaping Distributions by Incorporating Risk Attitude into Decision / Optimization Models\n",
    "\n",
    "#### Part II: Feasibility Guarantees by Chance-Constrained Programming\n",
    "- Feasibility Issues in Single-Stage Problems under Uncertainty\n",
    "- Single Chance Constraints\n",
    "- Joint Chance Constraints\n",
    "- Improving Chance-Constrained Programming Formulations\n"
   ]
  },
  {
   "cell_type": "markdown",
   "metadata": {
    "slideshow": {
     "slide_type": "slide"
    }
   },
   "source": [
    "# Part I: Risk Orientation and Decision Making under Uncertainty as Shaping Distributions"
   ]
  },
  {
   "cell_type": "markdown",
   "metadata": {
    "slideshow": {
     "slide_type": "slide"
    }
   },
   "source": [
    "## Part I: Risk Orientation and Decision Making under Uncertainty as Shaping Distributions\n",
    "\n",
    "In the first part, we will introduce the idea that:\n",
    "\n",
    "**Decision Making under Uncertainty means Shaping Distributions**\n",
    "\n",
    "In particular, we will answer the following questions:\n",
    "- when it is appropriate to optimize expected values?\n",
    "- what is an outcome distribution?\n",
    "- what kind of useful information does the outcome distribution give us?\n",
    "- how can we compare outcome distributions?\n",
    "- how can we modify models to account for risk attitude?"
   ]
  },
  {
   "cell_type": "markdown",
   "metadata": {
    "slideshow": {
     "slide_type": "slide"
    }
   },
   "source": [
    "### The Capacity Planning Case Study\n",
    "\n",
    "- we once again use the capacity planning case study to illustrate aspects of decision making under uncertainty\n",
    "\n",
    "- it deals with the decision of installing a certain production capacity under **demand uncertainty**\n",
    "- for a given capacity and for a given demand, we can compute  the profit using the following function\n",
    "  - recall that we use `vectorize` to allow for a simple and efficient one-line Monte Carlo Simulation\n"
   ]
  },
  {
   "cell_type": "code",
   "execution_count": 2,
   "metadata": {
    "slideshow": {
     "slide_type": "-"
    }
   },
   "outputs": [],
   "source": [
    "#@vectorize turns a function into a just-in-time compiled vectorized function\n",
    "@vectorize\n",
    "def total_profit(capacity,demand):\n",
    "    return -30*capacity + 40* min(capacity, demand)"
   ]
  },
  {
   "cell_type": "markdown",
   "metadata": {
    "slideshow": {
     "slide_type": "fragment"
    }
   },
   "source": [
    "- we assume that demand follows a normal distribution and we draw a large sample "
   ]
  },
  {
   "cell_type": "code",
   "execution_count": 3,
   "metadata": {
    "slideshow": {
     "slide_type": "-"
    }
   },
   "outputs": [],
   "source": [
    "n_samples = 10000\n",
    "demand_dist = stats.norm(100,25)\n",
    "\n",
    "# we create a sample vector of demands (demand_dist was defined above)\n",
    "demands = demand_dist.rvs(n_samples)\n",
    "demand_sample = np.maximum(demand_dist.rvs(n_samples),0)"
   ]
  },
  {
   "cell_type": "markdown",
   "metadata": {
    "slideshow": {
     "slide_type": "slide"
    }
   },
   "source": [
    "## Case Study: Maximizing Expected Total Profit\n",
    "\n",
    "In the case study, we aimed at finding the decision with an optimal expected profit:\n",
    "- to be able to use the `minimize` routine for maximization, we define an objective function that gives us the negative expected profit"
   ]
  },
  {
   "cell_type": "code",
   "execution_count": 4,
   "metadata": {
    "slideshow": {
     "slide_type": "-"
    }
   },
   "outputs": [],
   "source": [
    "def neg_expected_profit(capacity, demands):\n",
    "    return -1*np.mean(total_profit(capacity,demands))"
   ]
  },
  {
   "cell_type": "markdown",
   "metadata": {
    "slideshow": {
     "slide_type": "fragment"
    }
   },
   "source": [
    "- we can use this function in a call to the `minimize` optimization routine to find the capacity decision that maximizes expected total profit"
   ]
  },
  {
   "cell_type": "code",
   "execution_count": 5,
   "metadata": {
    "slideshow": {
     "slide_type": "-"
    }
   },
   "outputs": [
    {
     "name": "stdout",
     "output_type": "stream",
     "text": [
      "The best decision is: 83.07, yielding an expected total profit of 679.28\n"
     ]
    }
   ],
   "source": [
    "result = minimize(neg_expected_profit, 100, args=(demands))\n",
    "\n",
    "print(f'The best decision is: {result.x[0]:.2f}, yielding an expected total profit of {-1 * result.fun:.2f}')"
   ]
  },
  {
   "cell_type": "markdown",
   "metadata": {
    "slideshow": {
     "slide_type": "slide"
    }
   },
   "source": [
    "## On using the Expected Value as Objective Criterion\n",
    "\n",
    "So far, we always used the **expected value** for selecting the best decision(s) - when is that appropriate?\n",
    "\n",
    "\n",
    "**The Expected Profit / Performance is a good choice if**\n",
    "- the decision problem is solved repeatedly for many times\n",
    "- the decision maker is risk-neutral\n",
    "  - e.g. because decision does not have a big impact on the wealth of\n",
    "    the decision maker\n",
    "\n",
    "**In the following,**\n",
    "- we deal with approaches that we can take if this is not the case\n",
    "- all these approache rely on the idea that the **outcome of a decision under uncertainty is a distribution**"
   ]
  },
  {
   "cell_type": "markdown",
   "metadata": {
    "slideshow": {
     "slide_type": "slide"
    }
   },
   "source": [
    "## Outcome Distribution\n",
    "\n",
    "If the (at least one) **input** of a decision making / optimization problem **is uncertain** then, in general **the output is also uncertain**\n",
    "\n",
    "Thus, taking a decision under uncertainty leads to an **outcome distribution** $G = f(x,D)$  where\n",
    "- $f$: objective function\n",
    "- $x$ decision(s)\n",
    "- $D$ is the distribution of the outcomes\n",
    "\n",
    "When approximated with a Monte-Carlo Simulation we have an outcome vector **g** \n",
    "- consisting of one objective function value $g_s$ for each sample / scenario $s$"
   ]
  },
  {
   "cell_type": "markdown",
   "metadata": {
    "hide_input": false,
    "slideshow": {
     "slide_type": "slide"
    }
   },
   "source": [
    "## Visualizing the Outcome Distribution\n",
    "\n",
    "We can visualize the (sample approximation of the) outcome distribution in two main ways\n",
    "- using a histogram (approximating the density function)\n",
    "- the (empirical) cumlative distribution function (also called **risk profile**)\n",
    "  - for this, we can use the module `ECDF` from statsmodels.\n",
    "\n"
   ]
  },
  {
   "cell_type": "code",
   "execution_count": 6,
   "metadata": {
    "hide_input": false,
    "slideshow": {
     "slide_type": "-"
    }
   },
   "outputs": [
    {
     "data": {
      "image/png": "[encoded data removed]",
      "text/plain": [
       "<Figure size 1296x432 with 2 Axes>"
      ]
     },
     "metadata": {
      "needs_background": "light"
     },
     "output_type": "display_data"
    }
   ],
   "source": [
    "from statsmodels.distributions.empirical_distribution import ECDF\n",
    "capacity = 83\n",
    "outcomes = total_profit(capacity,demands)\n",
    "\n",
    "fig, axes = plt.subplots(1, 2, figsize=(18, 6))\n",
    "plt.suptitle (f'capacity = {capacity}, expected profit = {np.mean(outcomes):.02f}')\n",
    "axes[0].hist(outcomes, bins=30, density=True, color='#EEEEEE', edgecolor=\"#AAAAAA\", range =[-1000,1000])\n",
    "axes[0].set_xlabel('total profit'); \n",
    "axes[0].set_title('histogram'); \n",
    "xx = np.linspace(-1000,1000)\n",
    "ecdf = ECDF(outcomes)\n",
    "axes[1].plot(xx, ecdf(xx),label=f'capacity={capacity}')\n",
    "axes[1].set_xlabel('total profit'); \n",
    "axes[1].set_title('empirical cdf');"
   ]
  },
  {
   "cell_type": "markdown",
   "metadata": {
    "slideshow": {
     "slide_type": "slide"
    }
   },
   "source": [
    "## Motivation: Similar Expected Values, Different Distributions\n",
    "\n",
    "\n",
    "**Let us consider two different capacity installation decisions:**\n"
   ]
  },
  {
   "cell_type": "code",
   "execution_count": 7,
   "metadata": {
    "slideshow": {
     "slide_type": "-"
    }
   },
   "outputs": [],
   "source": [
    "capacity_a = 63\n",
    "capacity_b = 100\n"
   ]
  },
  {
   "cell_type": "markdown",
   "metadata": {
    "hide_input": false,
    "slideshow": {
     "slide_type": "-"
    }
   },
   "source": [
    "Let us compare the outcome distributions of the outcomes of the two capacity decisions:\n"
   ]
  },
  {
   "cell_type": "code",
   "execution_count": 8,
   "metadata": {
    "hide_input": true,
    "slideshow": {
     "slide_type": "-"
    }
   },
   "outputs": [
    {
     "data": {
      "image/png": "[encoded data removed]",
      "text/plain": [
       "<Figure size 1296x432 with 2 Axes>"
      ]
     },
     "metadata": {
      "needs_background": "light"
     },
     "output_type": "display_data"
    }
   ],
   "source": [
    "outcomes_a = total_profit(capacity_a,demands)\n",
    "outcomes_b = total_profit(capacity_b,demands)\n",
    "\n",
    "\n",
    "fig, axes = plt.subplots(1, 2, figsize=(18, 6), sharey=True)\n",
    "\n",
    "   \n",
    "axes[0].hist(outcomes_a, bins=30, density=True, color='#EEEEEE', edgecolor=\"#AAAAAA\", range =[-1000,1000])\n",
    "axes[0].set_ylim ([0, 0.015])\n",
    "axes[0].set_title(f'capacity = {capacity_a}, expected profit = {np.mean(outcomes_a):.02f}')\n",
    "axes[0].set_xlabel('total profit');   \n",
    "\n",
    "axes[1].hist(outcomes_b, bins=30, density=True, color='#EEEEEE', edgecolor=\"#AAAAAA\", range =[-1000,1000])\n",
    "axes[1].set_ylim ([0, 0.015])\n",
    "axes[1].set_title(f'capacity = {capacity_b}, expected profit = {np.mean(outcomes_b):.02f}')\n",
    "axes[1].set_xlabel('total profit');   \n"
   ]
  },
  {
   "cell_type": "markdown",
   "metadata": {
    "slideshow": {
     "slide_type": "slide"
    }
   },
   "source": [
    "## Examples for Information to be Obtained from the Outcome Distribution\n",
    "\n",
    "- the probability of losing money"
   ]
  },
  {
   "cell_type": "code",
   "execution_count": 9,
   "metadata": {
    "slideshow": {
     "slide_type": "-"
    }
   },
   "outputs": [
    {
     "name": "stdout",
     "output_type": "stream",
     "text": [
      "For a capacity of 63, the probability of losing money is: 0.02\n",
      "For a capacity of 100, the probability of losing money is: 0.16\n"
     ]
    }
   ],
   "source": [
    "print(f\"For a capacity of {capacity_a}, the probability of losing money is: { np.mean(outcomes_a < 0) :0.2f}\" )\n",
    "print(f\"For a capacity of {capacity_b}, the probability of losing money is: { np.mean(outcomes_b <0) :0.2f}\" )"
   ]
  },
  {
   "cell_type": "markdown",
   "metadata": {
    "slideshow": {
     "slide_type": "fragment"
    }
   },
   "source": [
    "- the probability of reaching / exceeding a target "
   ]
  },
  {
   "cell_type": "code",
   "execution_count": 10,
   "metadata": {
    "slideshow": {
     "slide_type": "-"
    }
   },
   "outputs": [
    {
     "name": "stdout",
     "output_type": "stream",
     "text": [
      "For a capacity of 63, the probability of exceeding 500 is: 0.95\n",
      "For a capacity of 100, the probability of exceeding 500  is: 0.69\n"
     ]
    }
   ],
   "source": [
    "target = 500\n",
    "print(f\"For a capacity of {capacity_a}, the probability of exceeding {target} is: { np.mean(outcomes_a >= target ) :0.2f}\" )\n",
    "print(f\"For a capacity of {capacity_b}, the probability of exceeding {target}  is: { np.mean(outcomes_b >= target ) :0.2f}\" )"
   ]
  },
  {
   "cell_type": "markdown",
   "metadata": {
    "slideshow": {
     "slide_type": "slide"
    }
   },
   "source": [
    "- the value below which the worst 5 % outcomes fall (5%-quantile, Value at Risk)"
   ]
  },
  {
   "cell_type": "code",
   "execution_count": 11,
   "metadata": {
    "slideshow": {
     "slide_type": "-"
    }
   },
   "outputs": [
    {
     "name": "stdout",
     "output_type": "stream",
     "text": [
      "For a capacity of 63, worst 5 % fall below  445.15\n",
      "For a capacity of 100, worst 5 % fall below  -664.85\n"
     ]
    }
   ],
   "source": [
    "q = 5\n",
    "\n",
    "def var_5(outcomes): return np.percentile(outcomes,5)\n",
    "\n",
    "print(f\"For a capacity of {capacity_a}, worst {q} % fall below  { var_5(outcomes_a):0.2f}\" )\n",
    "print(f\"For a capacity of {capacity_b}, worst {q} % fall below  { var_5(outcomes_b) :0.2f}\" )"
   ]
  },
  {
   "cell_type": "markdown",
   "metadata": {
    "slideshow": {
     "slide_type": "fragment"
    }
   },
   "source": [
    "- the average value of the worst 5 % (Conditional Value at Risk, expected shortfall)"
   ]
  },
  {
   "cell_type": "code",
   "execution_count": 12,
   "metadata": {
    "slideshow": {
     "slide_type": "-"
    }
   },
   "outputs": [
    {
     "name": "stdout",
     "output_type": "stream",
     "text": [
      "For a capacity of 63, the average of the worst 5 % of the outcomes is 25.40\n",
      "For a capacity of 100, the average of the worst 5 % of the outcomes is -1084.60\n"
     ]
    }
   ],
   "source": [
    "def cvar_5(outcomes): return np.mean(outcomes[outcomes < var_5(outcomes)])\n",
    "\n",
    "print(f\"For a capacity of {capacity_a}, the average of the worst {q} % of the outcomes is { cvar_5(outcomes_a) :0.2f}\" )\n",
    "print(f\"For a capacity of {capacity_b}, the average of the worst {q} % of the outcomes is { cvar_5(outcomes_b) :0.2f}\" )"
   ]
  },
  {
   "cell_type": "markdown",
   "metadata": {
    "slideshow": {
     "slide_type": "slide"
    }
   },
   "source": [
    "## Decision Making as Shaping Distributions\n",
    "\n",
    "Since, as we learned, different decisions lead to different distributions, we can make the following statement:\n",
    "\n",
    "**Decision Making under Uncertainty means Shaping (Outcome) Distributions**\n",
    "- this means we decide between outcome distributions\n",
    "- the objective function can then be seen as a function taking the outcome distribution as input\n",
    "- we can choose an objective function that reflects our preferences / risk attitude\n"
   ]
  },
  {
   "cell_type": "markdown",
   "metadata": {
    "cell_style": "center",
    "slideshow": {
     "slide_type": "slide"
    }
   },
   "source": [
    "## The Outcome Distribution in Stochastic Programming\n",
    "\n",
    "#### Where is the Outcome Distribution in a Stochastic Program?\n",
    "- discuss how to obtain the outcome distribution\n",
    "- see how manipulate the outcome distribution to account for risk aversion by:\n",
    "    - penalizing shortfalls\n",
    "    - mean-risk optimization with Conditional Value at Risk\n",
    "- we will use the agricultural case study from video 2 for illustration and exercises\n"
   ]
  },
  {
   "cell_type": "markdown",
   "metadata": {
    "slideshow": {
     "slide_type": "slide"
    }
   },
   "source": [
    "## Review: A Stochastic Programming Formulation for our Case Study"
   ]
  },
  {
   "cell_type": "markdown",
   "metadata": {
    "cell_style": "split",
    "slideshow": {
     "slide_type": "-"
    }
   },
   "source": [
    "**Sets:**\n",
    "- $S$  scenario set\n",
    "\n",
    "**Parameters:**\n",
    "- $d_s$: demand in units in scenario  $s$\n",
    "- $p_s$: probability of scenario $s$"
   ]
  },
  {
   "cell_type": "markdown",
   "metadata": {
    "cell_style": "split",
    "slideshow": {
     "slide_type": "-"
    }
   },
   "source": [
    "**Decision Variables:**\n",
    "- $x$: capacity installation decision (*first stage* / *here and now* decision) \n",
    "- $z_s$: production decision for scenario $s$ (*second stage* / *recourse* decision)"
   ]
  },
  {
   "cell_type": "markdown",
   "metadata": {
    "slideshow": {
     "slide_type": "-"
    }
   },
   "source": [
    "\n",
    " \\begin{align*}\n",
    "        \\max \\;        -30x +  & \\sum_{s \\in S} p_s 40 z_s \\\\\n",
    "        \\text{s.t.} \\qquad   z_s &\\leq x \\qquad &\\forall s \\in S \\\\                  \n",
    "                         z_s &\\leq d_s \\qquad &\\forall s \\in S \\\\\n",
    "                         x &\\geq 0 \\\\\n",
    " z_s &\\geq 0 \\qquad &\\forall s \\in S\n",
    "\\end{align*}"
   ]
  },
  {
   "cell_type": "markdown",
   "metadata": {
    "slideshow": {
     "slide_type": "slide"
    }
   },
   "source": [
    "## Review: Implementation in Python\n"
   ]
  },
  {
   "cell_type": "code",
   "execution_count": 13,
   "metadata": {
    "slideshow": {
     "slide_type": "-"
    }
   },
   "outputs": [
    {
     "name": "stdout",
     "output_type": "stream",
     "text": [
      "Capacity decision: 83.19\n",
      "Expected Total Profit: 684.97\n"
     ]
    }
   ],
   "source": [
    "\n",
    "# Create a new model\n",
    "m = mip.Model(\"Capacity_Planning_Stochastic\")\n",
    "\n",
    "#sets\n",
    "n_scenarios = n_samples\n",
    "scenarios = np.arange(n_scenarios) #in stochastic programming, we call the samples scenarios\n",
    "\n",
    "#probability of each scenario - in our case, each scenario has prob. 1/|S|\n",
    "prob = np.full((n_scenarios), 1/n_scenarios)\n",
    "\n",
    "#parameters\n",
    "installation_cost = 30\n",
    "contribution_margin = 40\n",
    "\n",
    "#decision variables\n",
    "capacity =  m.add_var(name=\"capacity\", lb=0)\n",
    "\n",
    "production = [m.add_var(name=f\"production{s}\", lb= 0) for s in scenarios]\n",
    "\n",
    "m.objective =  maximize( -installation_cost*capacity + sum(prob[s] * contribution_margin * production[s] for s in scenarios))\n",
    "\n",
    "for s in scenarios:    \n",
    "    m += production[s] <= demand_sample[s]\n",
    "    m += production[s] <= capacity \n",
    "\n",
    "m.optimize()\n",
    "\n",
    "print(f'Capacity decision: {capacity.x:.02f}')\n",
    "\n",
    "print(f'Expected Total Profit: {m.objective_value:.02f}' )"
   ]
  },
  {
   "cell_type": "markdown",
   "metadata": {
    "slideshow": {
     "slide_type": "slide"
    }
   },
   "source": [
    "# The Outcome Distribution in Stochastic Programming"
   ]
  },
  {
   "cell_type": "markdown",
   "metadata": {
    "slideshow": {
     "slide_type": "slide"
    }
   },
   "source": [
    "## Model Reformulation for Obtaining the Outcome Distribution\n",
    "\n",
    "**Remember:** Decision making under uncertainty means shaping distributions\n",
    "- Where is the outcome distribution in a stochastic program?\n",
    "\n",
    "**Idea:** Introduce an outcome variable **$g_s$** per scenario (a second-stage variable) and reformulate the model as follows:\n",
    "\n",
    "\n",
    "\n",
    "\\begin{align*}\n",
    "        \\max \\;      &\\sum_{s \\in S} p_s g_s \\\\\n",
    "        \\text{s.t.} \\qquad g_s &=  -30x +  40 z_s  \\qquad &\\forall s \\in S\\\\\n",
    "        z_s &\\leq x \\qquad &\\forall s \\in S \\\\                  \n",
    "                         z_s &\\leq d_s \\qquad &\\forall s \\in S \\\\\n",
    "                         x &\\geq 0 \\\\\n",
    " z_s &\\geq 0 \\qquad &\\forall s \\in S\n",
    "\\end{align*}\n",
    "\n",
    "In a given solution:\n",
    "\n",
    "- the vector $\\mathbf{g}=[g_s]_{s \\in S}$ is a sample approximation of the outcome (total profit) distribution given the optimal capacity decision $x$\n"
   ]
  },
  {
   "cell_type": "markdown",
   "metadata": {
    "slideshow": {
     "slide_type": "slide"
    }
   },
   "source": [
    "## Model Reformulation: Implementation in Python"
   ]
  },
  {
   "cell_type": "code",
   "execution_count": 14,
   "metadata": {
    "slideshow": {
     "slide_type": "-"
    }
   },
   "outputs": [
    {
     "name": "stdout",
     "output_type": "stream",
     "text": [
      "Capacity decision: 83.19\n",
      "Expected Total Profit: 684.97\n"
     ]
    }
   ],
   "source": [
    "# Create a new model\n",
    "m = mip.Model(\"Capacity_Planning_Stochastic\")\n",
    "\n",
    "#decision variables\n",
    "capacity =  m.add_var(name=\"capacity\", lb=0)\n",
    "\n",
    "production = [m.add_var(name=f\"production{s}\",lb=0) for s in scenarios]\n",
    "\n",
    "## this is the new variable\n",
    "profit = [m.add_var(name=f\"profit{s}\",  lb=-np.inf) for s in scenarios]\n",
    "\n",
    "m.objective =  maximize( sum(prob[s] * profit[s] for s in scenarios)) \n",
    "\n",
    "for s in scenarios:   \n",
    "    m += profit[s] == -installation_cost*capacity + contribution_margin * production[s] # computes the profit for scenario s\n",
    "    m += production[s] <= demand_sample[s]\n",
    "    m += production[s] <= capacity \n",
    "\n",
    "m.optimize()\n",
    "\n",
    "print(f'Capacity decision: {capacity.x:.02f}')\n",
    "print(f'Expected Total Profit: {m.objective_value:.02f}' )\n",
    "\n",
    "\n"
   ]
  },
  {
   "cell_type": "markdown",
   "metadata": {
    "slideshow": {
     "slide_type": "slide"
    }
   },
   "source": [
    "## Plotting the Outcome Distribution\n",
    "\n",
    "As ab example, we can now  use the vector $\\mathbf{g}=[g_s]_{s \\in S}$ from the optimal solution plot a histogram of the outcompe distribution:"
   ]
  },
  {
   "cell_type": "code",
   "execution_count": 15,
   "metadata": {
    "scrolled": false,
    "slideshow": {
     "slide_type": "-"
    }
   },
   "outputs": [
    {
     "data": {
      "text/plain": [
       "Text(0.5, 0, 'Total Profit')"
      ]
     },
     "execution_count": 15,
     "metadata": {},
     "output_type": "execute_result"
    },
    {
     "data": {
      "image/png": "[encoded data removed]",
      "text/plain": [
       "<Figure size 432x288 with 1 Axes>"
      ]
     },
     "metadata": {
      "needs_background": "light"
     },
     "output_type": "display_data"
    }
   ],
   "source": [
    "## collect the profit samples into an array\n",
    "profit_samples = np.array( [ profit[s].x for s in scenarios ])\n",
    "\n",
    "count, bins, ignored = plt.hist(profit_samples, bins=30, density=True, color='#EEEEEE', edgecolor=\"#AAAAAA\", range =[-1000,1000])\n",
    "plt.xlabel('Total Profit')\n",
    "\n",
    "#plt.savefig('profit_distribution_stochastic_lp.pdf')\n"
   ]
  },
  {
   "cell_type": "markdown",
   "metadata": {
    "slideshow": {
     "slide_type": "slide"
    }
   },
   "source": [
    "## How can we Compare Distributions?\n",
    "\n",
    "**If decision making means shaping distributions, how can we compare them?**\n",
    "\n",
    "There is one clear case: **Stochastic Dominance**\n",
    "- for each outcome, the dominating distribution gives at least as high a probability of obtaining an equal or better outcome than the dominated distribution\n",
    "- visually, the cdf of the better distribution is always \"on the right\" of the dominated distribution\n",
    "\n",
    "**Example:** let us consider a second production technology for our case study that has a **higher investment cost** and a **lower contribution margin** than the original technology, and take the same capacity decision of 80 for both technologies\n",
    "- then, the outcome distribution of the original techology dominates the second technology\n"
   ]
  },
  {
   "cell_type": "code",
   "execution_count": null,
   "metadata": {
    "hide_input": false,
    "slideshow": {
     "slide_type": "-"
    }
   },
   "outputs": [],
   "source": [
    "@vectorize\n",
    "def total_profit_other_technology(capacity,demands):\n",
    "    return -31*capacity + 35*min(capacity, demands)"
   ]
  },
  {
   "cell_type": "code",
   "execution_count": 16,
   "metadata": {
    "hide_input": true,
    "scrolled": true,
    "slideshow": {
     "slide_type": "-"
    }
   },
   "outputs": [
    {
     "data": {
      "image/png": "[encoded data removed]",
      "text/plain": [
       "<Figure size 576x360 with 1 Axes>"
      ]
     },
     "metadata": {
      "needs_background": "light"
     },
     "output_type": "display_data"
    }
   ],
   "source": [
    "plt.figure(figsize=(8,5))\n",
    "\n",
    "ecdf = ECDF(total_profit(80,demands))\n",
    "plt.plot(xx, ecdf(xx), label=\"original technology\")\n",
    "\n",
    "ecdf = ECDF(total_profit_other_technology(80,demands))\n",
    "plt.plot(xx, ecdf(xx), label=\"worse technology\")\n",
    "plt.legend()\n",
    "plt.xlabel('Total Profit')\n",
    "plt.ylabel('Cumulative Probability')\n",
    "\n",
    "plt.show()\n",
    "          "
   ]
  },
  {
   "cell_type": "markdown",
   "metadata": {
    "hide_input": true,
    "slideshow": {
     "slide_type": "slide"
    }
   },
   "source": [
    "## How can we Compare Distributions?\n",
    "\n",
    "**In general, stochastic dominance is an exception**: Typically, alternatives with a lower risk of bad outcomes also exhibit samller chances of very good outcomes\n",
    "\n"
   ]
  },
  {
   "cell_type": "code",
   "execution_count": 17,
   "metadata": {
    "hide_input": true,
    "slideshow": {
     "slide_type": "-"
    }
   },
   "outputs": [
    {
     "data": {
      "image/png": "[encoded data removed]",
      "text/plain": [
       "<Figure size 432x288 with 1 Axes>"
      ]
     },
     "metadata": {
      "needs_background": "light"
     },
     "output_type": "display_data"
    }
   ],
   "source": [
    "from statsmodels.distributions.empirical_distribution import ECDF\n",
    "\n",
    "values_to_plot = [63, 83, 100]\n",
    "\n",
    "xx = np.linspace(-1000,1000)\n",
    "\n",
    "#fig, axes = plt.subplots(1, len(values_to_plot), figsize=(6*len(values_to_plot), 4), constrained_layout=True)\n",
    "\n",
    "for index in range(len(values_to_plot)):\n",
    "    ecdf = ECDF(total_profit(values_to_plot[index],demands))\n",
    "    plt.plot(xx, ecdf(xx),label=f'capacity={values_to_plot[index]}')\n",
    "    #axes[index].set_title(f'capacity = {values_to_plot[index]}, expected profit = {expected_profit(values_to_plot[index]):.02f}')\n",
    "    \n",
    "plt.legend()\n",
    "plt.xlabel('Total Profit')\n",
    "plt.ylabel('Cumulative Probability');\n",
    "\n",
    "#plt.savefig(\"cumulative_result_distributions.pdf\",bbox_inches=\"tight\")\n"
   ]
  },
  {
   "cell_type": "markdown",
   "metadata": {
    "slideshow": {
     "slide_type": "-"
    }
   },
   "source": [
    "To decide between outcome distributions we can use (for example), see next video:\n",
    "- distribution statistics (e.g. mean, mode, ...)\n",
    "- risk measures\n",
    "- utility functions\n",
    "\n"
   ]
  },
  {
   "cell_type": "markdown",
   "metadata": {
    "slideshow": {
     "slide_type": "slide"
    }
   },
   "source": [
    "# Excercise: A Second Production Technology\n",
    "\n",
    "\n",
    "\n"
   ]
  },
  {
   "cell_type": "markdown",
   "metadata": {
    "slideshow": {
     "slide_type": "slide"
    }
   },
   "source": [
    "## An additional production technology\n",
    "\n",
    "The company from the capacity planning case study thinks of installing production capacity using an different production technology (B).\n",
    "\n",
    "Technology B has a lower installation costs (\\\\$ 20 per unit), but also a lower contribution margin per sold unit (\\\\$ 28) compared to the original technology A.\n",
    "\n",
    "Below, please find our implmentation from last week:"
   ]
  },
  {
   "cell_type": "code",
   "execution_count": 18,
   "metadata": {
    "slideshow": {
     "slide_type": "-"
    }
   },
   "outputs": [
    {
     "name": "stdout",
     "output_type": "stream",
     "text": [
      "The estimated expected profit is: 561.80\n"
     ]
    }
   ],
   "source": [
    "\n",
    "@vectorize\n",
    "def total_profit_b(capacity,demand):\n",
    "    return -20*capacity + 28* min(capacity, demand)\n",
    "\n",
    "demands = demand_dist.rvs(n_samples)\n",
    "# decision\n",
    "capacity = 84\n",
    "\n",
    "#we can now call the function with an array parameter returning an array of profits\n",
    "profit = total_profit_b(capacity,demands)\n",
    "\n",
    "expected_profit = np.mean(profit)\n",
    "\n",
    "print(f'The estimated expected profit is: {expected_profit:.2f}')"
   ]
  },
  {
   "cell_type": "markdown",
   "metadata": {
    "slideshow": {
     "slide_type": "slide"
    }
   },
   "source": [
    "**Task:**\n",
    "\n",
    "Compare the outcome distributions from the optimal decisions for both production technologies:\n",
    "- compute the best outcome distribution for each of the technologies (either using enumeration or scipy optimize)\n",
    "- which outcome distribution has a higher probability of losing money?\n",
    "- does one of the distributions stochastically dominate the other?\n"
   ]
  },
  {
   "cell_type": "code",
   "execution_count": 19,
   "metadata": {
    "slideshow": {
     "slide_type": "-"
    }
   },
   "outputs": [],
   "source": [
    "def neg_expected_profit_b(capacity, demands):\n",
    "    return -1*np.mean(total_profit_b(capacity,demands))\n",
    "\n",
    "result_b = minimize(neg_expected_profit_b, 100, args=(demands))\n",
    "\n",
    "total_profits_a = total_profit(result.x[0],demands)\n",
    "total_profits_b= total_profit_b(result_b.x[0],demands)\n",
    "\n"
   ]
  },
  {
   "cell_type": "code",
   "execution_count": 20,
   "metadata": {
    "slideshow": {
     "slide_type": "-"
    }
   },
   "outputs": [
    {
     "name": "stdout",
     "output_type": "stream",
     "text": [
      "For alterative A, the probability of losing money is: 0.07\n",
      "For alterative B, the probability of losing money is: 0.06\n"
     ]
    }
   ],
   "source": [
    "print(f\"For alterative A, the probability of losing money is: { np.mean(total_profits_a < 0) :0.2f}\" )\n",
    "print(f\"For alterative B, the probability of losing money is: { np.mean(total_profits_b <0) :0.2f}\" )"
   ]
  },
  {
   "cell_type": "code",
   "execution_count": 21,
   "metadata": {
    "slideshow": {
     "slide_type": "-"
    }
   },
   "outputs": [
    {
     "data": {
      "image/png": "[encoded data removed]",
      "text/plain": [
       "<Figure size 576x360 with 1 Axes>"
      ]
     },
     "metadata": {
      "needs_background": "light"
     },
     "output_type": "display_data"
    }
   ],
   "source": [
    "plt.figure(figsize=(8,5))\n",
    "\n",
    "xx = np.linspace(-1000,1000)\n",
    "\n",
    "ecdf = ECDF(total_profits_a )\n",
    "plt.plot(xx, ecdf(xx), label=\"original technology A\")\n",
    "\n",
    "ecdf = ECDF(total_profits_b )\n",
    "plt.plot(xx, ecdf(xx), label=\"technology B\")\n",
    "plt.legend()\n",
    "plt.xlabel('Total Profit')\n",
    "plt.ylabel('Cumulative Probability')\n",
    "\n",
    "plt.show()"
   ]
  },
  {
   "cell_type": "code",
   "execution_count": null,
   "metadata": {},
   "outputs": [],
   "source": []
  },
  {
   "cell_type": "markdown",
   "metadata": {
    "slideshow": {
     "slide_type": "slide"
    }
   },
   "source": [
    "\n",
    "Now we consider a combination of both technologies, that is, we might install both technology A and B. \n",
    "\n",
    "Since B has a lower profit contribution, you assume that if  both technologies are installed, first A is used to produce up to the installed capacity. If there is demand left, that demand is satisfied by technology B until the installed capacity of B is exhausted.\n",
    "\n",
    "What is the best combination of technologies A and B in terms of expected total profit? Is B used at all? \n",
    "\n",
    "See the solution from the last meeting below:\n"
   ]
  },
  {
   "cell_type": "code",
   "execution_count": 22,
   "metadata": {
    "slideshow": {
     "slide_type": "-"
    }
   },
   "outputs": [
    {
     "name": "stdout",
     "output_type": "stream",
     "text": [
      "Best A: 76, best b 10, estimated expected profit is: 687.63\n"
     ]
    }
   ],
   "source": [
    "capacityA = 80\n",
    "capacityB = 20\n",
    "\n",
    "@vectorize\n",
    "def total_profit_both(capacityA, capacityB, demand):\n",
    "    capacity_cost =  -30*capacityA -20 *capacityB \n",
    "    soldA =  min(capacityA, demand)  \n",
    "    soldB =  min(capacityB, demand-soldA)\n",
    "    return capacity_cost + 40*soldA + 28*soldB\n",
    "\n",
    "best_profit = 0\n",
    "best_A = 0\n",
    "best_B = 0\n",
    "\n",
    "for capA in np.arange(160):\n",
    "    for capB in np.arange(160):\n",
    "        profit = np.mean(total_profit_both(capA,capB,demands))\n",
    "        if profit > best_profit:           \n",
    "            best_profit = profit\n",
    "            best_A = capA\n",
    "            best_B = capB\n",
    "            \n",
    "print(f'Best A: {best_A}, best b {best_B}, estimated expected profit is: {best_profit:.2f}')"
   ]
  },
  {
   "cell_type": "markdown",
   "metadata": {
    "slideshow": {
     "slide_type": "slide"
    }
   },
   "source": [
    "**Task:**\n",
    "\n",
    "Compare the outcome distributions from the optimal decisions for only using the original techology and for the combination of  both production technologies computed using the code above!\n",
    "- modify the code from the cell above to also store the best profit distribution\n",
    "- compute the best outcome distribution for each of the technologies (either using enumeration or scipy optimize)\n",
    "- which outcome distribution has a higher probability of losing money?\n",
    "- does one of the distributions stochastically dominate the other?\n"
   ]
  },
  {
   "cell_type": "markdown",
   "metadata": {
    "slideshow": {
     "slide_type": "slide"
    }
   },
   "source": [
    "# Shaping Distributions: Risk-Oriented Decision Making under Uncertainty"
   ]
  },
  {
   "cell_type": "markdown",
   "metadata": {
    "slideshow": {
     "slide_type": "slide"
    }
   },
   "source": [
    "## This Part: Risk-Oriented Decision Making under Uncertainty\n",
    "\n",
    "So far, we learned that \n",
    "\n",
    "- **decision making under uncertainty means shaping distributions**\n",
    "\n",
    "Next, we deal with approaches for influencing the shapes of distributions in a way that it reflects **risk preferences**:\n",
    "- penalizing shortfalls below targets\n",
    "- utility theory: utility functions as objective functions\n",
    "- mean-risk objectives based on risk measures"
   ]
  },
  {
   "cell_type": "markdown",
   "metadata": {
    "slideshow": {
     "slide_type": "slide"
    }
   },
   "source": [
    "# Shaping Distributions by Penalizing Shortfalls"
   ]
  },
  {
   "cell_type": "markdown",
   "metadata": {
    "slideshow": {
     "slide_type": "slide"
    }
   },
   "source": [
    "\n",
    "## Shaping Distributions by Penalizing Shortfalls\n",
    "\n",
    "\n",
    "**Idea: Set target values and penalize the violations / shortfall**\n",
    "- as soon the target is violated, the shortfall is penalized with a\n",
    "  weight $\\lambda$\n",
    "- can be used to reduce risk of obtaining bad or negative outcomes\n",
    "\n",
    "**Example for our case study:**\n",
    "- say we'd like to penalize total profits smaller than \\\\$500k\n",
    "- we can change our objective function $f$ to $f'$ as follows:\n",
    "\n",
    "$$f'(x,d) = f(x,d) - \\lambda \\max(500 - f(x,d), 0)$$\n",
    "\n",
    "For deciding under demand uncertainty, we then then maximize the **expected value  $E(f'(x,D))$** instead of maximizing $E(f(x,D))$\n",
    "\n",
    "In Python:\n"
   ]
  },
  {
   "cell_type": "code",
   "execution_count": 23,
   "metadata": {},
   "outputs": [],
   "source": [
    "target_profit = 500\n",
    "shortfall_penalty = 2\n",
    "\n",
    "@vectorize\n",
    "def total_profit_and_shortfall_penalty(capacity,demand, target_profit, shortfall_penalty):\n",
    "    profit = -30*capacity + 40* min(capacity, demand)\n",
    "    return profit - shortfall_penalty * max(target_profit - profit, 0)\n",
    "\n",
    "    "
   ]
  },
  {
   "cell_type": "markdown",
   "metadata": {
    "slideshow": {
     "slide_type": "slide"
    }
   },
   "source": [
    "## Optimizing the Shortfall-based Penalty\n",
    "\n",
    "**Let us optimize for the shortfall-based penalty**\n",
    "\n",
    "Recall that the optimal decision in the risk-neutral case is $\\approx$ 83.\n",
    "\n",
    "Using $f'$ as optimization criterion, a target value of 500  and a penalty of 2, we get the following result:\n",
    "\n"
   ]
  },
  {
   "cell_type": "code",
   "execution_count": 24,
   "metadata": {
    "slideshow": {
     "slide_type": "-"
    }
   },
   "outputs": [
    {
     "name": "stdout",
     "output_type": "stream",
     "text": [
      "Given a target value of 500 and a shortfall penalty lambda= 2, the optimal capacity decision is 70.95\n"
     ]
    }
   ],
   "source": [
    "# not that we negate the function here since we'd like to use minimize\n",
    "\n",
    "def neg_expected_total_profit_and_shortfall_penalty(capacity, demands, target_profit, shortfall_penalty):\n",
    "    return -np.mean(total_profit_and_shortfall_penalty(capacity, demands, target_profit, shortfall_penalty))\n",
    "\n",
    "shortfall_penalty = 2\n",
    "result = minimize(neg_expected_total_profit_and_shortfall_penalty,100,args=(demands, 500, shortfall_penalty))\n",
    "\n",
    "print(f'Given a target value of {target_profit} and a shortfall penalty lambda= {shortfall_penalty}, the optimal capacity decision is {result.x[0]:.2f}')"
   ]
  },
  {
   "cell_type": "markdown",
   "metadata": {
    "slideshow": {
     "slide_type": "fragment"
    }
   },
   "source": [
    "A penalty of 4 is even more risk averse:"
   ]
  },
  {
   "cell_type": "code",
   "execution_count": 25,
   "metadata": {
    "slideshow": {
     "slide_type": "-"
    }
   },
   "outputs": [
    {
     "name": "stdout",
     "output_type": "stream",
     "text": [
      "Given a target value of 500 and a shortfall penalty lambda= 4, the optimal capacity decision is 64.60\n"
     ]
    }
   ],
   "source": [
    "shortfall_penalty = 4\n",
    "result = minimize(neg_expected_total_profit_and_shortfall_penalty,100,args=(demands, 500, shortfall_penalty))\n",
    "\n",
    "print(f'Given a target value of {target_profit} and a shortfall penalty lambda= {shortfall_penalty}, the optimal capacity decision is {result.x[0]:.2f}')"
   ]
  },
  {
   "cell_type": "markdown",
   "metadata": {
    "slideshow": {
     "slide_type": "slide"
    }
   },
   "source": [
    "##  Targets and Shortfall Penalties in Stochastic Programming\n",
    "\n",
    "**Key Idea**:\n",
    "- set a target, e.g.  $g^t$\n",
    "- introduce a shortfall variable $v_s$ for each scenario $s$\n",
    "- in the objective, penalize expected shortfall  with factor $\\lambda$\n",
    "\n",
    "\n",
    "**Model:**\n",
    "\n",
    "\n",
    "\n",
    " \\begin{align*}\n",
    "        \\max \\;        &\\sum_{s \\in S}  p_s g_s  - \\lambda  \\sum_{s \\in S} p_s v_s \\\\\n",
    "        \\text{s.t.} \\qquad   g_s &=  -30x +  40z_s\\qquad &\\forall s \\in S \\\\  \n",
    "\t   v_s &\\geq g^t - g_s    &\\forall s \\in S \\\\  \n",
    "                         z_s &\\leq d_s \\qquad &\\forall s \\in S \\\\\n",
    "         z_s &\\leq x \\qquad &\\forall s \\in S \\\\                  \n",
    "                         x &\\geq 0 \\\\\n",
    "\t\t\t v_s &\\geq 0, z_s \\geq 0 \\qquad &\\forall s \\in S\t\t\t \n",
    "\\end{align*}\n"
   ]
  },
  {
   "cell_type": "markdown",
   "metadata": {
    "slideshow": {
     "slide_type": "slide"
    }
   },
   "source": [
    "##  Targets and Shortfall Penalties: Implementation in Python\n",
    "\n"
   ]
  },
  {
   "cell_type": "code",
   "execution_count": 26,
   "metadata": {
    "slideshow": {
     "slide_type": "-"
    }
   },
   "outputs": [
    {
     "name": "stdout",
     "output_type": "stream",
     "text": [
      "Results for a target 500 and shortfall_penalty / lambda = 2\n",
      "Capacity decision: 71.73\n",
      "Objective function value: 574.47\n",
      " Expected Profit: 654.62\n"
     ]
    }
   ],
   "source": [
    "target_value = 500\n",
    "shortfall_penalty = 2\n",
    "\n",
    "# Create a new model\n",
    "m = mip.Model(\"Capacity_Planning_Stochastic_Shortfall\")\n",
    "\n",
    "#decision variables\n",
    "capacity =  m.add_var(name=\"capacity\", lb=0)\n",
    "production = [m.add_var(name=f\"production{s}\",lb=0) for s in scenarios]\n",
    "\n",
    "## this is the profit variable (scenario-dependent)\n",
    "profit = [m.add_var(name=f\"profit{s}\",  lb=-np.inf) for s in scenarios]\n",
    "\n",
    "## this is the shortfall variable (scenario-dependent)\n",
    "shortfall = [m.add_var(name=f\"shortfall{s}\",  lb=0) for s in scenarios] # scenario-dependent!\n",
    "\n",
    "# in the objective, we now add a variable for the shortfall\n",
    "m.objective =  maximize( sum(prob[s] * profit[s] for s in scenarios)  - shortfall_penalty*sum( prob[s]*shortfall[s] for s in scenarios ) ) \n",
    "\n",
    "for s in scenarios:   \n",
    "    m += profit[s]  == -installation_cost*capacity + contribution_margin * production[s] # computes the profit for scenario s\n",
    "    m += production[s] <= demand_sample[s]\n",
    "    m += production[s] <= capacity \n",
    "    # computing shortfall\n",
    "    m += shortfall[s] >= target_value - profit[s]\n",
    "\n",
    "m.optimize()\n",
    "\n",
    "print(f'Results for a target {target_value} and shortfall_penalty / lambda = {shortfall_penalty}')\n",
    "print(f'Capacity decision: {capacity.x:.02f}')\n",
    "print(f'Objective function value: {m.objective_value:.02f}' )\n",
    "\n",
    "profit_samples = np.array( [ profit[s].x for s in scenarios ])\n",
    "print(f' Expected Profit: {np.mean(profit_samples):.02f}')\n"
   ]
  },
  {
   "cell_type": "markdown",
   "metadata": {
    "slideshow": {
     "slide_type": "slide"
    }
   },
   "source": [
    "# Utility Functions / Utility Theory"
   ]
  },
  {
   "cell_type": "markdown",
   "metadata": {
    "slideshow": {
     "slide_type": "slide"
    }
   },
   "source": [
    "## Utility Functions\n",
    "\n",
    "In **utility theory**, the results of decisions are valued\n",
    "by a utility function $u$.\n",
    "- for a given decision $x$ and deterministic paramters $d$, we can then use $u(f(x,d))$ for evaluating a decision\n",
    "- for decisions under uncertainty, we maximize the **expected utility** $E(u(f(x,D)))$\n",
    "- an important class of utility functions are **exponential utility functions**\n",
    "\n",
    "$$u(x)=1-e^{-f(x)/R}$$\n",
    "\n",
    "where\n",
    "- $f(x)$ is the (monetary) profit from taking decision $x$ and\n",
    "- $D$ is the (vector) of uncertain parameters\n",
    "- $R$ is the so-called **risk tolerance**\n",
    "- $R$ is the greatest value for which you would take the gamble\n",
    "  - win $R$ with probability 0.5\n",
    "  - lose $R/2$ with probability 0.5\n",
    "\n",
    "In general, the **exponential** utility function assumes that the subjective value of each additional unit of profit decreases with increasing profit\n"
   ]
  },
  {
   "cell_type": "markdown",
   "metadata": {
    "slideshow": {
     "slide_type": "slide"
    }
   },
   "source": [
    "## In our Example:\n",
    "\n",
    "Let us illustrate an exponential utility function for our case study:\n",
    "\n",
    "- we define a function `exponential_utility` that, for a given `risk_tolerance` $R$, returns\n",
    "  - the utility of a single `profit` value or\n",
    "  - an array of utilities if `profit` is an array of profits, e.g. from a Monte Carlo simulation"
   ]
  },
  {
   "cell_type": "code",
   "execution_count": 27,
   "metadata": {
    "hide_input": false,
    "slideshow": {
     "slide_type": "-"
    }
   },
   "outputs": [],
   "source": [
    "from math import exp\n",
    "@vectorize\n",
    "def exponential_utility (profit, risk_tolerance):\n",
    "    return 1-exp(-profit/risk_tolerance)"
   ]
  },
  {
   "cell_type": "markdown",
   "metadata": {
    "slideshow": {
     "slide_type": "fragment"
    }
   },
   "source": [
    "Let us now print the the utilies of different total profits for different risk tolerances:"
   ]
  },
  {
   "cell_type": "code",
   "execution_count": 28,
   "metadata": {
    "hide_input": true,
    "scrolled": true,
    "slideshow": {
     "slide_type": "-"
    }
   },
   "outputs": [
    {
     "data": {
      "image/png": "[encoded data removed]",
      "text/plain": [
       "<Figure size 576x324 with 1 Axes>"
      ]
     },
     "metadata": {
      "needs_background": "light"
     },
     "output_type": "display_data"
    }
   ],
   "source": [
    "\n",
    "risk_tolerances = [100, 300, 1000, 2000]\n",
    "\n",
    "\n",
    "xx = np.linspace(0, 1500)\n",
    "\n",
    "#plt.plot(xx, xx, linewidth=2, label = 'Linear')\n",
    "plt.figure(figsize=(8,4.5))\n",
    "for risk_tolerance in risk_tolerances:\n",
    "    yy = exponential_utility (xx, risk_tolerance)\n",
    "    plt.plot(xx, yy, linewidth=2,label = f'R={risk_tolerance}')\n",
    "\n",
    "plt.suptitle('Exponential utility functions for different risk tolerances R')\n",
    "plt.legend()\n",
    "\n",
    "plt.xlabel('Total Profit')\n",
    "plt.ylabel('Utility')\n",
    "\n",
    "\n",
    "#plt.savefig(\"utility_functions.pdf\",bbox_inches=\"tight\")\n",
    "plt.show()\n",
    "\n"
   ]
  },
  {
   "cell_type": "markdown",
   "metadata": {
    "slideshow": {
     "slide_type": "slide"
    }
   },
   "source": [
    "## Optimizing Expected Utility\n",
    "\n",
    "If we use the utility function for decision-making, we maximize the expected utility, that is:\n",
    "\n",
    "$$\\max_{x \\in X} E(u(f(x,D)))$$\n",
    "\n",
    "In our example, this means that we choose the capacity that give us the outcome / profit distribution with the best expected profit.\n",
    "- to achieve this, we define the following objective function that takes a capacity decision, an array of demand samples and a risk tolerance $R$, and returns a sample approximation of the expected utility:"
   ]
  },
  {
   "cell_type": "code",
   "execution_count": 29,
   "metadata": {
    "slideshow": {
     "slide_type": "-"
    }
   },
   "outputs": [],
   "source": [
    "def expected_exponential_utility_fixed_risk_tolerance (capacity, demands, risk_tolerance):\n",
    "    return np.mean(exponential_utility(total_profit(capacity,demands), risk_tolerance))"
   ]
  },
  {
   "cell_type": "markdown",
   "metadata": {
    "slideshow": {
     "slide_type": "fragment"
    }
   },
   "source": [
    "For use with scipy's `minimize`, we can write the negated objective function as follows:"
   ]
  },
  {
   "cell_type": "code",
   "execution_count": 30,
   "metadata": {
    "slideshow": {
     "slide_type": "-"
    }
   },
   "outputs": [],
   "source": [
    "def neg_expected_exponential_utility_fixed_risk_tolerance (capacity, demands, risk_tolerance):\n",
    "    return -expected_exponential_utility_fixed_risk_tolerance (capacity, demands, risk_tolerance)"
   ]
  },
  {
   "cell_type": "markdown",
   "metadata": {
    "slideshow": {
     "slide_type": "slide"
    }
   },
   "source": [
    "## Results for different risk tolerances\n",
    "\n",
    "Now, we can play with different risk tolerances:\n",
    "- $R$ = 100"
   ]
  },
  {
   "cell_type": "code",
   "execution_count": 31,
   "metadata": {
    "slideshow": {
     "slide_type": "-"
    }
   },
   "outputs": [
    {
     "name": "stdout",
     "output_type": "stream",
     "text": [
      "Given a risk tolerance of 100, the optimal capacity decision is 19.14\n"
     ]
    }
   ],
   "source": [
    "risk_tolerance = 100\n",
    "result = minimize(neg_expected_exponential_utility_fixed_risk_tolerance, 100, args=(demands, risk_tolerance))\n",
    "print(f'Given a risk tolerance of {risk_tolerance}, the optimal capacity decision is {result.x[0]:.2f}')"
   ]
  },
  {
   "cell_type": "markdown",
   "metadata": {
    "slideshow": {
     "slide_type": "fragment"
    }
   },
   "source": [
    "- $R$ = 500"
   ]
  },
  {
   "cell_type": "code",
   "execution_count": 32,
   "metadata": {
    "slideshow": {
     "slide_type": "-"
    }
   },
   "outputs": [
    {
     "name": "stdout",
     "output_type": "stream",
     "text": [
      "Given a risk tolerance of 500, the optimal capacity decision is 63.87\n"
     ]
    }
   ],
   "source": [
    "risk_tolerance = 500\n",
    "result = minimize(neg_expected_exponential_utility_fixed_risk_tolerance, 100, args=(demands, risk_tolerance))\n",
    "print(f'Given a risk tolerance of {risk_tolerance}, the optimal capacity decision is {result.x[0]:.2f}')"
   ]
  },
  {
   "cell_type": "markdown",
   "metadata": {
    "slideshow": {
     "slide_type": "fragment"
    }
   },
   "source": [
    "- $R$ = 1000"
   ]
  },
  {
   "cell_type": "code",
   "execution_count": 33,
   "metadata": {
    "slideshow": {
     "slide_type": "-"
    }
   },
   "outputs": [
    {
     "name": "stdout",
     "output_type": "stream",
     "text": [
      "Given a risk tolerance of 1000, the optimal capacity decision is 74.09\n"
     ]
    }
   ],
   "source": [
    "risk_tolerance = 1000\n",
    "result = minimize(neg_expected_exponential_utility_fixed_risk_tolerance, 100, args=(demands, risk_tolerance))\n",
    "print(f'Given a risk tolerance of {risk_tolerance}, the optimal capacity decision is {result.x[0]:.2f}')"
   ]
  },
  {
   "cell_type": "markdown",
   "metadata": {
    "slideshow": {
     "slide_type": "slide"
    }
   },
   "source": [
    "# Deciding / Optimizing with Risk Measures"
   ]
  },
  {
   "cell_type": "markdown",
   "metadata": {
    "slideshow": {
     "slide_type": "slide"
    }
   },
   "source": [
    "## The Value at Risk\n",
    "\n",
    "**The q%-Value at Risk (VaR$_q$) of an outcome distribution G**\n",
    "- is the outcome value separating the q% of the worst cases from the 1-q% of the best cases\n",
    "- corresponds to the *q-percentile* or the *q/100 quantile* of $G$\n",
    "- VaR is a risk measure often used in the financial industry and in risk reporting\n",
    "\n",
    "**Given a set of |S| samples from $G$, VaR$_q$(G) can be obtained by**\n",
    "- sorting the sample values $g_s$ in an increasing order and\n",
    "- selecting the sample with first index that is greater than $q/100|S|$\n",
    "- `numpy` offers functions for computing quantiles / percentiles:\n"
   ]
  },
  {
   "cell_type": "code",
   "execution_count": 34,
   "metadata": {
    "slideshow": {
     "slide_type": "-"
    }
   },
   "outputs": [
    {
     "name": "stdout",
     "output_type": "stream",
     "text": [
      "For a capacity decision of 83 , the 5.0 percent value at risk is -106.40\n"
     ]
    }
   ],
   "source": [
    "capacity = 83\n",
    "total_profit_samples = total_profit(capacity,demands)\n",
    "alpha =  0.05\n",
    "var_alpha = np.percentile(total_profit_samples, alpha*100)\n",
    "\n",
    "print(f\"For a capacity decision of {capacity} , the {alpha*100} percent value at risk is {var_alpha:0.2f}\")\n"
   ]
  },
  {
   "cell_type": "markdown",
   "metadata": {
    "slideshow": {
     "slide_type": "slide"
    }
   },
   "source": [
    "## Conditional Value at Risk\n",
    "\n",
    "A **disadvantage** of VaR is that it does not consider **how bad** the outcomes below the VaR are\n",
    "\n",
    "\n",
    "This is overcome by the **Conditional Value at Risk** (CVar). The **q%-CVaR (CVaR$_q$)** corresponds to\n",
    "- the average / expected value of the distribution of values below VaR\n",
    "- it is also called **Expected Shortfall**\n",
    "\n",
    "**Given a set of |S| samples from $G$, CVaR$_q$(G) can be approximated by**\n",
    "- taking the average of all samples $g_s$ falling below  VaR\n"
   ]
  },
  {
   "cell_type": "code",
   "execution_count": 35,
   "metadata": {},
   "outputs": [
    {
     "name": "stdout",
     "output_type": "stream",
     "text": [
      "For a capacity decision of 83 , the 5.0 percent conditional value at risk is -543.01\n"
     ]
    }
   ],
   "source": [
    "total_profit_below_var = total_profit_samples[total_profit_samples <= var_alpha] \n",
    "cvar_alpha = total_profit_below_var.mean()\n",
    "print(f\"For a capacity decision of {capacity} , the {alpha*100} percent conditional value at risk is {cvar_alpha:0.2f}\")"
   ]
  },
  {
   "cell_type": "markdown",
   "metadata": {
    "hide_input": true,
    "slideshow": {
     "slide_type": "slide"
    }
   },
   "source": [
    "## Value at Risk and Conditional Value at Risk\n",
    "\n",
    "Let us visualize these Value at Risk and Condidtional Value at Risk along with the histogram of the distribution:\n"
   ]
  },
  {
   "cell_type": "code",
   "execution_count": 36,
   "metadata": {
    "hide_input": false,
    "slideshow": {
     "slide_type": "-"
    }
   },
   "outputs": [
    {
     "data": {
      "image/png": "[encoded data removed]",
      "text/plain": [
       "<Figure size 432x288 with 1 Axes>"
      ]
     },
     "metadata": {
      "needs_background": "light"
     },
     "output_type": "display_data"
    }
   ],
   "source": [
    "\n",
    "# plot value at risk according to different\n",
    "\n",
    "\n",
    "count, bins, ignored = plt.hist(total_profit_samples, bins=30, density=True, color='#EEEEEE', edgecolor=\"#AAAAAA\", range =[-1000,1000])\n",
    "\n",
    "plt.suptitle(f'VaR and CVaR for a capacity of {capacity}')\n",
    "plt.axvline(x=var_alpha, label = f'{alpha*100}%-Var')\n",
    "plt.axvline(x=cvar_alpha, label = f'{alpha*100}%-CVar',color='r')\n",
    "plt.xlabel('Total Profit')\n",
    "plt.legend()\n",
    "plt.show()"
   ]
  },
  {
   "cell_type": "markdown",
   "metadata": {
    "slideshow": {
     "slide_type": "slide"
    }
   },
   "source": [
    "## Comparing CVaR and VaR for different capacities\n",
    "\n",
    "Now, we compare VaR and CVaR for two capacity decisions that have almost the same expected total profit: 63 and 100"
   ]
  },
  {
   "cell_type": "code",
   "execution_count": 37,
   "metadata": {
    "hide_input": false,
    "scrolled": true,
    "slideshow": {
     "slide_type": "-"
    }
   },
   "outputs": [
    {
     "data": {
      "image/png": "[encoded data removed]",
      "text/plain": [
       "<Figure size 720x288 with 2 Axes>"
      ]
     },
     "metadata": {
      "needs_background": "light"
     },
     "output_type": "display_data"
    }
   ],
   "source": [
    "values_to_plot = [63, 100]\n",
    "\n",
    "\n",
    "fig, axes = plt.subplots(1, len(values_to_plot), figsize=(5*len(values_to_plot), 4), constrained_layout=True, sharey=True)\n",
    "\n",
    "for index in range(len(values_to_plot)):\n",
    "    \n",
    "    capacity =values_to_plot[index]\n",
    "    total_profit_samples = total_profit(capacity,demands)\n",
    "\n",
    "    var_alpha = np.percentile(total_profit_samples, alpha*100)\n",
    "\n",
    "    total_pr_below_var = total_profit_samples[total_profit_samples <= var_alpha] \n",
    "\n",
    "    \n",
    "    cvar_alpha = total_pr_below_var.mean()\n",
    "\n",
    "    #print(cvar_q)\n",
    "    \n",
    "    count, bins, ignored = axes[index].hist(total_profit_samples, bins=30, density=True, color='#EEEEEE', edgecolor=\"#AAAAAA\", range =[-1000,1000])\n",
    "    axes[index].set_title(f'VaR and CVaR for a capacity of {capacity}')\n",
    "    axes[index].axvline(x=var_alpha, label = f'{alpha*100}%-Var')\n",
    "    axes[index].axvline(x=cvar_alpha, label = f'{alpha*100}%-CVar',color='r')\n",
    "    axes[index].set_xlabel('Total Profit')\n",
    "    axes[index].legend()\n",
    "\n",
    "#plt.savefig(\"var_and_cvar_comparison.pdf\",bbox_inches=\"tight\")\n",
    "plt.show()\n"
   ]
  },
  {
   "cell_type": "markdown",
   "metadata": {
    "slideshow": {
     "slide_type": "slide"
    }
   },
   "source": [
    "\n",
    "## Value at Risk and Conditional Value at Risk\n",
    "\n",
    "\n",
    "**A note on notation**\n",
    "\n",
    "In the literature, there are two ways of writing VaR and CVaR:\n",
    "- using  $1-\\alpha$ as subscript:  VaR$_{1-\\alpha}$, e.g. VaR$_{0.95}$\n",
    "- using only $\\alpha$ as subscript: VaR$_\\alpha$, e.g. VaR$_{0.05}$\n",
    "- we will use the latter version"
   ]
  },
  {
   "cell_type": "markdown",
   "metadata": {
    "slideshow": {
     "slide_type": "slide"
    }
   },
   "source": [
    "## Mean-Risk Objective Functions to Account for Risk Aversion\n",
    "\n",
    "For decision making and optimization under uncertainty, we can use risk measures in so-called **mean-risk** objectives:\n",
    "\n",
    "- similar to the shortfall penalty, we augment the objective by adding the risk measure (call it $h(x,D)$ here) with a weight $\\lambda$\n",
    "- the mean-risk objective to be maximized then becomes:\n",
    "\n",
    "$$f^{mean-risk}(x,D) = E(f(x,D)) + \\lambda h(x,D)$$\n",
    "\n",
    "Here, we consider the tow cases VaR and CVaR:\n",
    "\n",
    "$$f^{mean-VaR}(x,D) = E(f(x,D))+ \\lambda \\mathrm{VaR}(x,D)$$\n",
    "\n",
    "$$f^{mean-CVaR}(x,D) = E(f(x,D))+ \\lambda \\mathrm{CVaR}(x,D)$$"
   ]
  },
  {
   "cell_type": "markdown",
   "metadata": {
    "slideshow": {
     "slide_type": "slide"
    }
   },
   "source": [
    "##  Optimizing a Mean-Risk Objective with CVaR\n",
    "\n",
    "Example implementation using `scipy.optimize`"
   ]
  },
  {
   "cell_type": "code",
   "execution_count": 39,
   "metadata": {},
   "outputs": [
    {
     "name": "stdout",
     "output_type": "stream",
     "text": [
      "Given a weight (lambda) of 2 and alpha= 0.05, the optimal capacity decision is 53.71\n"
     ]
    }
   ],
   "source": [
    "def compute_cvar(sample_approximation, alpha):\n",
    "    \n",
    "    var_alpha = np.percentile(sample_approximation, alpha*100)\n",
    "\n",
    "    total_pr_below_var = sample_approximation[sample_approximation <= var_alpha] \n",
    "\n",
    "    return total_pr_below_var.mean()\n",
    "\n",
    "\n",
    "def mean_risk_objective_cvar(sample_approximation,lambd,alpha):\n",
    "    return np.mean(sample_approximation) + lambd*compute_cvar(sample_approximation,alpha)\n",
    "\n",
    "lambd = 2\n",
    "alpha = 0.05 \n",
    "\n",
    "def neg_mean_risk_capacity(capacity):\n",
    "    return -1*mean_risk_objective_cvar(total_profit(capacity,demand_sample),lambd,alpha)\n",
    "\n",
    "result = minimize(neg_mean_risk_capacity, 100)\n",
    "\n",
    "print(f'Given a weight (lambda) of {lambd} and alpha= {alpha}, the optimal capacity decision is {result.x[0]:.2f}')"
   ]
  },
  {
   "cell_type": "markdown",
   "metadata": {
    "slideshow": {
     "slide_type": "slide"
    }
   },
   "source": [
    "# Mean-Risk Optimization with CVaR in Optimization under Uncertainty\n"
   ]
  },
  {
   "cell_type": "markdown",
   "metadata": {
    "slideshow": {
     "slide_type": "slide"
    }
   },
   "source": [
    "##  VaR and CVaR in Optimization under Uncertainty\n",
    "\n",
    "\n",
    "**Ex-post-computation of VaR and CVaR**\n",
    "- we can use the distribution of outcomes, in case of sampling simply\n",
    "  $\\mathbf{g} = [g_s]_{s \\in S}$\n",
    "- and compute VaR and CVaR:"
   ]
  },
  {
   "cell_type": "code",
   "execution_count": null,
   "metadata": {
    "slideshow": {
     "slide_type": "-"
    }
   },
   "outputs": [],
   "source": [
    "VaR_sample = np.percentile(profit_samples, alpha*100,interpolation='lower')\n",
    "profits_below_var = profit_samples[profit_samples <= VaR_sample] \n",
    "CVaR_sample = profits_below_var.mean()\n",
    "\n",
    "print(f'VaR from profit samples: {VaR_sample:.02f}')\n",
    "print(f'CVaR from profit samples: {CVaR_sample:.02f}')"
   ]
  },
  {
   "cell_type": "markdown",
   "metadata": {
    "slideshow": {
     "slide_type": "slide"
    }
   },
   "source": [
    "## Mean-Risk-Optimization with VaR and CVaR in Stochastic Programming\n",
    "- surprisingly, optimizing VaR is (much) harder than optimizing CVaR\n",
    "- in this part, we will see a model for optimizing CVaR\n",
    "- we may discuss the techniques for optimizing VaR next week"
   ]
  },
  {
   "cell_type": "markdown",
   "metadata": {
    "slideshow": {
     "slide_type": "slide"
    }
   },
   "source": [
    "## Mean-Risk Optimization with CVaR: Optimization Model"
   ]
  },
  {
   "cell_type": "markdown",
   "metadata": {
    "cell_style": "split",
    "slideshow": {
     "slide_type": "-"
    }
   },
   "source": [
    "**New Parameters:**\n",
    "- $\\alpha$: probability parameter for VaR and CVaR\n",
    "- $\\lambda$: weight for CVaR"
   ]
  },
  {
   "cell_type": "markdown",
   "metadata": {
    "cell_style": "split",
    "slideshow": {
     "slide_type": "-"
    }
   },
   "source": [
    "**New Variables:**\n",
    "- $v_s$: shortfall below VaR\n",
    "- $VaR$: Value at Risk\n",
    "- $CVaR$: Conditional Value at Risk"
   ]
  },
  {
   "cell_type": "markdown",
   "metadata": {
    "cell_style": "center",
    "slideshow": {
     "slide_type": "-"
    }
   },
   "source": [
    "\n",
    " \\begin{align*}\n",
    "        \\max \\;\t\t\t\t&\\sum_{s \\in S}  p_s g_s + \\lambda CVaR\\\\\n",
    "        \\text{s.t.} \\qquad   g_s\t&=  -30x +  40z_s\\qquad\t\t&\\forall s \\in S \\\\  \n",
    "                         z_s\t\t&\\leq d_s \\qquad\t\t&\\forall s \\in S \\\\\n",
    "         z_s\t\t\t\t&\\leq x \\qquad\t\t\t&\\forall s \\in S \\\\   \n",
    "\t v_s\t\t\t\t&\\geq VaR - g_s\t\t\t&\\forall s \\in S \\\\  \n",
    "         CVaR\t\t\t\t&= VaR - \\frac{1}{\\alpha}\\sum_{s \\in S} p_s v_s \\qquad\t\t\t \\\\                  \n",
    "                         x\t\t&\\geq 0 \\\\\n",
    "\t\t\t v_s\t\t&\\geq 0, z_s \\geq 0 \\qquad\t&\\forall s \\in S\t\t\t \n",
    "\\end{align*}\n"
   ]
  },
  {
   "cell_type": "markdown",
   "metadata": {
    "slideshow": {
     "slide_type": "slide"
    }
   },
   "source": [
    "## Mean-Risk Optimization with CVaR: Python Implemementation"
   ]
  },
  {
   "cell_type": "code",
   "execution_count": null,
   "metadata": {
    "slideshow": {
     "slide_type": "-"
    }
   },
   "outputs": [],
   "source": [
    "# parameters for the mean-risk model\n",
    "alpha = 0.05\n",
    "lambd = 0.2\n",
    "\n",
    "# Create a new model\n",
    "m = mip.Model(\"Capacity_Planning_Stochastic_Mean_Risk\")\n",
    "\n",
    "#decision variables\n",
    "capacity =  m.add_var(name=\"capacity\", lb=0)\n",
    "production = [m.add_var(name=f\"production{s}\",lb=0 ) for s in scenarios]\n",
    "\n",
    "## this is the profit variable (scenario-dependent)\n",
    "profit = [m.add_var(name=f\"profit{s}\",  lb=-np.inf) for s in scenarios]\n",
    "\n",
    "shortfall = [m.add_var(name=f\"shortfall{s}\",  lb=0) for s in scenarios] # scenario-dependent!\n",
    "\n",
    "VaR = m.add_var(name=\"VaR\", lb=-np.inf)\n",
    "CVaR = m.add_var(name=\"CVaR\", lb=-np.inf)\n",
    "\n",
    "# in the objective, we now add a variable for the shortfall\n",
    "m.objective =  maximize( sum(prob[s] * profit[s] for s in scenarios)  + lambd*CVaR ) \n",
    "\n",
    "for s in scenarios:   \n",
    "    m += profit[s]  == -installation_cost*capacity + contribution_margin * production[s] # computes the profit for scenario s\n",
    "    m += production[s] <= demand_sample[s]\n",
    "    m += production[s] <= capacity \n",
    "    \n",
    "    # computing shortfall below VaR\n",
    "    m += shortfall[s] >= VaR - profit[s]\n",
    "\n",
    "# Relating CVar and VaR\n",
    "m += CVaR == VaR - 1/alpha* sum((1/n_scenarios)*shortfall[s] for s in scenarios)"
   ]
  },
  {
   "cell_type": "markdown",
   "metadata": {
    "slideshow": {
     "slide_type": "slide"
    }
   },
   "source": [
    "## Mean-Risk Optimization with CVaR: Results"
   ]
  },
  {
   "cell_type": "code",
   "execution_count": null,
   "metadata": {
    "slideshow": {
     "slide_type": "-"
    }
   },
   "outputs": [],
   "source": [
    "m.optimize()\n",
    "\n",
    "print(f'Results for a alpha = {alpha} and lambda = {lambd}')\n",
    "print(f'Capacity decision: {capacity.x:.02f}')\n",
    "print(f'Objective function value: {m.objective_value:.02f}' )\n",
    "\n",
    "profit_samples = np.array( [ profit[s].x for s in scenarios ])\n",
    "print(f' Expected Profit: {np.mean(profit_samples):.02f}')\n",
    "print(f'CVaR variable: {CVaR.x:.02f}')\n",
    "print(f'VaR variable: {VaR.x:.02f}')"
   ]
  },
  {
   "cell_type": "markdown",
   "metadata": {},
   "source": [
    "# Risk Aversion and Neglecting Dependencies"
   ]
  },
  {
   "cell_type": "markdown",
   "metadata": {},
   "source": [
    "## Case Study: A Farmer's Problem (Deterministic)\n",
    "\n",
    "- a farmer has 450 acres of farmland and now has to decide how many\n",
    "  acres to plant with the three crops wheat, corn and beets\n",
    "- he needs some amount of  each crop for feeding his cattle\n",
    "- if he harvests less than needed, he can buy crops on the market\n",
    "- surplus can be sold on the market\n",
    "\n",
    "\n",
    "| parameter          | unit       | wheat | corn | beets |\n",
    "|:-------------------|:-----------|-------|------|-------|\n",
    "| crop yield         | t per acre |   2.5 |    3 |    12 |\n",
    "| planting costs     | \\$ per acre |   150 |  180 |   210 |\n",
    "| needed for feeding | t          |   200 |  250 |   720 |\n",
    "| buying price       | \\$ per t    |   290 |  260 |    70 |\n",
    "| selling price      | \\$ per t    |   200 |  180 |    45 |\n",
    "\n",
    "**How much area should the farmer devote to each crop to maximize his profit?**"
   ]
  },
  {
   "cell_type": "markdown",
   "metadata": {
    "slideshow": {
     "slide_type": "slide"
    }
   },
   "source": [
    "## Extension: Uncertain Crop Yields $h_i$\n",
    "\n",
    "\n",
    "**Crop yields are subject to uncertainty**\n",
    "- we now assume that crop yields are uncertain\n",
    "  - we assume that we have a **joint distribution** for yields accounting\n",
    "    for causal structure\n",
    "- planting decisions have to be taken before knowing crop yields\n",
    "- buying and selling can happen after harvesting the crops\n",
    "- we assume that buying and selling prices are **not** affected by uncertainty\n",
    "\n",
    "<img width='90%' src='img/farmer_information_structure.png'>"
   ]
  },
  {
   "cell_type": "markdown",
   "metadata": {
    "slideshow": {
     "slide_type": "slide"
    }
   },
   "source": [
    "## Exercise: Risk Aversion and Neglecting Dependencies?\n",
    "\n",
    "- create a set of **inconsistent crop yield samples / scenarios** for that case study\n",
    "  - hint: you may use the function ``np.random.permutation`` to \"shuffle\" the sample vectors for wheat, crop and corn (shuffle only \"within\" one type of crop, of course)\n",
    "- use the \"inconsistent\" crop yield for optimization\n",
    "  - using  expected profit as objective function\n",
    "  - using mean-risk with CVaR as objective function\n",
    " \n",
    "- compare those results to the results obtained with the consistent samples. What is the difference?"
   ]
  },
  {
   "cell_type": "code",
   "execution_count": null,
   "metadata": {},
   "outputs": [],
   "source": []
  },
  {
   "cell_type": "markdown",
   "metadata": {
    "slideshow": {
     "slide_type": "slide"
    }
   },
   "source": [
    "## Summary of the Results \n",
    "**In this case study,** neglecting dependencies\n",
    "- does not affect the expected value (and the decisions in an EV-Optimization)\n",
    "- but it leads to a massive underestimation of risk\n",
    "- and thus to wrong decisions when using risk-averse objectives!\n",
    "\n",
    "\n",
    "<img width='90%' src='img/farmer_results.png'>"
   ]
  },
  {
   "cell_type": "markdown",
   "metadata": {},
   "source": [
    "# Part II: Chance-Constrained Programming"
   ]
  },
  {
   "cell_type": "markdown",
   "metadata": {
    "slideshow": {
     "slide_type": "slide"
    }
   },
   "source": [
    "## Motivation\n",
    "\n",
    "In our case studies discussed so far, we assumed that there are second-stage decisions:\n",
    "- Capacity Planning: adapting production to demand\n",
    "- Farmer's problem: buying and selling crops on the market"
   ]
  },
  {
   "cell_type": "markdown",
   "metadata": {
    "slideshow": {
     "slide_type": "subslide"
    }
   },
   "source": [
    "**What if we assume that we cannot react?**\n",
    "- we will either have enforce a safe solution\n",
    "- or tolerate a certain violation\n",
    "- in many setting, we may see this as a **service level**\n",
    "  - for example, on-time guarantees in logistics"
   ]
  },
  {
   "cell_type": "markdown",
   "metadata": {
    "cell_style": "center",
    "slideshow": {
     "slide_type": "slide"
    }
   },
   "source": [
    "## Chance-Constrained Programming: Overview\n",
    "\n",
    "\n",
    "In this part, we learn how to create optimization models\n",
    "under uncertainty providing probabilistic guarantees\n",
    "\n",
    "**In particular, we will discuss**\n",
    "- how to model cases in which a single constraints are affected by\n",
    "  uncertainty using **chance constraints**\n",
    "- how to model **joint chance constraints** providing a feasibility\n",
    "  guarantee for problems in which multiple constraints are affected by\n",
    "  uncertainty\n",
    "- how to **improve joint chance constraint formulations** to make then solvable faster\n",
    "\n",
    " \n"
   ]
  },
  {
   "cell_type": "markdown",
   "metadata": {
    "slideshow": {
     "slide_type": "slide"
    }
   },
   "source": [
    "# Belt Manufacturing Case Study as an Illustration"
   ]
  },
  {
   "cell_type": "markdown",
   "metadata": {
    "slideshow": {
     "slide_type": "slide"
    }
   },
   "source": [
    "## Case Study: Manufacturing Belts\n",
    "\n",
    "- A small company manufactures two types of belts: A  and B. The contribution margin  \\\\$2 for an A-belt and \\\\$1.5 for a B-belt.\n",
    "- It plans the production for a week, and it can sell its full production to small chain of shops.\n",
    "- Producing a belt of type A takes twice as long as producing one of\n",
    "  type B, and the total time available in that week would allow\n",
    "  producing 1000 belts of type B if only B-belts were produced.\n",
    "- Both types of belts require the same amount of leather, and there is enough leather to produce 800 belts.\n",
    "- The total number that can be produced per type is limited by the number of available bucks: The company has 400 bucks for type A and 700 bucks for type B.\n",
    "\n",
    "Create an LP model that determines the number of belts from each type to produce if the shop aims at maximizing the total contribution margin!"
   ]
  },
  {
   "cell_type": "markdown",
   "metadata": {
    "slideshow": {
     "slide_type": "slide"
    }
   },
   "source": [
    "## Case Study: Manufacturing Belts - Deterministic LP\n",
    "\n",
    "**Set**\n",
    "- $I = \\{A,B\\}$ belt types\n",
    "\n",
    "**Decision Variables**\n",
    "- $x_i$: number of belts to produce from type $i$\n",
    "\n",
    "\\begin{align*}\n",
    "        \\max \\;          2x_A +1.5x_B  \\\\                  \n",
    "        \\text{s.t.} \\;   2x_A + x_B &\\leq 1000 \\\\\n",
    "\t\t    \t   x_A + x_B &\\leq 800 \\\\\n",
    "\t\t    \t   0 \\leq x_A &\\leq 400 \\\\\n",
    "\t\t    \t   0 \\leq x_B &\\leq 700 \n",
    "\\end{align*}\n",
    "\n",
    "The optimal production plan is $x_A=200, x_B=600$ yielding a total profit of $1300.\n"
   ]
  },
  {
   "cell_type": "markdown",
   "metadata": {
    "slideshow": {
     "slide_type": "slide"
    }
   },
   "source": [
    "## Case Study: Manufacturing Belts - Deterministic LP in Python"
   ]
  },
  {
   "cell_type": "code",
   "execution_count": null,
   "metadata": {
    "slideshow": {
     "slide_type": "-"
    }
   },
   "outputs": [],
   "source": [
    "belt_types = np.arange(2)\n",
    "profit_contribution = [2, 1.5]\n",
    "time_consumption = [2, 1]\n",
    "\n",
    "time_available = 1000\n",
    "leather_available = 800\n",
    "bucks_available = [400, 700]\n",
    "\n",
    "\n",
    "# Create a new model\n",
    "m = mip.Model(\"Belt_Production_Deterministic\")\n",
    "\n",
    "\n",
    "#decision variables\n",
    "production = [m.add_var(name= f\"production{b}\", lb=0, ub=bucks_available[b]) for b in belt_types]\n",
    "m.objective = maximize(sum(profit_contribution[b] * production[b] for b in belt_types))\n",
    "\n",
    "m += sum (time_consumption[b]*production[b] for b in belt_types) <= time_available \n",
    "m += sum (production[b] for b in belt_types) <= leather_available \n",
    "\n",
    "m.optimize()\n",
    "\n",
    "production_decisions = [production[b].x for b in belt_types]\n",
    "for b in belt_types:\n",
    "    print(f'Production belt {b}: {production[b].x}')\n",
    "print(f'Total Profit: {m.objective_value}' )\n",
    "\n"
   ]
  },
  {
   "cell_type": "markdown",
   "metadata": {
    "slideshow": {
     "slide_type": "slide"
    }
   },
   "source": [
    "## Uncertain Machine Time without Recourse\n",
    "\n",
    "\n",
    "- let us now assume that due to random machine failures, the **available\n",
    "  time is subject to uncertainty**\n",
    "- however, due to contractual obligation, the company has to commit to\n",
    "  a production plan **before** the machine time is known\n",
    "  - the production decisions are thus **here and now decisions**\n",
    "- in this part, we assume that there is **no recourse decision**\n",
    "- given that the random variable describing the available time is\n",
    "  $B_T$, the uncertain constraint is:\n",
    "\n",
    "\n",
    "$$2x_A + x_B \\leq B_T$$\n",
    "\n",
    "$\\rightarrow$ if our first-stage decisions are bad, the model becomes\n",
    "**infeasible for certain scenarios**"
   ]
  },
  {
   "cell_type": "markdown",
   "metadata": {
    "slideshow": {
     "slide_type": "slide"
    }
   },
   "source": [
    "## Uncertain Machine Time: The Data\n",
    "\n",
    "\n",
    "We assume that the machine time follows a normal distribution:"
   ]
  },
  {
   "cell_type": "code",
   "execution_count": null,
   "metadata": {},
   "outputs": [],
   "source": [
    "# avaible_time\n",
    "time_available_dist = stats.norm(1000,150)\n",
    "\n",
    "n_samples = 1000\n",
    "\n",
    "# we create a sample vector of demands (demand_dist was defined above), only using positive outcomes\n",
    "time_available_samples = np.maximum(time_available_dist.rvs(n_samples, random_state=42),0)\n",
    "\n",
    "count, bins, ignored = plt.hist(time_available_samples , bins=30, density=True, color='#EEEEEE', edgecolor=\"#AAAAAA\")\n",
    "plt.xlabel('time available')\n",
    "plt.show()"
   ]
  },
  {
   "cell_type": "markdown",
   "metadata": {
    "slideshow": {
     "slide_type": "slide"
    }
   },
   "source": [
    "## Uncertain Machine Time: How likely is it that our Solution is Infeasible?\n",
    "\n",
    "The following function can be used to estimate the feasibility of a production plan:"
   ]
  },
  {
   "cell_type": "code",
   "execution_count": null,
   "metadata": {
    "slideshow": {
     "slide_type": "-"
    }
   },
   "outputs": [],
   "source": [
    "def probability_production_plan_is_feasible (production_decisions, time_available_samples):\n",
    "    return np.mean([2 * production_decisions[0] + production_decisions[1] <= time_available for time_available in time_available_samples])"
   ]
  },
  {
   "cell_type": "markdown",
   "metadata": {
    "slideshow": {
     "slide_type": "-"
    }
   },
   "source": [
    "Let's apply it to our optimal deterministic decision:"
   ]
  },
  {
   "cell_type": "code",
   "execution_count": null,
   "metadata": {
    "slideshow": {
     "slide_type": "-"
    }
   },
   "outputs": [],
   "source": [
    "probability_of_feasibility =  probability_production_plan_is_feasible (production_decisions, time_available_samples)\n",
    "\n",
    "print (f'The production plan is feasible with probability {probability_of_feasibility:.02f}')"
   ]
  },
  {
   "cell_type": "markdown",
   "metadata": {
    "slideshow": {
     "slide_type": "slide"
    }
   },
   "source": [
    "# Ensuring Feasibility"
   ]
  },
  {
   "cell_type": "markdown",
   "metadata": {
    "slideshow": {
     "slide_type": "slide"
    }
   },
   "source": [
    "## Enforcing Feasibility for each Scenario?\n",
    "\n",
    "What if we want to establish feasibility for each scenario?\n",
    "- the time constraint becomes: $\\quad 2x_A + x_B \\leq b_{T,s} \\qquad \\forall s \\in S$\n",
    "- which is equivalent to the single constraint:\n",
    " $\\quad 2x_A + x_B \\leq \\min\\limits_{s \\in S} b_{T,s}$\n",
    "- note that $\\min\\limits_{s \\in S} b_{T,s}$ can be  computed **before** solving the problem"
   ]
  },
  {
   "cell_type": "markdown",
   "metadata": {
    "slideshow": {
     "slide_type": "fragment"
    }
   },
   "source": [
    "Note that this approach, sometimes called **fat solution**, \n",
    "- is extremely conservative / pessimistic \n",
    "- may lead  completely infeasible model instances in more complex cases\n",
    "- depends a lot on the samples that are drawn:\n",
    "  - different samples can result in very different solutions\n",
    "  - more samples tend to result in more pessimistic decisions"
   ]
  },
  {
   "cell_type": "markdown",
   "metadata": {
    "slideshow": {
     "slide_type": "slide"
    }
   },
   "source": [
    "### Ensuring Feasibility for each Scenario\n",
    "\n",
    "If we want the model to be feasible for each scenario, we just use the minimum of the available time over all sample values."
   ]
  },
  {
   "cell_type": "code",
   "execution_count": null,
   "metadata": {
    "slideshow": {
     "slide_type": "-"
    }
   },
   "outputs": [],
   "source": [
    "# Create a new model\n",
    "m = mip.Model(\"Belt_Production_Pessimistic\")\n",
    "\n",
    "min_time_avaible = np.min(time_available_samples)\n",
    "\n",
    "#decision variables\n",
    "production = [m.add_var(name= f\"production{b}\", lb=0, ub=bucks_available[b]) for b in belt_types]\n",
    "\n",
    "m.objective = maximize(sum(profit_contribution[b] * production[b] for b in belt_types))\n",
    "\n",
    "# we change this variable\n",
    "m += sum (time_consumption[b]*production[b] for b in belt_types) <= min_time_avaible \n",
    "m += sum (production[b] for b in belt_types) <= leather_available \n",
    "\n",
    "m.optimize()\n",
    "\n",
    "production_decisions = [production[b].x for b in belt_types]\n",
    "for b in belt_types:\n",
    "    print(f'Production belt {b}: {production[b].x}')\n",
    "print(f'Total Profit: {m.objective_value}' )"
   ]
  },
  {
   "cell_type": "markdown",
   "metadata": {
    "slideshow": {
     "slide_type": "slide"
    }
   },
   "source": [
    "### Ensuring Feasibility for each Scenario: Evaluating the Solution\n",
    "\n",
    "We may evaluate the solution, and of course it should be feasible"
   ]
  },
  {
   "cell_type": "code",
   "execution_count": null,
   "metadata": {
    "slideshow": {
     "slide_type": "-"
    }
   },
   "outputs": [],
   "source": [
    "probability_of_feasibility =  probability_production_plan_is_feasible (production_decisions, time_available_samples)\n",
    "\n",
    "print (f'The production plan is feasible with probability {probability_of_feasibility:.02f}')"
   ]
  },
  {
   "cell_type": "markdown",
   "metadata": {
    "slideshow": {
     "slide_type": "fragment"
    }
   },
   "source": [
    "We may also evaluate it using a new sample, resulting in a so-called *out-of-sample* evaluation"
   ]
  },
  {
   "cell_type": "code",
   "execution_count": null,
   "metadata": {
    "slideshow": {
     "slide_type": "-"
    }
   },
   "outputs": [],
   "source": [
    "probability_of_feasibility =  probability_production_plan_is_feasible (production_decisions, time_available_dist.rvs(100000, random_state=42))\n",
    "\n",
    "print (f'The production plan is feasible with probability {probability_of_feasibility}')"
   ]
  },
  {
   "cell_type": "markdown",
   "metadata": {
    "slideshow": {
     "slide_type": "fragment"
    }
   },
   "source": [
    "**Exercise:** \n",
    "\n",
    "Experiment with different samples of the same size and samples of different sizes and see the effects on the decisions and on the profit!"
   ]
  },
  {
   "cell_type": "markdown",
   "metadata": {
    "slideshow": {
     "slide_type": "slide"
    }
   },
   "source": [
    "# Chance Constraints"
   ]
  },
  {
   "cell_type": "markdown",
   "metadata": {
    "slideshow": {
     "slide_type": "slide"
    }
   },
   "source": [
    "## Chance Constraints: Key Idea\n",
    "\n",
    "**Key Idea:**\n",
    "- 100% feasibility is often very expensive\n",
    "- instead ensure that the probability of feasibility is $\\geq \\alpha$\n",
    "\n",
    "Formally expressed, given a constraint $C$, a **chance constraint** can be written as:\n",
    "\n",
    "$$P(C\\: \\mathrm{holds}) \\geq \\alpha$$\n",
    "\n",
    "In our example, given $B_T$ as the random variable for available time:\n",
    "\n",
    "$$P(2x_A + x_B \\leq B_T) \\geq \\alpha$$\n",
    "\n",
    "- if only a single constraint is affected by uncertainty, a single\n",
    "  chance constraint ensures that the solution is feasible with a probability $\\geq \\alpha$\n",
    "- if more constraints are uncertain, we have **joint chance constraints** (considered in video 2)"
   ]
  },
  {
   "cell_type": "markdown",
   "metadata": {
    "slideshow": {
     "slide_type": "slide"
    }
   },
   "source": [
    "## How to Model a Chance Constraint?\n",
    "\n",
    "Given that $B_T$ is a random variable and $\\alpha$ is\n",
    "the desired probability of feasibility, how can we model the chance constraint:\n",
    "\n",
    "$$P(2x_A + x_B \\leq B_T) \\geq \\alpha$$\n",
    "\n",
    "**Key Idea:**\n",
    "    \n",
    "Assume that we have a set $S$ of scenarios. Then we can approximate\n",
    "the chance constraint by ensuring that the constraint is violated in\n",
    "at most $(1-\\alpha)|S|$ scenarios\n",
    "- we can achieve this by sorting the scenarios from the most to the least restricting  and\n",
    "- taking the value $b^{\\alpha}_{T}$ below which $(1-\\alpha)|S|$\n",
    "  values fall and using it in the right hand side of the constraint:\n",
    "\n",
    "\n",
    "$$2x_A + x_B \\leq b^{1-\\alpha}_{T}$$\n",
    "\n",
    "- this way, there are at most $\\alpha |S|$ scenarios violating the  constraint \n",
    "- for example, in case of $\\alpha=0.95$ and $|S|$ = 1000,\n",
    "  $b^{1-\\alpha}_{T,s}$ is the 51th-smallest value from all scenarios\n",
    "\n",
    "\n"
   ]
  },
  {
   "cell_type": "markdown",
   "metadata": {
    "slideshow": {
     "slide_type": "slide"
    }
   },
   "source": [
    "## Chance Constraints Using Quantiles\n",
    "\n",
    "- observe that the value $b^{1-\\alpha}_{T}$ corresponds to the\n",
    "  $(1-\\alpha)$ quantile of the sample distribution\n",
    "- thus, if we have a random distribution for which we can compute the\n",
    "  $(1-\\alpha)$ quantile directly (without sampling), we can use it without resorting to sampling\n",
    "- for our example, the full model looks as follows:\n",
    "\n",
    "\n",
    "$\\begin{align*}\n",
    "        \\max \\;          2x_A +1.5x_B  \\\\                  \n",
    "        \\text{s.t.} \\;   2x_A + x_B &\\leq b^{1-\\alpha}_{T} \\\\\n",
    "\t\t    \t   x_A + x_B &\\leq 800 \\\\\n",
    "\t\t    \t   0 \\leq x_A &\\leq 400 \\\\\n",
    "\t\t    \t   0 \\leq x_B &\\leq 700 \n",
    "\\end{align*}$\n",
    "\n",
    "- observe that the model does *not* involve scenarios but has\n",
    "  the same size as the deterministic model - we only replace $b_T$ with $b^{1-\\alpha}_T$.\n"
   ]
  },
  {
   "cell_type": "markdown",
   "metadata": {
    "slideshow": {
     "slide_type": "slide"
    }
   },
   "source": [
    "### Individual Chance Constraints\n",
    "\n",
    "Given that we have a single chance constraint, we can ensure feasibility with probability $\\alpha$ by replacing the uncertain right hand side parameter with the $1-\\alpha$-quantile of the distribution.\n",
    "\n"
   ]
  },
  {
   "cell_type": "code",
   "execution_count": null,
   "metadata": {
    "slideshow": {
     "slide_type": "-"
    }
   },
   "outputs": [],
   "source": [
    "# Create a new model\n",
    "m = mip.Model(\"Belt_Production_Single_Chance_Constraint\")\n",
    "\n",
    "\n",
    "alpha = 0.95\n",
    "\n",
    "#in scipy stats, we get the quantile using the function ppf (inverse cumulative distribution function)\n",
    "# we may also get the quantile from the set of samples!\n",
    "time_available_quantile = time_available_dist.ppf(1-alpha)\n",
    "\n",
    "#decision variables\n",
    "production = [m.add_var(name= f\"production{b}\", lb=0, ub=bucks_available[b]) for b in belt_types]\n",
    "\n",
    "m.objective = maximize(sum(profit_contribution[b] * production[b] for b in belt_types))\n",
    "\n",
    "# we change this variable\n",
    "m += sum (time_consumption[b]*production[b] for b in belt_types) <= time_available_quantile\n",
    "m += sum (production[b] for b in belt_types) <= leather_available "
   ]
  },
  {
   "cell_type": "markdown",
   "metadata": {
    "slideshow": {
     "slide_type": "slide"
    }
   },
   "source": [
    "### Individual Chance Constraints: Solving and Evaluating the Model"
   ]
  },
  {
   "cell_type": "code",
   "execution_count": null,
   "metadata": {
    "slideshow": {
     "slide_type": "-"
    }
   },
   "outputs": [],
   "source": [
    "m.optimize()\n",
    "\n",
    "production_decisions = [production[b].x for b in belt_types]\n",
    "\n",
    "for b in belt_types:\n",
    "    print(f'Production belt {b}: {production[b].x}')\n",
    "print(f'Total Profit: {m.objective_value}' )"
   ]
  },
  {
   "cell_type": "markdown",
   "metadata": {
    "slideshow": {
     "slide_type": "fragment"
    }
   },
   "source": [
    "Let us use Monte-Carlo simulation to verify:"
   ]
  },
  {
   "cell_type": "code",
   "execution_count": null,
   "metadata": {
    "scrolled": true,
    "slideshow": {
     "slide_type": "-"
    }
   },
   "outputs": [],
   "source": [
    "    \n",
    "      \n",
    "# let's evaluate feasibility using sampling!\n",
    "probability_of_feasibility_from_sampling =  probability_production_plan_is_feasible (production_decisions, time_available_dist.rvs(5000, random_state=42))\n",
    "\n",
    "print (f'Using Monte Carlo, the production plan is feasible with probability {probability_of_feasibility_from_sampling :.02f}')"
   ]
  },
  {
   "cell_type": "markdown",
   "metadata": {
    "slideshow": {
     "slide_type": "slide"
    }
   },
   "source": [
    "# Joint Chance Contraints"
   ]
  },
  {
   "cell_type": "markdown",
   "metadata": {
    "slideshow": {
     "slide_type": "slide"
    }
   },
   "source": [
    "## But: What Happens in Case of  Multiple Uncertain Constraints?\n",
    "\n",
    "**Let us now assume that both resource constraints are uncertain:**\n",
    "- no only time, but also leather capacity is affected by uncertainty, e.g. due\n",
    "  to quality issues, represented by the random variable $B_L$\n",
    "- as in the time case, there is no second-stage / recourse decision is available\n",
    "\n",
    "**Question:** How can we ensure that our plan is feasible with a probability of $\\alpha$?\n",
    "\n",
    "- more formally, how can we ensure the so-called *joint chance constraint*\n",
    "\n",
    "$$ P \\left( \\begin{array}{r}  2 x_A + x_B \\leq B_T \\\\  x_A + x_B \\leq B_L \\end{array} \\right) \\geq \\alpha$$ \n"
   ]
  },
  {
   "cell_type": "markdown",
   "metadata": {
    "slideshow": {
     "slide_type": "slide"
    }
   },
   "source": [
    "## Uncertain Leather Availability: Probability Distribution\n",
    "\n",
    "We assume that leather availability is normally distributed:"
   ]
  },
  {
   "cell_type": "code",
   "execution_count": null,
   "metadata": {
    "slideshow": {
     "slide_type": "-"
    }
   },
   "outputs": [],
   "source": [
    "# available leather\n",
    "leather_available_dist = stats.norm(800,100)\n",
    "\n",
    "\n",
    "# we create a sample vector of demands (demand_dist was defined above), only using positive outcomes\n",
    "leather_available_samples = np.maximum(leather_available_dist.rvs(n_samples, random_state=42),0)\n",
    "\n",
    "count, bins, ignored = plt.hist(leather_available_samples , bins=30, density=True, color='#EEEEEE', edgecolor=\"#AAAAAA\")\n",
    "plt.xlabel('leather available')\n",
    "plt.show()"
   ]
  },
  {
   "cell_type": "markdown",
   "metadata": {
    "slideshow": {
     "slide_type": "slide"
    }
   },
   "source": [
    "## What about using two single chance constraints to model the joint chance constraint?\n",
    "\n",
    "\n",
    "We may enforce that\n",
    "\n",
    "$P(2x_A + x_B \\leq B_{T}) \\geq \\alpha$ **and**  $P(x_A + x_B \\leq B_{L}) \\geq \\alpha$ \n",
    "\n",
    "\n",
    "by the following constraints:\n",
    "\n",
    " \\begin{align*}\n",
    "  2x_A + x_B &\\leq b^{1-\\alpha}_{T} \\\\\n",
    "   x_A + x_B &\\leq b^{1-\\alpha}_{L} \n",
    "\\end{align*}\n",
    "\n",
    "\n",
    "\n",
    "**Does this imply that the problem is feasible with  probability  $\\alpha$?**\n",
    "- Let's check in Python"
   ]
  },
  {
   "cell_type": "markdown",
   "metadata": {
    "slideshow": {
     "slide_type": "slide"
    }
   },
   "source": [
    "## Quantile-Based Model for Two Chance Constraints in Python"
   ]
  },
  {
   "cell_type": "code",
   "execution_count": null,
   "metadata": {
    "slideshow": {
     "slide_type": "-"
    }
   },
   "outputs": [],
   "source": [
    "# Create a new model\n",
    "m = mip.Model(\"Belt_Production_Single_Chance_Constraint\")\n",
    "m.verbose=1\n",
    "belt_types = np.arange(2)\n",
    "profit_contribution = [2, 1.5]\n",
    "time_consumption = [2, 1]\n",
    "bucks_available = [400, 700]\n",
    "\n",
    "alpha = 0.95\n",
    "\n",
    "#in scipy stats, we get the quantile using the function ppf (inverse cumulative distribution function)\n",
    "# we may also get the quantile from the set of samples!\n",
    "time_available_quantile = time_available_dist.ppf(1-alpha)\n",
    "leather_available_quantile = leather_available_dist.ppf(1-alpha)\n",
    "\n",
    "\n",
    "#decision variables\n",
    "production = [m.add_var(name= f\"production{b}\", lb=0, ub=bucks_available[b]) for b in belt_types]\n",
    "\n",
    "m.objective = maximize(sum(profit_contribution[b] * production[b] for b in belt_types))\n",
    "\n",
    "# we change this variable\n",
    "m += sum (time_consumption[b]*production[b] for b in belt_types) <= time_available_quantile\n",
    "m += sum (production[b] for b in belt_types) <= leather_available_quantile\n",
    "\n",
    "m.optimize()\n",
    "production_decisions = [production[b].x for b in belt_types]\n",
    "\n",
    "for b in belt_types:\n",
    "    print(f'Production belt {b}: {production[b].x}')\n",
    "print(f'Total Profit: {m.objective_value}' )\n"
   ]
  },
  {
   "cell_type": "markdown",
   "metadata": {
    "slideshow": {
     "slide_type": "slide"
    }
   },
   "source": [
    "## Quantile-Based Model for Two Chance Constraints: Evaluation in Python\n",
    "\n",
    "- in our model, we built the two constraints with $\\alpha=0.95$\n",
    "- how high is the probability that the solution is feasible with respect to both constraints?\n"
   ]
  },
  {
   "cell_type": "code",
   "execution_count": null,
   "metadata": {
    "slideshow": {
     "slide_type": "fragment"
    }
   },
   "outputs": [],
   "source": [
    "\n",
    "\n",
    "print(f'We want to ensure feasibility with probability {alpha}')\n",
    "\n",
    "\n",
    "def probability_production_plan_is_feasible_time_and_leather  (production_decisions, time_available_samples, leather_available_samples):\n",
    "    n_samples = time_available_samples.size\n",
    "    feasible_samples = np.array([2 * production_decisions[0] + production_decisions[1] <= time_available_samples[s] \n",
    "                                 and production_decisions[0] + production_decisions[1] <= leather_available_samples[s] for s in range(n_samples)])\n",
    "    return np.mean(feasible_samples)\n",
    "\n",
    "n_samples_for_evaluation = 5000\n",
    "samples_time = time_available_dist.rvs(n_samples_for_evaluation)\n",
    "samples_leather = leather_available_dist.rvs(n_samples_for_evaluation)\n",
    "\n",
    "probability_of_feasibility_from_sampling = probability_production_plan_is_feasible_time_and_leather (production_decisions, samples_time, samples_leather )\n",
    "\n",
    "\n",
    "print (f'Based on a Monte-Carlo approximation the production plan is feasible with probability {probability_of_feasibility_from_sampling :.02f}')\n"
   ]
  },
  {
   "cell_type": "markdown",
   "metadata": {
    "slideshow": {
     "slide_type": "slide"
    }
   },
   "source": [
    "## Using Multiple Individual Chance Constraints?\n",
    "\n",
    "As we learned in our example, in general, given a set of $n$ constraints affected by uncertainty and\n",
    "a desired feasibility probability $\\alpha$, the *joint chance\n",
    "constraint* \n",
    "\n",
    "$$P( C_j \\: \\mathrm{holds} \\quad \\forall j=1\\ldots n) \\geq \\alpha$$ \n",
    "\n",
    "is **not** enforced by using a set of single chance constraints of the form\n",
    "\n",
    "$$P( C_j \\: \\mathrm{ holds} ) \\geq \\alpha \\quad \\forall j=1\\ldots n$$\n",
    "\n",
    "\n",
    "**Question**: How can we enforce a such joint chance constraint?\n",
    "- note that in case of multiple uncertain constraints, the scenarios\n",
    "  can no longer be ordered according to strictness of constraints\n",
    "- for example, given two scenarios in the belt production case study,\n",
    "  one may have a smaller $b_T$ and the other a smaller $b_L$\n"
   ]
  },
  {
   "cell_type": "markdown",
   "metadata": {
    "slideshow": {
     "slide_type": "slide"
    }
   },
   "source": [
    "# Using Binary Variables for Modelling Joint Chance Constraints"
   ]
  },
  {
   "cell_type": "markdown",
   "metadata": {
    "slideshow": {
     "slide_type": "slide"
    }
   },
   "source": [
    "## Modeling Chance Constraints using Scenarios and Binary Variables\n",
    "\n",
    "**Key Idea: Let the solver decide which scenarios should hold**\n",
    "\n",
    "- introduce a binary variable $y_s$ for each scenario $s \\in S$:\n",
    "  - $y_s = 0$ means that in scenario $s$, all uncertain constraints hold\n",
    "  - $y_s = 1$ means that in scenario $s$, at least one constraint may be violated\n",
    "\n",
    "- introduce a constraint that ensures that the total probability of\n",
    "  all scenarios for which $y_s = 1$ is $\\leq 1-\\alpha$:\n",
    "  $$\\sum_{s \\in S} p_s y_s \\leq 1-\\alpha$$\n",
    "\n",
    "- introduce a \"scenario realization\" for each uncertain constraint\n",
    "  and each scenario $s$ and link that constraint to $y_s$ to switch it on or off\n",
    "\n",
    " \\begin{align*}\n",
    "2x_A + x_B &\\leq b_{T,s} + M_T y_s &\\forall s \\in S\\\\\n",
    " x_A + x_B &\\leq b_{L,s} + M_L y_s &\\forall s \\in S\n",
    "\\end{align*}\n",
    "\n"
   ]
  },
  {
   "cell_type": "markdown",
   "metadata": {
    "slideshow": {
     "slide_type": "slide"
    }
   },
   "source": [
    "## The Model with Joint Chance Constraints"
   ]
  },
  {
   "cell_type": "markdown",
   "metadata": {
    "cell_style": "split",
    "slideshow": {
     "slide_type": "-"
    }
   },
   "source": [
    "**Sets**\n",
    "- $S$: scenarios\n",
    "   \n",
    "**Decision Variables:**\n",
    "- $x_i$: number of belts to produce from type $i$\n",
    "- $y_s$: binary indicator variable for infeasibility in scenario $s$\n"
   ]
  },
  {
   "cell_type": "markdown",
   "metadata": {
    "cell_style": "split",
    "slideshow": {
     "slide_type": "-"
    }
   },
   "source": [
    "**Parameters:**\n",
    "- $p_s$: probability of scenarios $s$\n",
    "- $b_{r,s}$: availability from resource $r$ (time, leather) in scenario $s$\n",
    "- $M_r$: big-M value for resource $r$ used to switch off constraint\n"
   ]
  },
  {
   "cell_type": "markdown",
   "metadata": {
    "slideshow": {
     "slide_type": "-"
    }
   },
   "source": [
    "\n",
    "\\begin{align*}\n",
    "        \\max \\;          2x_A +1.5x_B  \\\\                  \n",
    "        \\text{s.t.} \\;   2x_A + x_B &\\leq b_{T,s} + M_T y_s &\\forall s \\in S\\\\\n",
    "\t\t    \t   x_A + x_B &\\leq b_{L,s} + M_L y_s &\\forall s \\in S\\\\\n",
    "\t\t\t   \\sum_{s \\in S} p_s y_s &\\leq 1-\\alpha \\\\\n",
    "\t\t    \t   0 \\leq x_A &\\leq 400 \\\\\n",
    "\t\t    \t   0 \\leq x_B &\\leq 700 \\\\\n",
    "\t\t\t   y_s &\\in \\{0,1\\} &\\forall s \\in S\n",
    "\\end{align*}\n",
    "\n",
    "\n"
   ]
  },
  {
   "cell_type": "markdown",
   "metadata": {
    "slideshow": {
     "slide_type": "slide"
    }
   },
   "source": [
    "## The Model with Joint Chance Constraints in Python"
   ]
  },
  {
   "cell_type": "code",
   "execution_count": null,
   "metadata": {
    "slideshow": {
     "slide_type": "-"
    }
   },
   "outputs": [],
   "source": [
    "alpha = 0.95\n",
    "n_scenarios = 500\n",
    "scenarios = np.arange(n_scenarios)\n",
    "time_available = time_available_dist.rvs(n_scenarios, random_state=5)\n",
    "leather_available = leather_available_dist.rvs(n_scenarios,  random_state=7)"
   ]
  },
  {
   "cell_type": "code",
   "execution_count": null,
   "metadata": {
    "slideshow": {
     "slide_type": "-"
    }
   },
   "outputs": [],
   "source": [
    "m = mip.Model(\"Belt_Production_Joint_Chance_Constraints\")\n",
    "\n",
    "#probability of each scenario\n",
    "prob = np.full((n_scenarios), 1.0/n_scenarios)\n",
    "\n",
    "\n",
    "#bigM is used for switching off constraints by adding it to the resource capacity in a scenario\n",
    "#if it is chosen as difference between the max and min capacity, it is definitely large enough to switch off the constraint\n",
    "bigM = [max(time_available)-min(time_available),max(leather_available)-min(leather_available)]\n",
    "\n",
    "#decision variables\n",
    "production = [m.add_var(name= f\"production{b}\", lb=0, ub=bucks_available[b]) for b in belt_types]\n",
    "\n",
    "#y-variable\n",
    "is_scenario_violated = [m.add_var(name=f\"is_feasible{s}\", var_type=mip.BINARY ) for s in scenarios]\n",
    "\n",
    "m.objective = maximize(sum(profit_contribution[b] * production[b] for b in belt_types))\n",
    "\n",
    "# one set of constraints per scenario\n",
    "for s in scenarios:\n",
    "    m += sum (time_consumption[b]*production[b] for b in belt_types) <= time_available[s] + bigM[0]*(is_scenario_violated[s])\n",
    "    m += sum (production[b] for b in belt_types) <= leather_available[s] + bigM[1]*(is_scenario_violated[s])\n",
    "\n",
    "# ensure that the right number of scenarios hold\n",
    "m += sum(prob[s]*is_scenario_violated[s] for s in scenarios) <= 1-alpha - 2.0 / n_scenarios"
   ]
  },
  {
   "cell_type": "markdown",
   "metadata": {
    "slideshow": {
     "slide_type": "slide"
    }
   },
   "source": [
    "## The Model with Joint Chance Constraints In Python\n"
   ]
  },
  {
   "cell_type": "code",
   "execution_count": null,
   "metadata": {
    "slideshow": {
     "slide_type": "-"
    }
   },
   "outputs": [],
   "source": [
    "from time import time\n",
    "\n",
    "start_time = time()\n",
    "m.optimize()\n",
    "print(f\"Solution time: {time()-start_time} seconds\")\n",
    "\n",
    "production_decisions = [production[b].x for b in belt_types]\n",
    "for b in belt_types:\n",
    "    print(f'Production belt {b}: {production[b].x}')\n",
    "print(f'Total Profit: {m.objective_value}' )"
   ]
  },
  {
   "cell_type": "markdown",
   "metadata": {
    "slideshow": {
     "slide_type": "fragment"
    }
   },
   "source": [
    "Let us now evaluate the probability of having an infeasible model.\n",
    "\n",
    "- first, using the same 500 samples we used in the model"
   ]
  },
  {
   "cell_type": "code",
   "execution_count": null,
   "metadata": {
    "slideshow": {
     "slide_type": "-"
    }
   },
   "outputs": [],
   "source": [
    "print(f'We want to ensure feasibility with probability {alpha}')\n",
    "probability_of_feasibility_from_sampling = probability_production_plan_is_feasible_time_and_leather (production_decisions, time_available, leather_available)\n",
    "\n",
    "print (f'Using Monte Carlo for the samples used in the optimization, the production plan is feasible with probability {probability_of_feasibility_from_sampling :.02f}')"
   ]
  },
  {
   "cell_type": "markdown",
   "metadata": {
    "slideshow": {
     "slide_type": "fragment"
    }
   },
   "source": [
    "- and then, using 5000 new sample (out-of-sample evaluation)"
   ]
  },
  {
   "cell_type": "code",
   "execution_count": null,
   "metadata": {
    "slideshow": {
     "slide_type": "-"
    }
   },
   "outputs": [],
   "source": [
    "n_samples_for_evaluation = 10000\n",
    "probability_of_feasibility_from_sampling = probability_production_plan_is_feasible_time_and_leather (production_decisions, time_available_dist.rvs(n_samples_for_evaluation), leather_available_dist.rvs(n_samples_for_evaluation))\n",
    "\n",
    "print (f'Using Monte Carlo with different samples, the production plan is feasible with probability {probability_of_feasibility_from_sampling :.03f}')"
   ]
  },
  {
   "cell_type": "markdown",
   "metadata": {
    "slideshow": {
     "slide_type": "slide"
    }
   },
   "source": [
    "## The Model is Hard to Solve\n",
    "\n",
    "**What makes the model hard to solve?**\n",
    "- many binary variables along with BigM-constraints\n",
    "- a lot of symmetry (many equivalent or almost equivalent solutions)\n",
    "\n",
    "**Can we do something about it?**\n",
    "- **yes:** we can improve the model by adding information that we know about the problem\n",
    "\n",
    "\n",
    "**Idea 1**: We can use the fact that some scenarios are more restricted than others \n",
    "\n",
    "\n",
    "**Idea 2**: Based on that, we can tell in advance that some scenarios\n",
    "won't belong to the $1-\\alpha$ for which constraints are violated\n"
   ]
  },
  {
   "cell_type": "markdown",
   "metadata": {
    "slideshow": {
     "slide_type": "slide"
    }
   },
   "source": [
    "## Idea 1: Some Scenarios are Restricted More than others: Enforcing Order Relations\n",
    "\n",
    "\n",
    "Consider three scenarios:\n",
    "\n",
    "| s | $p_s$ | $b_{T,s}$ | $b_{L,s}$ |\n",
    "|-----|-----|-----------|-----------|\n",
    "| 1 | 1/3 |       900 |      1100 |\n",
    "| 2 | 1/3 |      1000 |       800 |\n",
    "| 3 | 1/3 |      1000 |      1200 |\n",
    "\n",
    "- we cannot completely order these scenarios (no *total ordering*)\n",
    "- but we see that 3 is less strict than 1 *and* less strict than 2\n",
    "- and thus if a solution is infeasible for scenario 3, it is implied\n",
    "  that it is also infeasible in scenarios 1 and 2\n",
    "- we can add that information to the model  adding constraints:\n",
    "\n",
    "$$y_3 \\leq y_1$$\n",
    "$$y_3 \\leq y_2$$\n",
    "\n",
    "- adding these constraints help finding a solution faster since we add\n",
    "  information that the solver does not infer by itself\n",
    "- observe: there may be **many** of these constraints\n"
   ]
  },
  {
   "cell_type": "markdown",
   "metadata": {
    "slideshow": {
     "slide_type": "slide"
    }
   },
   "source": [
    "## Idea 2: Eliminating / Fixing y-Variables\n",
    "Given idea 1, we can infer that for a given $\\alpha$, certain scenarios are \"safe\"\n",
    "\n",
    "Consider three scenarios:\n",
    "\n",
    "| s | $p_s$ | $b_{T,s}$ | $b_{L,s}$ |\n",
    "|---|-----|-----------|-----------|\n",
    "| 1 | 1/3 |       900 |      1100 |\n",
    "| 2 | 1/3 |      1000 |       800 |\n",
    "| 3 | 1/3 |      1000 |      1200 |\n",
    "\n",
    "\n",
    "**Example:** Consider the scenarios from the table and let $\\alpha=2/3$\n",
    "- we know that at most one scenario is allowed to be violated\n",
    "- since scenario 3 is less strict than the other two, we know that\n",
    "  $y_3$ will be 0 in the optimal solution\n",
    "- we can thus either fix the variable to 0  or eliminate it right away\n"
   ]
  },
  {
   "cell_type": "markdown",
   "metadata": {
    "slideshow": {
     "slide_type": "slide"
    }
   },
   "source": [
    "## Evaluating Idea 2:  Fix Y-Variables for Scenarios that Won't be Violated"
   ]
  },
  {
   "cell_type": "markdown",
   "metadata": {
    "slideshow": {
     "slide_type": "-"
    }
   },
   "source": [
    "*Observe: Here, we assume that all scenarios are equally likely. However, the apporach can be generalized to account for general scenario probabilities $p_s$*\n",
    "\n",
    "**Python Implementation:**\n",
    "\n",
    "We first compute the number of stricter scenarios for each scenario:"
   ]
  },
  {
   "cell_type": "code",
   "execution_count": null,
   "metadata": {
    "slideshow": {
     "slide_type": "-"
    }
   },
   "outputs": [],
   "source": [
    "number_of_stricter_scenarios = np.zeros(n_scenarios)\n",
    "\n",
    "for s1 in scenarios:\n",
    "    for s2 in range(s1+1,n_scenarios):\n",
    "        if leather_available[s1] <= leather_available[s2] and time_available[s1] <= time_available[s2]:\n",
    "            number_of_stricter_scenarios[s2] += 1            \n",
    "        elif leather_available[s1] >= leather_available[s2] and time_available[s1] >= time_available[s2]:\n",
    "            number_of_stricter_scenarios[s1] += 1\n",
    "            "
   ]
  },
  {
   "cell_type": "markdown",
   "metadata": {
    "slideshow": {
     "slide_type": "fragment"
    }
   },
   "source": [
    "For a given set of scenarios $S$ and for a given $\\alpha$:\n",
    "- if at most  $(1-\\alpha)|S|$ scenarios are violated, our desired feasibility probability is reached\n",
    "- thus, if, for a given scenario $s$, more than $(1-\\alpha)|S|$ scenarios are stricter than $s$, then these will be violated \"before\" $s$ and thus do not need to be considered\n",
    "- in the model on the next slide, we force the y variables of these scenarios to be zero\n"
   ]
  },
  {
   "cell_type": "markdown",
   "metadata": {
    "slideshow": {
     "slide_type": "slide"
    }
   },
   "source": [
    "## Evaluating Idea 2: The Model"
   ]
  },
  {
   "cell_type": "code",
   "execution_count": null,
   "metadata": {},
   "outputs": [],
   "source": [
    "m = mip.Model(\"Belt_Production_Joint_Chance_Constraints_only_idea_2\")\n",
    "\n",
    "#probability of each scenario\n",
    "prob = np.full((n_scenarios), 1.0/n_scenarios)\n",
    "\n",
    "alpha = 0.95\n",
    "\n",
    "production = [m.add_var(name= f\"production{b}\", lb=0, ub=bucks_available[b]) for b in belt_types]\n",
    "\n",
    "#y-variable\n",
    "is_scenario_violated = [m.add_var(name=f\"is_feasible{s}\", var_type=mip.BINARY ) for s in scenarios]\n",
    "\n",
    "m.objective = maximize(sum(profit_contribution[b] * production[b] for b in belt_types))\n",
    "\n",
    "# one set of constraints per scenario\n",
    "for s in scenarios:\n",
    "    m += sum (time_consumption[b]*production[b] for b in belt_types) <= time_available[s] + bigM[0]*(is_scenario_violated[s])\n",
    "    m += sum (production[b] for b in belt_types) <= leather_available[s] + bigM[1]*(is_scenario_violated[s])\n",
    "\n",
    "# ensure that the right number of scenarios hold\n",
    "m += sum(prob[s]*is_scenario_violated[s] for s in scenarios) <= 1-alpha\n",
    "\n",
    "# the new set of constraints\n",
    "for s in scenarios:\n",
    "    if number_of_stricter_scenarios[s] >= (1-alpha)*n_scenarios:\n",
    "        m += is_scenario_violated[s] == 0\n"
   ]
  },
  {
   "cell_type": "markdown",
   "metadata": {
    "slideshow": {
     "slide_type": "slide"
    }
   },
   "source": [
    "## Evaluating Idea 2: Solution time\n",
    "\n",
    "Let us solve the model: How long does it take?"
   ]
  },
  {
   "cell_type": "code",
   "execution_count": null,
   "metadata": {
    "slideshow": {
     "slide_type": "-"
    }
   },
   "outputs": [],
   "source": [
    "\n",
    "start_time = time()\n",
    "\n",
    "m.optimize()\n",
    "\n",
    "print(f\"Solution time: {time()-start_time}\")\n",
    "    \n",
    "production_decisions = [production[b].x for b in belt_types]\n",
    "\n",
    "print(f'We want to ensure feasibility with probability {alpha}')\n",
    "\n",
    "for b in belt_types:\n",
    "    print(f'Production belt {b}: {production[b].x}')\n",
    "print(f'Total Profit: {m.objective_value}' )"
   ]
  },
  {
   "cell_type": "markdown",
   "metadata": {
    "slideshow": {
     "slide_type": "slide"
    }
   },
   "source": [
    "## Summary\n",
    "\n",
    "In the two parts of this meeting, we dealt with approaches for avoiding undesired outcomes:\n",
    "\n",
    "#### Part I:  Risk Orientation / Decision-Making as Shaping Distributions\n",
    "- Decision Making under Uncertainty as Shaping Distributions\n",
    "- Comparing Distributions: Stochastic Dominance\n",
    "- Shaping Distributions by Incorporating Risk Attitude into Decision / Optimization Models\n",
    "\n",
    "#### Part II: Feasibility Guarantees by Chance-Constrained Programming\n",
    "- Feasibility Issues in Single-Stage Problems under Uncertainty\n",
    "- Single Chance Constraints\n",
    "- Joint Chance Constraints\n",
    "- Improving Chance-Constrained Programming Formulations\n",
    "\n"
   ]
  }
 ],
 "metadata": {
  "celltoolbar": "Slideshow",
  "kernelspec": {
   "display_name": "Python [conda env:playground]",
   "language": "python",
   "name": "conda-env-playground-py"
  },
  "language_info": {
   "codemirror_mode": {
    "name": "ipython",
    "version": 3
   },
   "file_extension": ".py",
   "mimetype": "text/x-python",
   "name": "python",
   "nbconvert_exporter": "python",
   "pygments_lexer": "ipython3",
   "version": "3.7.10"
  },
  "toc": {
   "base_numbering": 1,
   "nav_menu": {},
   "number_sections": false,
   "sideBar": true,
   "skip_h1_title": false,
   "title_cell": "Table of Contents",
   "title_sidebar": "Contents",
   "toc_cell": false,
   "toc_position": {},
   "toc_section_display": true,
   "toc_window_display": false
  },
  "varInspector": {
   "cols": {
    "lenName": 16,
    "lenType": 16,
    "lenVar": 40
   },
   "kernels_config": {
    "python": {
     "delete_cmd_postfix": "",
     "delete_cmd_prefix": "del ",
     "library": "var_list.py",
     "varRefreshCmd": "print(var_dic_list())"
    },
    "r": {
     "delete_cmd_postfix": ") ",
     "delete_cmd_prefix": "rm(",
     "library": "var_list.r",
     "varRefreshCmd": "cat(var_dic_list()) "
    }
   },
   "types_to_exclude": [
    "module",
    "function",
    "builtin_function_or_method",
    "instance",
    "_Feature"
   ],
   "window_display": false
  }
 },
 "nbformat": 4,
 "nbformat_minor": 2
}
